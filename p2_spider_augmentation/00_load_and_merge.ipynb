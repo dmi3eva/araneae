{
  "nbformat": 4,
  "nbformat_minor": 0,
  "metadata": {
    "colab": {
      "name": "00_load_and_merge",
      "provenance": [],
      "collapsed_sections": [],
      "authorship_tag": "ABX9TyO8jJFnJs3MRve/i8KNApQa",
      "include_colab_link": true
    },
    "kernelspec": {
      "name": "python3",
      "display_name": "Python 3"
    },
    "language_info": {
      "name": "python"
    }
  },
  "cells": [
    {
      "cell_type": "markdown",
      "metadata": {
        "id": "view-in-github",
        "colab_type": "text"
      },
      "source": [
        "<a href=\"https://colab.research.google.com/github/dmi3eva/araneae/blob/main/p2_spider_augmentation/00_load_and_merge.ipynb\" target=\"_parent\"><img src=\"https://colab.research.google.com/assets/colab-badge.svg\" alt=\"Open In Colab\"/></a>"
      ]
    },
    {
      "cell_type": "markdown",
      "metadata": {
        "id": "DVQX-zV9duKt"
      },
      "source": [
        "### Drive's mounting"
      ]
    },
    {
      "cell_type": "code",
      "metadata": {
        "colab": {
          "base_uri": "https://localhost:8080/"
        },
        "id": "Nz3WK1JTblXq",
        "outputId": "9d3523f7-bdb6-4a14-c525-757210109c49"
      },
      "source": [
        "from google.colab import drive\n",
        "drive.mount('/content/drive')"
      ],
      "execution_count": 1,
      "outputs": [
        {
          "output_type": "stream",
          "text": [
            "Mounted at /content/drive\n"
          ],
          "name": "stdout"
        }
      ]
    },
    {
      "cell_type": "code",
      "metadata": {
        "colab": {
          "base_uri": "https://localhost:8080/"
        },
        "id": "u5Jhvm3McCbv",
        "outputId": "15dffb71-a598-4d3d-db82-262d142e1273"
      },
      "source": [
        "%cd /content\n",
        "%cd drive\n",
        "%cd My\\ Drive\n",
        "%cd PhD\n",
        "%cd Paper_01"
      ],
      "execution_count": 2,
      "outputs": [
        {
          "output_type": "stream",
          "text": [
            "/content\n",
            "/content/drive\n",
            "/content/drive/My Drive\n",
            "/content/drive/My Drive/PhD\n",
            "/content/drive/My Drive/PhD/Paper_01\n"
          ],
          "name": "stdout"
        }
      ]
    },
    {
      "cell_type": "code",
      "metadata": {
        "colab": {
          "base_uri": "https://localhost:8080/"
        },
        "id": "45Wccnsidf8p",
        "outputId": "5344a6cd-0330-4363-dcd6-86f6d48cb12f"
      },
      "source": [
        "%cd datasets\n",
        "%cd spider"
      ],
      "execution_count": 3,
      "outputs": [
        {
          "output_type": "stream",
          "text": [
            "/content/drive/My Drive/PhD/Paper_01/datasets\n",
            "/content/drive/My Drive/PhD/Paper_01/datasets/spider\n"
          ],
          "name": "stdout"
        }
      ]
    },
    {
      "cell_type": "markdown",
      "metadata": {
        "id": "eBEeO5VTd4dX"
      },
      "source": [
        "### Extraction"
      ]
    },
    {
      "cell_type": "code",
      "metadata": {
        "id": "bfPbA2ufd-yD"
      },
      "source": [
        "!unzip -q database.zip"
      ],
      "execution_count": 5,
      "outputs": []
    },
    {
      "cell_type": "markdown",
      "metadata": {
        "id": "9pxO5_AzfqFD"
      },
      "source": [
        "### Merge"
      ]
    },
    {
      "cell_type": "code",
      "metadata": {
        "id": "eKnj_IDjfpgN"
      },
      "source": [
        "import json"
      ],
      "execution_count": 6,
      "outputs": []
    },
    {
      "cell_type": "code",
      "metadata": {
        "id": "ZudhR307gCst"
      },
      "source": [
        "with open(\"dev.json\") as json_file:\n",
        "    dev_spider = json.load(json_file)"
      ],
      "execution_count": 7,
      "outputs": []
    },
    {
      "cell_type": "code",
      "metadata": {
        "id": "YU-BslL0gd9e"
      },
      "source": [
        "with open(\"train_spider.json\") as json_file:\n",
        "    train_spider = json.load(json_file)"
      ],
      "execution_count": 8,
      "outputs": []
    },
    {
      "cell_type": "code",
      "metadata": {
        "id": "7AEKoj6XgeuP"
      },
      "source": [
        "with open(\"train_others.json\") as json_file:\n",
        "    others_spider = json.load(json_file)"
      ],
      "execution_count": 9,
      "outputs": []
    },
    {
      "cell_type": "code",
      "metadata": {
        "id": "lxPzLA8wgw8w"
      },
      "source": [
        "araneae = dev_spider + train_spider + others_spider"
      ],
      "execution_count": 10,
      "outputs": []
    },
    {
      "cell_type": "code",
      "metadata": {
        "colab": {
          "base_uri": "https://localhost:8080/"
        },
        "id": "b1lvDY5mg4MZ",
        "outputId": "041783e8-2204-4ccf-f3e5-b0b57864f79e"
      },
      "source": [
        "len(araneae)"
      ],
      "execution_count": 12,
      "outputs": [
        {
          "output_type": "execute_result",
          "data": {
            "text/plain": [
              "9693"
            ]
          },
          "metadata": {
            "tags": []
          },
          "execution_count": 12
        }
      ]
    },
    {
      "cell_type": "code",
      "metadata": {
        "id": "HO0dRmT_hB1J"
      },
      "source": [
        "with open('../araneae/araneae_basic.json', 'w') as json_file:\n",
        "    json.dump(araneae, json_file)"
      ],
      "execution_count": 14,
      "outputs": []
    }
  ]
}