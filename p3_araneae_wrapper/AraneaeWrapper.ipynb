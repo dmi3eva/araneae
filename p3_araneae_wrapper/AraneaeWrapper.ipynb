{
  "nbformat": 4,
  "nbformat_minor": 0,
  "metadata": {
    "colab": {
      "name": "AraneaeWrapper.ipynb",
      "provenance": [],
      "collapsed_sections": [],
      "authorship_tag": "ABX9TyNJB75i6yh1lTYtzlLmwOdn",
      "include_colab_link": true
    },
    "kernelspec": {
      "name": "python3",
      "display_name": "Python 3"
    },
    "language_info": {
      "name": "python"
    }
  },
  "cells": [
    {
      "cell_type": "markdown",
      "metadata": {
        "id": "view-in-github",
        "colab_type": "text"
      },
      "source": [
        "<a href=\"https://colab.research.google.com/github/dmi3eva/araneae/blob/main/p3_araneae_wrapper/AraneaeWrapper.ipynb\" target=\"_parent\"><img src=\"https://colab.research.google.com/assets/colab-badge.svg\" alt=\"Open In Colab\"/></a>"
      ]
    },
    {
      "cell_type": "code",
      "metadata": {
        "id": "61k2KeVqGQ2i",
        "colab": {
          "base_uri": "https://localhost:8080/"
        },
        "outputId": "feff8030-17ba-489e-8afd-945eff3e63a6"
      },
      "source": [
        "from google.colab import drive\n",
        "drive.mount('/content/drive')"
      ],
      "execution_count": 1,
      "outputs": [
        {
          "output_type": "stream",
          "text": [
            "Drive already mounted at /content/drive; to attempt to forcibly remount, call drive.mount(\"/content/drive\", force_remount=True).\n"
          ],
          "name": "stdout"
        }
      ]
    },
    {
      "cell_type": "markdown",
      "metadata": {
        "id": "Zxirzeey0h_8"
      },
      "source": [
        "### Preprocessing"
      ]
    },
    {
      "cell_type": "code",
      "metadata": {
        "colab": {
          "base_uri": "https://localhost:8080/"
        },
        "id": "T3_m-GcZ1rit",
        "outputId": "6ae62283-5020-4a6e-ea9d-7ccc2dc210c8"
      },
      "source": [
        "import nltk\n",
        "nltk.download('punkt')"
      ],
      "execution_count": 2,
      "outputs": [
        {
          "output_type": "stream",
          "text": [
            "[nltk_data] Downloading package punkt to /root/nltk_data...\n",
            "[nltk_data]   Package punkt is already up-to-date!\n"
          ],
          "name": "stdout"
        },
        {
          "output_type": "execute_result",
          "data": {
            "text/plain": [
              "True"
            ]
          },
          "metadata": {
            "tags": []
          },
          "execution_count": 2
        }
      ]
    },
    {
      "cell_type": "code",
      "metadata": {
        "colab": {
          "base_uri": "https://localhost:8080/"
        },
        "id": "Z8Fjy9lY0wac",
        "outputId": "9222eb1b-c0d8-44ab-e13d-5521e76a8ef6"
      },
      "source": [
        "%cd /content\n",
        "%cd drive\n",
        "%cd My\\ Drive\n",
        "%cd PhD\n",
        "%cd Paper_01\n",
        "%cd spider_preprocessing"
      ],
      "execution_count": 3,
      "outputs": [
        {
          "output_type": "stream",
          "text": [
            "/content\n",
            "/content/drive\n",
            "/content/drive/My Drive\n",
            "/content/drive/My Drive/PhD\n",
            "/content/drive/My Drive/PhD/Paper_01\n",
            "/content/drive/My Drive/PhD/Paper_01/spider_preprocessing\n"
          ],
          "name": "stdout"
        }
      ]
    },
    {
      "cell_type": "code",
      "metadata": {
        "id": "Elqns59708LE"
      },
      "source": [
        "from process_sql import *"
      ],
      "execution_count": 4,
      "outputs": []
    },
    {
      "cell_type": "markdown",
      "metadata": {
        "id": "tebEhJuaY5wZ"
      },
      "source": [
        "### Utils"
      ]
    },
    {
      "cell_type": "code",
      "metadata": {
        "id": "mcL9qHMQY7ww"
      },
      "source": [
        "def unfold_list(values):\n",
        "  unfolded_list = []\n",
        "  for _value in values:\n",
        "    if isinstance(_value, list):\n",
        "      unfolded_list += unfold_list(_value)\n",
        "    else:\n",
        "      new_value = _value\n",
        "      if isinstance(_value, float) and (int(_value) - _value < 0.01):\n",
        "        new_value = int(value)\n",
        "      unfolded_list.append(new_value)\n",
        "  return unfolded_list"
      ],
      "execution_count": 5,
      "outputs": []
    },
    {
      "cell_type": "code",
      "metadata": {
        "id": "XVCVPZ3dJQIZ"
      },
      "source": [
        "def preprocess_SQL(sentence, splitter='select'):\n",
        "    sentence = sentence.strip()\n",
        "    tokens = sentence.split()\n",
        "\n",
        "    # Убираем названия (новое)\n",
        "    if ' as ' in sentence.lower():\n",
        "      renaming = {}    \n",
        "      for i, _token in enumerate(tokens):\n",
        "        if _token.lower() == 'as':\n",
        "          sentence = sentence.replace(f'AS {tokens[i + 1]} ', '')\n",
        "          sentence = sentence.replace(tokens[i + 1], tokens[i - 1])\n",
        "    \n",
        "\n",
        "    # Сортируем аргументы SELECT\n",
        "    tokens = sentence.split()\n",
        "    select_part = []\n",
        "    select_tokens = []\n",
        "    before_tokens = []\n",
        "    after_tokens = []\n",
        "    select_flag = 'before'\n",
        "    for _token in tokens:  \n",
        "      if splitter in _token.lower():\n",
        "        select_flag = 'during'\n",
        "        before_tokens.append(_token)\n",
        "      elif select_flag == 'during' and 'from' != _token.lower().strip():\n",
        "        select_tokens.append(_token)\n",
        "      else:\n",
        "        if 'from' in _token.lower().strip():\n",
        "          select_flag = 'after'\n",
        "          after_tokens.append(_token)\n",
        "        elif select_flag == 'after':\n",
        "          after_tokens.append(_token)\n",
        "        else:\n",
        "          before_tokens.append(_token)\n",
        "\n",
        "    select_part = ' '.join(select_tokens)\n",
        "    select_tokens = select_part.split(',')\n",
        "    select_tokens = sorted([_t.strip() for _t in select_tokens])\n",
        "    select_part = ' , '.join(select_tokens)\n",
        "\n",
        "    sentence = \"{} {} {}\".format(' '.join(before_tokens), select_part, ' '.join(after_tokens))\n",
        "\n",
        "    # Убираем названия таблиц, если она одна\n",
        "    if '.' in sentence and not 'join' in sentence.lower():\n",
        "      tokens = sentence.split()          \n",
        "      new_tokens = []\n",
        "      for _token in tokens:  \n",
        "        if '.' in _token:\n",
        "          new_tokens.append(_token.split('.')[1])\n",
        "        else:\n",
        "          new_tokens.append(_token)\n",
        "      sentence = ' '.join(new_tokens)\n",
        "      \n",
        "    result = sentence.replace('* ', '*').replace(' * ', '*').replace(' ,', ',').replace('( ', '(').replace(' )', ')')\n",
        "    return result"
      ],
      "execution_count": 6,
      "outputs": []
    },
    {
      "cell_type": "markdown",
      "metadata": {
        "id": "5LZtBKMZF9Qc"
      },
      "source": [
        "### Main class"
      ]
    },
    {
      "cell_type": "code",
      "metadata": {
        "id": "QpooXPHGXSKM"
      },
      "source": [
        "import pandas as pd\n",
        "from copy import deepcopy\n",
        "from typing import Tuple"
      ],
      "execution_count": 7,
      "outputs": []
    },
    {
      "cell_type": "code",
      "metadata": {
        "id": "fReLyDcSFWvj"
      },
      "source": [
        "class AraneaeWrapper:\n",
        "  def __init__(self, samples_path, tables_path, db_path):\n",
        "    self.samples = []\n",
        "    self.db_path = db_path\n",
        "    with open(samples_path) as sample_file:\n",
        "      self.samples = json.load(sample_file)\n",
        "    with open(tables_path) as tables_file:\n",
        "      self.tables = json.load(tables_file)\n",
        "    for _sample in self.samples:\n",
        "      _sample = self.augment_sample(_sample)\n",
        "\n",
        "  def augment_sample(self, sample):\n",
        "    if 'description' not in sample.keys():\n",
        "      sample['description'] = {}\n",
        "    if 'tags' not in sample.keys():\n",
        "      sample['tags'] = []    \n",
        "    if 'question_toks' not in sample.keys():\n",
        "      sample['question_toks'] = tokenize(sample['question'])      \n",
        "    \n",
        "    if 'sql' not in sample.keys():\n",
        "      db_id = sample['db_id']\n",
        "      db = get_schema(f\"{self.db_path}/{db_id}/{db_id}.sqlite\")\n",
        "      schema = Schema(db)\n",
        "      sql_dict = get_sql(schema, sample['query'])\n",
        "      sample['sql'] = sql_dict\n",
        "      query_no_value = sample['query']\n",
        "      for _value in unfold_list(sql_dict['where']):\n",
        "        if str(_value) in query_no_value:\n",
        "          query_no_value = query_no_value.replace(str(_value), 'value')\n",
        "      sample['question_toks_no_value'] = tokenize(query_no_value)\n",
        "      \n",
        "    augmented_sample = deepcopy(sample)\n",
        "    augmented_sample = self.add_nl_tag(augmented_sample)\n",
        "    return augmented_sample\n",
        "\n",
        "  def add_nl_tag(self, sample):\n",
        "    if 'NL-length' in sample['description']:\n",
        "      return sample\n",
        "    tag = None\n",
        "    augmented_sample = deepcopy(sample)\n",
        "    request_len = len(sample['question_toks'])\n",
        "    if request_len <= 13:\n",
        "      tag = \"NL-short\"\n",
        "    elif request_len <= 17:\n",
        "      tag = \"NL-avg\"\n",
        "    else:\n",
        "      tag = \"NL-long\"\n",
        "    augmented_sample['tags'].append(tag)\n",
        "    augmented_sample['description']['NL-length'] = tag\n",
        "    return augmented_sample\n",
        "\n",
        "  def get_samples_with_tag(self, tag):\n",
        "    samples_with_tag = [_s for _s in self.samples if tag in _s['tags']]\n",
        "    return samples_with_tag\n",
        "\n",
        "  def add_sample(self, nl, db_id, sql, source, tag=None, description: Tuple[str, str]=(None, None)):\n",
        "    new_sample = {\n",
        "        'db_id': db_id,\n",
        "        'question': nl,\n",
        "        'source': source,\n",
        "        'query': preprocess_SQL(sql),\n",
        "        'tags': [],\n",
        "        'description': {}\n",
        "    }   \n",
        "    print(new_sample) \n",
        "    if tag:\n",
        "      new_sample['tags'].append(tag)\n",
        "    if description[0] and description[1]:\n",
        "      new_sample['description'][description[0]] = description[1]\n",
        "    new_sample = self.augment_sample(new_sample)\n",
        "    self.samples.append(new_sample)\n",
        "\n",
        "  def add_samples_from_csv(self, file_path, tag=None, description: Tuple[str, str]=(None, None)):\n",
        "    new_samples = pd.read_csv(file_path)\n",
        "    for ind, row in new_samples.iterrows():\n",
        "      self.add_sample(row['nl'], row['db_id'], row['sql'], file_path, tag=tag, description=description)\n",
        "\n",
        "  def save_in_json(self, file_path):\n",
        "    with open(file_path, 'w') as json_file:\n",
        "      json.dump(self.samples, json_file)"
      ],
      "execution_count": 8,
      "outputs": []
    },
    {
      "cell_type": "markdown",
      "metadata": {
        "id": "7KCtbI8hs6Lk"
      },
      "source": [
        "### Spider preprocessing"
      ]
    },
    {
      "cell_type": "code",
      "metadata": {
        "colab": {
          "base_uri": "https://localhost:8080/"
        },
        "id": "KEYVKSw-ttcs",
        "outputId": "2f177644-a041-488f-b13f-34fa2f2305ed"
      },
      "source": [
        "%cd /content\n",
        "%cd drive\n",
        "%cd My\\ Drive\n",
        "%cd PhD\n",
        "%cd Paper_01\n",
        "%cd spider_preprocessing"
      ],
      "execution_count": 49,
      "outputs": [
        {
          "output_type": "stream",
          "text": [
            "/content\n",
            "/content/drive\n",
            "/content/drive/My Drive\n",
            "/content/drive/My Drive/PhD\n",
            "/content/drive/My Drive/PhD/Paper_01\n",
            "/content/drive/My Drive/PhD/Paper_01/spider_preprocessing\n"
          ],
          "name": "stdout"
        }
      ]
    },
    {
      "cell_type": "code",
      "metadata": {
        "colab": {
          "base_uri": "https://localhost:8080/"
        },
        "id": "VtVLm-7js61c",
        "outputId": "aa2f9aba-26bb-4b65-8518-1028baf041a1"
      },
      "source": [
        "!git clone https://github.com/taoyds/spider"
      ],
      "execution_count": 50,
      "outputs": [
        {
          "output_type": "stream",
          "text": [
            "Cloning into 'spider'...\n",
            "remote: Enumerating objects: 380, done.\u001b[K\n",
            "remote: Counting objects: 100% (19/19), done.\u001b[K\n",
            "remote: Compressing objects: 100% (19/19), done.\u001b[K\n",
            "remote: Total 380 (delta 8), reused 0 (delta 0), pack-reused 361\u001b[K\n",
            "Receiving objects: 100% (380/380), 44.95 MiB | 15.96 MiB/s, done.\n",
            "Resolving deltas: 100% (102/102), done.\n",
            "Checking out files: 100% (261/261), done.\n"
          ],
          "name": "stdout"
        }
      ]
    },
    {
      "cell_type": "markdown",
      "metadata": {
        "id": "Ov841oxKF_9C"
      },
      "source": [
        "### Тест"
      ]
    },
    {
      "cell_type": "code",
      "metadata": {
        "colab": {
          "base_uri": "https://localhost:8080/"
        },
        "id": "RknGfWOLaI_E",
        "outputId": "ecb5bd18-bc0a-40ec-bf70-45d1d6c89e4a"
      },
      "source": [
        "%cd /content\n",
        "%cd drive\n",
        "%cd My\\ Drive\n",
        "%cd PhD\n",
        "%cd Paper_01"
      ],
      "execution_count": 9,
      "outputs": [
        {
          "output_type": "stream",
          "text": [
            "/content\n",
            "/content/drive\n",
            "/content/drive/My Drive\n",
            "/content/drive/My Drive/PhD\n",
            "/content/drive/My Drive/PhD/Paper_01\n"
          ],
          "name": "stdout"
        }
      ]
    },
    {
      "cell_type": "code",
      "metadata": {
        "id": "X6yQvL4_aPdT"
      },
      "source": [
        "import json"
      ],
      "execution_count": 10,
      "outputs": []
    },
    {
      "cell_type": "code",
      "metadata": {
        "id": "s8KUnQCoaQPK"
      },
      "source": [
        "araneae = AraneaeWrapper(\"datasets/araneae/araneae.json\", \"datasets/spider/tables.json\", \"datasets/spider/database\")"
      ],
      "execution_count": 11,
      "outputs": []
    },
    {
      "cell_type": "code",
      "metadata": {
        "id": "zwYc2HD2-2ly"
      },
      "source": [
        "araneae.add_samples_from_csv(\"datasets/to_add/binary_values.csv\", tag='binary-values', description=('values', 'containing-binary'))"
      ],
      "execution_count": null,
      "outputs": []
    },
    {
      "cell_type": "code",
      "metadata": {
        "id": "6HWdoWlgd46L"
      },
      "source": [
        "araneae.get_samples_with_tag('binary-values')[0]"
      ],
      "execution_count": null,
      "outputs": []
    },
    {
      "cell_type": "markdown",
      "metadata": {
        "id": "9egwfes58Ey3"
      },
      "source": [
        "### Tests' zone"
      ]
    },
    {
      "cell_type": "markdown",
      "metadata": {
        "id": "8AcMr75fRZYW"
      },
      "source": [
        "Tokenization from Spider"
      ]
    },
    {
      "cell_type": "code",
      "metadata": {
        "colab": {
          "base_uri": "https://localhost:8080/"
        },
        "id": "V8V7jVFfh6ZF",
        "outputId": "8c2604d8-02cb-4f03-bb36-51651f821ed6"
      },
      "source": [
        "tokens = tokenize(\"My dogs is good!\")\n",
        "tokens"
      ],
      "execution_count": 58,
      "outputs": [
        {
          "output_type": "execute_result",
          "data": {
            "text/plain": [
              "['my', 'dogs', 'is', 'good', '!']"
            ]
          },
          "metadata": {
            "tags": []
          },
          "execution_count": 58
        }
      ]
    },
    {
      "cell_type": "markdown",
      "metadata": {
        "id": "BdUybcDyRd-0"
      },
      "source": [
        "SQL-processing from Spider"
      ]
    },
    {
      "cell_type": "code",
      "metadata": {
        "colab": {
          "base_uri": "https://localhost:8080/"
        },
        "id": "dU1uEOT6IAdt",
        "outputId": "8c217e5d-e019-4dd3-d868-fb4921c6e2ad"
      },
      "source": [
        "query = \"SELECT name FROM singer\"\n",
        "schema_sql = get_schema(\"datasets/spider/database/singer/singer.sqlite\")\n",
        "schema = Schema(schema_sql)\n",
        "sql = get_sql(schema, query)\n",
        "sql"
      ],
      "execution_count": 13,
      "outputs": [
        {
          "output_type": "execute_result",
          "data": {
            "text/plain": [
              "{'except': None,\n",
              " 'from': {'conds': [], 'table_units': [('table_unit', '__singer__')]},\n",
              " 'groupBy': [],\n",
              " 'having': [],\n",
              " 'intersect': None,\n",
              " 'limit': None,\n",
              " 'orderBy': [],\n",
              " 'select': (False, [(0, (0, (0, '__singer.name__', False), None))]),\n",
              " 'union': None,\n",
              " 'where': []}"
            ]
          },
          "metadata": {
            "tags": []
          },
          "execution_count": 13
        }
      ]
    },
    {
      "cell_type": "markdown",
      "metadata": {
        "id": "aL7eOLiGRiwd"
      },
      "source": [
        "SQL-preprocessing from Araneae"
      ]
    },
    {
      "cell_type": "code",
      "metadata": {
        "colab": {
          "base_uri": "https://localhost:8080/",
          "height": 35
        },
        "id": "4qzSO0LSRlyU",
        "outputId": "e58f8540-7be5-4863-af1b-20575250c120"
      },
      "source": [
        "sentence = \"SELECT T1.name , zaza, count(*), A FROM concert AS T1 GROUP BY t1.stadium_id\"\n",
        "preprocessed_sql = preprocess_SQL(sentence)\n",
        "preprocessed_sql"
      ],
      "execution_count": 16,
      "outputs": [
        {
          "output_type": "execute_result",
          "data": {
            "application/vnd.google.colaboratory.intrinsic+json": {
              "type": "string"
            },
            "text/plain": [
              "'SELECT A, name, count(*), zaza FROM concert GROUP BY stadium_id'"
            ]
          },
          "metadata": {
            "tags": []
          },
          "execution_count": 16
        }
      ]
    }
  ]
}