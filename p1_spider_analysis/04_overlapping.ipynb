{
  "nbformat": 4,
  "nbformat_minor": 0,
  "metadata": {
    "colab": {
      "name": "04_overlapping.ipynb",
      "provenance": [],
      "collapsed_sections": [],
      "authorship_tag": "ABX9TyNDBjuCvOrPM5RCdwuq2kvM",
      "include_colab_link": true
    },
    "kernelspec": {
      "name": "python3",
      "display_name": "Python 3"
    },
    "language_info": {
      "name": "python"
    }
  },
  "cells": [
    {
      "cell_type": "markdown",
      "metadata": {
        "id": "view-in-github",
        "colab_type": "text"
      },
      "source": [
        "<a href=\"https://colab.research.google.com/github/dmi3eva/araneae/blob/main/p1_spider_analysis/04_overlapping.ipynb\" target=\"_parent\"><img src=\"https://colab.research.google.com/assets/colab-badge.svg\" alt=\"Open In Colab\"/></a>"
      ]
    },
    {
      "cell_type": "code",
      "metadata": {
        "colab": {
          "base_uri": "https://localhost:8080/"
        },
        "id": "lXXIwXBhO6b9",
        "outputId": "e32bd07f-5628-4ea3-c0f7-756a0d8104e0"
      },
      "source": [
        "from google.colab import drive\n",
        "drive.mount('/content/drive')"
      ],
      "execution_count": null,
      "outputs": [
        {
          "output_type": "stream",
          "name": "stdout",
          "text": [
            "Mounted at /content/drive\n"
          ]
        }
      ]
    },
    {
      "cell_type": "code",
      "metadata": {
        "colab": {
          "base_uri": "https://localhost:8080/"
        },
        "id": "v9BLKMeUPl91",
        "outputId": "0f6bdf1f-1539-47c0-dc7d-2731633ebcfb"
      },
      "source": [
        "%cd /content\n",
        "%cd drive\n",
        "%cd My\\ Drive\n",
        "%cd PhD\n",
        "%cd Paper_01"
      ],
      "execution_count": null,
      "outputs": [
        {
          "output_type": "stream",
          "name": "stdout",
          "text": [
            "/content\n",
            "/content/drive\n",
            "/content/drive/My Drive\n",
            "/content/drive/My Drive/PhD\n",
            "/content/drive/My Drive/PhD/Paper_01\n"
          ]
        }
      ]
    },
    {
      "cell_type": "markdown",
      "metadata": {
        "id": "RUqtglc6Ps8q"
      },
      "source": [
        "# Utils"
      ]
    },
    {
      "cell_type": "code",
      "metadata": {
        "id": "TeaRhDs3PpIt"
      },
      "source": [
        "DB_PATH = \"datasets/spider/database\"\n",
        "SCHEMES_PATH = \"datasets/spider/tables.json\""
      ],
      "execution_count": null,
      "outputs": []
    },
    {
      "cell_type": "code",
      "metadata": {
        "id": "GYWpP1MuPsWB"
      },
      "source": [
        "import json\n",
        "import collections\n",
        "import matplotlib.pyplot as plt\n",
        "import sqlite3\n",
        "import os\n",
        "%matplotlib inline "
      ],
      "execution_count": null,
      "outputs": []
    },
    {
      "cell_type": "code",
      "metadata": {
        "id": "pd7Hoz7TP68x"
      },
      "source": [
        "def execute_request(db_id, sql):\n",
        "    db = os.path.join(DB_PATH, db_id, db_id + \".sqlite\")\n",
        "    conn = sqlite3.connect(db)\n",
        "    conn.text_factory = lambda b: b.decode(errors = 'ignore')\n",
        "    cursor = conn.cursor()   \n",
        "    try:\n",
        "        cursor.execute(sql)\n",
        "        res = cursor.fetchall()\n",
        "        return res\n",
        "    except:\n",
        "        raise ValueError\n",
        "\n",
        "REQUEST_MASK = \"\"\"SELECT \\\"{column}\\\" FROM \\\"{table}\\\"\"\"\" \n",
        "def get_values(db, table, column):\n",
        "  # Возвращает значения из столбца данной таблицы\n",
        "  aim_request = REQUEST_MASK.format(table=table, column=column)\n",
        "  try:\n",
        "    response = execute_request(db, aim_request)\n",
        "    values = [str(_v[0]) for _v in list(response)]\n",
        "    return values\n",
        "  except ValueError:\n",
        "    print()\n",
        "    print(f\"Problem with {column} in {table} (db = {db}). Request: {aim_request}\")\n",
        "    return []\n",
        "\n",
        "db_ids = os.listdir(DB_PATH)\n",
        "with open(SCHEMES_PATH) as table_file:\n",
        "  schemes = json.load(table_file)\n",
        "\n",
        "tables = {_s['db_id']: _s['table_names_original'] for _s in schemes}\n",
        "sorted(list(tables.keys()))\n",
        "\n",
        "columns = {\n",
        "    _s['db_id']: {\n",
        "        _table: [] for _table in _s['table_names_original']\n",
        "    } for _s in schemes\n",
        "}\n",
        "for _scheme in schemes:\n",
        "  db_id = _scheme['db_id']\n",
        "  table_names = _scheme['table_names_original']\n",
        "  for _column in _scheme[\"column_names_original\"]:\n",
        "    column_name = _column[1]\n",
        "    table_name = table_names[_column[0]]\n",
        "    if column_name == '*':\n",
        "      continue\n",
        "    columns[db_id][table_name].append(column_name)\n",
        "\n",
        "def get_db_tables(db):\n",
        "  return tables[db]\n",
        "\n",
        "def get_db_columns(db, table):\n",
        "  return columns[db][table]\n",
        "\n",
        "def show_table(db, table):\n",
        "  values_request = f\"SELECT * FROM {table}\"\n",
        "  values = execute_request(db, values_request)  \n",
        "  column_names = tuple(get_db_columns(db, table))\n",
        "  return column_names, values"
      ],
      "execution_count": null,
      "outputs": []
    },
    {
      "cell_type": "markdown",
      "metadata": {
        "id": "op8kNwKjQbIN"
      },
      "source": [
        "## Составление словаря\n",
        "**Структура:**\n",
        "```\n",
        "{\n",
        "  db_id: {\n",
        "    token: {\n",
        "      'db': set(),\n",
        "      'tables': set(),\n",
        "      'columns': set(),\n",
        "      'values': set()\n",
        "    }\n",
        "  }\n",
        "}\n",
        "```"
      ]
    },
    {
      "cell_type": "code",
      "metadata": {
        "id": "BO5Sk4Z5bdXo"
      },
      "source": [
        "from copy import deepcopy"
      ],
      "execution_count": null,
      "outputs": []
    },
    {
      "cell_type": "code",
      "metadata": {
        "id": "o_tuAIHfQZsX"
      },
      "source": [
        "tokens = {}\n",
        "DICT_FOR_TOKEN = {\n",
        "            'db': set(),\n",
        "            'tables': set(),\n",
        "            'columns': set(),\n",
        "            'values': set()\n",
        "        }\n",
        "dbs_amount = len(db_ids)\n",
        "for i, _db in enumerate(db_ids):\n",
        "  # print(f\"{i} / {dbs_amount}\")\n",
        "  db_dict = {}\n",
        "  db_tokens = _db.split('_')\n",
        "  for _t in db_tokens:\n",
        "    db_dict[_t.lower()] = deepcopy(DICT_FOR_TOKEN)    \n",
        "    db_dict[_t.lower()]['db'].add(_db)\n",
        "   # Обработка таблиц\n",
        "  db_tables = get_db_tables(_db) \n",
        "  for _table in db_tables:\n",
        "    table_tokens = _table.split('_')\n",
        "    for _t in table_tokens:\n",
        "      if _t.lower() not in db_dict.keys():\n",
        "        db_dict[_t.lower()] = deepcopy(DICT_FOR_TOKEN) \n",
        "      db_dict[_t.lower()]['tables'].add(_table)\n",
        "    # Обработка колонок\n",
        "    table_columns = get_db_columns(_db, _table)\n",
        "    for _column in table_columns:\n",
        "       column_tokens = _column.split('_')\n",
        "       for _t in column_tokens:\n",
        "          if _t.lower() not in db_dict.keys():\n",
        "            db_dict[_t.lower()] = deepcopy(DICT_FOR_TOKEN) \n",
        "          db_dict[_t.lower()]['columns'].add(_column)\n",
        "       # Обработка значений\n",
        "       column_values = get_values(_db, _table, _column)\n",
        "       for _value in column_values:\n",
        "         value_tokens = _value.split('_')\n",
        "         for _t in value_tokens:\n",
        "            if _t.lower() not in db_dict.keys():\n",
        "              db_dict[_t.lower()] = deepcopy(DICT_FOR_TOKEN) \n",
        "            db_dict[_t.lower()]['values'].add(_value)\n",
        "\n",
        "  tokens[_db] = db_dict"
      ],
      "execution_count": null,
      "outputs": []
    },
    {
      "cell_type": "code",
      "metadata": {
        "id": "kJItMnOsVnhg"
      },
      "source": [
        "tokens['debate']"
      ],
      "execution_count": null,
      "outputs": []
    },
    {
      "cell_type": "markdown",
      "metadata": {
        "id": "E-bQAGDaZKJ9"
      },
      "source": [
        "# Анализ"
      ]
    },
    {
      "cell_type": "code",
      "metadata": {
        "id": "hI72vcgRcgCS"
      },
      "source": [
        "from pprint import pprint"
      ],
      "execution_count": null,
      "outputs": []
    },
    {
      "cell_type": "code",
      "metadata": {
        "id": "bP9sW4nTZOiJ"
      },
      "source": [
        "entities = ['db', 'tables', 'columns', 'values']\n",
        "overlapping_matrix = {_e1: {_e2: 0 for _e2 in entities} for _e1 in entities}"
      ],
      "execution_count": null,
      "outputs": []
    },
    {
      "cell_type": "markdown",
      "metadata": {
        "id": "WgLa3MJgd3CN"
      },
      "source": [
        "Внутри сущности"
      ]
    },
    {
      "cell_type": "code",
      "metadata": {
        "id": "IVU4XA_jd2Z6"
      },
      "source": [
        "ee_json = {}\n",
        "for _db in db_ids:\n",
        "  ee_json[_db] = {}\n",
        "  for _token in tokens[_db]:\n",
        "    token_dict = tokens[_db][_token]\n",
        "    for _e in entities:\n",
        "      if len(token_dict[_e]) > 1:\n",
        "        overlapping_matrix[_e][_e] += 1\n",
        "        ee_json[_db][_e] = ee_json[_db].get(_e, []) + [str(token_dict[_e])]"
      ],
      "execution_count": null,
      "outputs": []
    },
    {
      "cell_type": "code",
      "metadata": {
        "colab": {
          "base_uri": "https://localhost:8080/"
        },
        "id": "vBccD8VUem6K",
        "outputId": "906d4ac3-62d7-4856-c59b-5d7518a74f68"
      },
      "source": [
        "pprint(overlapping_matrix)"
      ],
      "execution_count": null,
      "outputs": [
        {
          "output_type": "stream",
          "name": "stdout",
          "text": [
            "{'columns': {'columns': 2892, 'db': 0, 'tables': 0, 'values': 0},\n",
            " 'db': {'columns': 0, 'db': 0, 'tables': 0, 'values': 0},\n",
            " 'tables': {'columns': 0, 'db': 0, 'tables': 582, 'values': 0},\n",
            " 'values': {'columns': 0, 'db': 0, 'tables': 0, 'values': 7758}}\n"
          ]
        }
      ]
    },
    {
      "cell_type": "code",
      "metadata": {
        "id": "pZRRSw-Rerqx"
      },
      "source": [
        "import json"
      ],
      "execution_count": null,
      "outputs": []
    },
    {
      "cell_type": "code",
      "metadata": {
        "id": "ntFBdURSeu7x"
      },
      "source": [
        "with open('results/in_overlapping.json', 'w') as f:\n",
        "  json.dump(ee_json, f)"
      ],
      "execution_count": null,
      "outputs": []
    },
    {
      "cell_type": "code",
      "metadata": {
        "id": "GaiBrfFIfLd-"
      },
      "source": [
        "out_json = {}\n",
        "for _db in db_ids:\n",
        "  out_json[_db] = {}\n",
        "  for _token in tokens[_db]:\n",
        "    token_dict = tokens[_db][_token]\n",
        "    for _e1 in entities:\n",
        "      for _e2 in entities:\n",
        "        if _e1 == _e2:\n",
        "          continue\n",
        "        if len(token_dict[_e1]) > 0 and len(token_dict[_e2]) > 0:\n",
        "           overlapping_matrix[_e1][_e2] += 1\n",
        "           overlapping_matrix[_e2][_e1] += 1\n",
        "           out_json[_db][f\"{_e1}-{_e2}\"] = out_json[_db].get(f\"{_e1}-{_e2}\", []) + [f\"{_e1}: {str(token_dict[_e1])}, {_e2}: {str(token_dict[_e1])}\"]"
      ],
      "execution_count": null,
      "outputs": []
    },
    {
      "cell_type": "code",
      "metadata": {
        "colab": {
          "base_uri": "https://localhost:8080/"
        },
        "id": "asQFu_CWf-bR",
        "outputId": "ec912cff-a527-4ef9-b57f-ad59d58734a5"
      },
      "source": [
        "pprint(overlapping_matrix)"
      ],
      "execution_count": null,
      "outputs": [
        {
          "output_type": "stream",
          "name": "stdout",
          "text": [
            "{'columns': {'columns': 964, 'db': 232, 'tables': 814, 'values': 206},\n",
            " 'db': {'columns': 232, 'db': 0, 'tables': 320, 'values': 90},\n",
            " 'tables': {'columns': 814, 'db': 320, 'tables': 194, 'values': 74},\n",
            " 'values': {'columns': 206, 'db': 90, 'tables': 74, 'values': 2586}}\n"
          ]
        }
      ]
    },
    {
      "cell_type": "code",
      "metadata": {
        "id": "jvMEGzVCgDpa"
      },
      "source": [
        "with open('results/out_overlapping.json', 'w') as f:\n",
        "  json.dump(out_json, f)"
      ],
      "execution_count": null,
      "outputs": []
    },
    {
      "cell_type": "markdown",
      "metadata": {
        "id": "CzheRrpsgjqb"
      },
      "source": [
        "Длинее 3 символов"
      ]
    },
    {
      "cell_type": "code",
      "metadata": {
        "id": "xT5W6hZSglNx"
      },
      "source": [
        "overlapping_matrix_3 = {_e1: {_e2: 0 for _e2 in entities} for _e1 in entities}"
      ],
      "execution_count": null,
      "outputs": []
    },
    {
      "cell_type": "code",
      "metadata": {
        "colab": {
          "base_uri": "https://localhost:8080/"
        },
        "id": "AlKM0H3dnvhc",
        "outputId": "559a9f75-42bc-462a-d781-fccdb8811551"
      },
      "source": [
        "overlapping_matrix_3"
      ],
      "execution_count": null,
      "outputs": [
        {
          "output_type": "execute_result",
          "data": {
            "text/plain": [
              "{'columns': {'columns': 0, 'db': 0, 'tables': 0, 'values': 0},\n",
              " 'db': {'columns': 0, 'db': 0, 'tables': 0, 'values': 0},\n",
              " 'tables': {'columns': 0, 'db': 0, 'tables': 0, 'values': 0},\n",
              " 'values': {'columns': 0, 'db': 0, 'tables': 0, 'values': 0}}"
            ]
          },
          "metadata": {},
          "execution_count": 60
        }
      ]
    },
    {
      "cell_type": "code",
      "metadata": {
        "id": "9g9Mm3Qugqg3"
      },
      "source": [
        "ee_json = {}\n",
        "for _db in db_ids:\n",
        "  ee_json[_db] = {}\n",
        "  for _token in tokens[_db]:     \n",
        "    token_dict = tokens[_db][_token]\n",
        "    for _e in entities:\n",
        "      if len(token_dict[_e]) > 1 and len(_token) > 3:\n",
        "        overlapping_matrix_3[_e][_e] += 1\n",
        "        ee_json[_db][_e] = ee_json[_db].get(_e, []) + [str(token_dict[_e])]"
      ],
      "execution_count": null,
      "outputs": []
    },
    {
      "cell_type": "code",
      "metadata": {
        "id": "OcKjKT3Dgse2"
      },
      "source": [
        "out_json = {}\n",
        "for _db in db_ids:\n",
        "  out_json[_db] = {}\n",
        "  for _token in tokens[_db]:\n",
        "    if len(_token) <= 3:\n",
        "      continue\n",
        "    token_dict = tokens[_db][_token]\n",
        "    for _e1 in entities:\n",
        "      for _e2 in entities:\n",
        "        if _e1 == _e2:\n",
        "          continue\n",
        "        if len(token_dict[_e1]) > 0 and len(token_dict[_e2]) > 0 and len(_token) > 3:\n",
        "           overlapping_matrix_3[_e1][_e2] += 1\n",
        "           overlapping_matrix_3[_e2][_e1] += 1\n",
        "           out_json[_db][f\"{_e1}-{_e2}\"] = out_json[_db].get(f\"{_e1}-{_e2}\", []) + [f\"{_e1}: {str(token_dict[_e1])}, {_e2}: {str(token_dict[_e1])}\"]"
      ],
      "execution_count": null,
      "outputs": []
    },
    {
      "cell_type": "code",
      "metadata": {
        "colab": {
          "base_uri": "https://localhost:8080/"
        },
        "id": "sq6rPlb0gt99",
        "outputId": "07ad2beb-d052-44ce-c2b3-de1218b6bb96"
      },
      "source": [
        "pprint(overlapping_matrix)"
      ],
      "execution_count": null,
      "outputs": [
        {
          "output_type": "stream",
          "name": "stdout",
          "text": [
            "{'columns': {'columns': 964, 'db': 232, 'tables': 814, 'values': 206},\n",
            " 'db': {'columns': 232, 'db': 0, 'tables': 320, 'values': 90},\n",
            " 'tables': {'columns': 814, 'db': 320, 'tables': 194, 'values': 74},\n",
            " 'values': {'columns': 206, 'db': 90, 'tables': 74, 'values': 2586}}\n"
          ]
        }
      ]
    },
    {
      "cell_type": "code",
      "metadata": {
        "id": "Ijrp_xhShIfb"
      },
      "source": [
        "with open('results/in_large_overlapping.json', 'w') as f:\n",
        "  json.dump(ee_json, f)"
      ],
      "execution_count": null,
      "outputs": []
    },
    {
      "cell_type": "code",
      "metadata": {
        "id": "H4Mg8cZVhI--"
      },
      "source": [
        "with open('results/out_large_overlapping.json', 'w') as f:\n",
        "  json.dump(out_json, f)"
      ],
      "execution_count": null,
      "outputs": []
    }
  ]
}