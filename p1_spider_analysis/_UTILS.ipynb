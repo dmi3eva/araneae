{
  "nbformat": 4,
  "nbformat_minor": 0,
  "metadata": {
    "colab": {
      "name": "_UTILS.ipynb",
      "provenance": [],
      "authorship_tag": "ABX9TyNXkjW9ASfFN4PGbIXxCN/i",
      "include_colab_link": true
    },
    "kernelspec": {
      "name": "python3",
      "display_name": "Python 3"
    },
    "language_info": {
      "name": "python"
    }
  },
  "cells": [
    {
      "cell_type": "markdown",
      "metadata": {
        "id": "view-in-github",
        "colab_type": "text"
      },
      "source": [
        "<a href=\"https://colab.research.google.com/github/dmi3eva/araneae/blob/main/p1_spider_analysis/_UTILS.ipynb\" target=\"_parent\"><img src=\"https://colab.research.google.com/assets/colab-badge.svg\" alt=\"Open In Colab\"/></a>"
      ]
    },
    {
      "cell_type": "code",
      "metadata": {
        "colab": {
          "base_uri": "https://localhost:8080/"
        },
        "id": "7rYRDKnf5PO0",
        "outputId": "25498068-e9e8-43c6-8963-1b68e3e48b37"
      },
      "source": [
        "from google.colab import drive\n",
        "drive.mount('/content/drive')"
      ],
      "execution_count": 1,
      "outputs": [
        {
          "output_type": "stream",
          "name": "stdout",
          "text": [
            "Mounted at /content/drive\n"
          ]
        }
      ]
    },
    {
      "cell_type": "code",
      "metadata": {
        "colab": {
          "base_uri": "https://localhost:8080/"
        },
        "id": "VFlpWIns5cgB",
        "outputId": "79b7a6d8-5464-4f66-e66b-a07bd3a8c028"
      },
      "source": [
        "%cd /content\n",
        "%cd drive\n",
        "%cd My\\ Drive\n",
        "%cd PhD\n",
        "%cd Paper_01"
      ],
      "execution_count": 2,
      "outputs": [
        {
          "output_type": "stream",
          "name": "stdout",
          "text": [
            "/content\n",
            "/content/drive\n",
            "/content/drive/My Drive\n",
            "/content/drive/My Drive/PhD\n",
            "/content/drive/My Drive/PhD/Paper_01\n"
          ]
        }
      ]
    },
    {
      "cell_type": "code",
      "metadata": {
        "id": "ThfFBgz95s84"
      },
      "source": [
        "import json\n",
        "import collections\n",
        "import matplotlib.pyplot as plt\n",
        "import sqlite3\n",
        "import os"
      ],
      "execution_count": 3,
      "outputs": []
    },
    {
      "cell_type": "markdown",
      "metadata": {
        "id": "aUMomYRV5kr7"
      },
      "source": [
        "### Обращение к БД"
      ]
    },
    {
      "cell_type": "markdown",
      "metadata": {
        "id": "VaMAQhF352AI"
      },
      "source": [
        "Вспомогательное"
      ]
    },
    {
      "cell_type": "code",
      "metadata": {
        "id": "-UK_tOTK5h0i"
      },
      "source": [
        "DB_PATH = \"datasets/spider/database\"\n",
        "SCHEMES_PATH = \"datasets/spider/tables.json\""
      ],
      "execution_count": 4,
      "outputs": []
    },
    {
      "cell_type": "code",
      "metadata": {
        "id": "GQtlmnv75x7e"
      },
      "source": [
        "def execute_request(db_id, sql):\n",
        "    db = os.path.join(DB_PATH, db_id, db_id + \".sqlite\")\n",
        "    conn = sqlite3.connect(db)\n",
        "    conn.text_factory = lambda b: b.decode(errors = 'ignore')\n",
        "    cursor = conn.cursor()   \n",
        "    try:\n",
        "        cursor.execute(sql)\n",
        "        res = cursor.fetchall()\n",
        "        return res\n",
        "    except:\n",
        "        raise ValueError"
      ],
      "execution_count": 5,
      "outputs": []
    },
    {
      "cell_type": "code",
      "metadata": {
        "id": "YSnVPrhA50KC"
      },
      "source": [
        "REQUEST_MASK = \"\"\"SELECT \\\"{column}\\\" FROM \\\"{table}\\\"\"\"\" \n",
        "def get_values(db, table, column):\n",
        "  # Возвращает значения из столбца данной таблицы\n",
        "  aim_request = REQUEST_MASK.format(table=table, column=column)\n",
        "  print(aim_request)\n",
        "  try:\n",
        "    response = execute_request(db, aim_request)\n",
        "    values = [str(_v[0]) for _v in list(response)]\n",
        "    return values\n",
        "  except ValueError:\n",
        "    print()\n",
        "    print(f\"Problem with {column} in {table} (db = {db}). Request: {aim_request}\")\n",
        "    return []"
      ],
      "execution_count": 64,
      "outputs": []
    },
    {
      "cell_type": "code",
      "metadata": {
        "id": "awfFDmAk54R_"
      },
      "source": [
        "db_ids = os.listdir(DB_PATH)"
      ],
      "execution_count": 7,
      "outputs": []
    },
    {
      "cell_type": "code",
      "metadata": {
        "colab": {
          "base_uri": "https://localhost:8080/"
        },
        "id": "L_vzPm6m5_6H",
        "outputId": "cd0f53d6-7d43-4eee-e391-a8f220ab1d92"
      },
      "source": [
        "with open(SCHEMES_PATH) as table_file:\n",
        "  schemes = json.load(table_file)\n",
        "\n",
        "tables = {_s['db_id']: _s['table_names_original'] for _s in schemes}\n",
        "sorted(list(tables.keys()))"
      ],
      "execution_count": 38,
      "outputs": [
        {
          "output_type": "execute_result",
          "data": {
            "text/plain": [
              "['academic',\n",
              " 'activity_1',\n",
              " 'aircraft',\n",
              " 'allergy_1',\n",
              " 'apartment_rentals',\n",
              " 'architecture',\n",
              " 'assets_maintenance',\n",
              " 'baseball_1',\n",
              " 'battle_death',\n",
              " 'behavior_monitoring',\n",
              " 'bike_1',\n",
              " 'body_builder',\n",
              " 'book_2',\n",
              " 'browser_web',\n",
              " 'candidate_poll',\n",
              " 'car_1',\n",
              " 'chinook_1',\n",
              " 'cinema',\n",
              " 'city_record',\n",
              " 'climbing',\n",
              " 'club_1',\n",
              " 'coffee_shop',\n",
              " 'college_1',\n",
              " 'college_2',\n",
              " 'college_3',\n",
              " 'company_1',\n",
              " 'company_employee',\n",
              " 'company_office',\n",
              " 'concert_singer',\n",
              " 'county_public_safety',\n",
              " 'course_teach',\n",
              " 'cre_Doc_Control_Systems',\n",
              " 'cre_Doc_Template_Mgt',\n",
              " 'cre_Doc_Tracking_DB',\n",
              " 'cre_Docs_and_Epenses',\n",
              " 'cre_Drama_Workshop_Groups',\n",
              " 'cre_Theme_park',\n",
              " 'csu_1',\n",
              " 'culture_company',\n",
              " 'customer_complaints',\n",
              " 'customer_deliveries',\n",
              " 'customers_and_addresses',\n",
              " 'customers_and_invoices',\n",
              " 'customers_and_products_contacts',\n",
              " 'customers_campaigns_ecommerce',\n",
              " 'customers_card_transactions',\n",
              " 'debate',\n",
              " 'decoration_competition',\n",
              " 'department_management',\n",
              " 'department_store',\n",
              " 'device',\n",
              " 'document_management',\n",
              " 'dog_kennels',\n",
              " 'dorm_1',\n",
              " 'driving_school',\n",
              " 'e_government',\n",
              " 'e_learning',\n",
              " 'election',\n",
              " 'election_representative',\n",
              " 'employee_hire_evaluation',\n",
              " 'entertainment_awards',\n",
              " 'entrepreneur',\n",
              " 'epinions_1',\n",
              " 'farm',\n",
              " 'film_rank',\n",
              " 'flight_1',\n",
              " 'flight_2',\n",
              " 'flight_4',\n",
              " 'flight_company',\n",
              " 'formula_1',\n",
              " 'game_1',\n",
              " 'game_injury',\n",
              " 'gas_company',\n",
              " 'geo',\n",
              " 'gymnast',\n",
              " 'hospital_1',\n",
              " 'hr_1',\n",
              " 'icfp_1',\n",
              " 'imdb',\n",
              " 'inn_1',\n",
              " 'insurance_and_eClaims',\n",
              " 'insurance_fnol',\n",
              " 'insurance_policies',\n",
              " 'journal_committee',\n",
              " 'loan_1',\n",
              " 'local_govt_and_lot',\n",
              " 'local_govt_in_alabama',\n",
              " 'local_govt_mdm',\n",
              " 'machine_repair',\n",
              " 'manufactory_1',\n",
              " 'manufacturer',\n",
              " 'match_season',\n",
              " 'medicine_enzyme_interaction',\n",
              " 'mountain_photos',\n",
              " 'movie_1',\n",
              " 'museum_visit',\n",
              " 'music_1',\n",
              " 'music_2',\n",
              " 'music_4',\n",
              " 'musical',\n",
              " 'network_1',\n",
              " 'network_2',\n",
              " 'news_report',\n",
              " 'orchestra',\n",
              " 'party_host',\n",
              " 'party_people',\n",
              " 'performance_attendance',\n",
              " 'perpetrator',\n",
              " 'pets_1',\n",
              " 'phone_1',\n",
              " 'phone_market',\n",
              " 'pilot_record',\n",
              " 'poker_player',\n",
              " 'product_catalog',\n",
              " 'products_for_hire',\n",
              " 'products_gen_characteristics',\n",
              " 'program_share',\n",
              " 'protein_institute',\n",
              " 'race_track',\n",
              " 'railway',\n",
              " 'real_estate_properties',\n",
              " 'restaurant_1',\n",
              " 'restaurants',\n",
              " 'riding_club',\n",
              " 'roller_coaster',\n",
              " 'sakila_1',\n",
              " 'scholar',\n",
              " 'school_bus',\n",
              " 'school_finance',\n",
              " 'school_player',\n",
              " 'scientist_1',\n",
              " 'ship_1',\n",
              " 'ship_mission',\n",
              " 'shop_membership',\n",
              " 'singer',\n",
              " 'small_bank_1',\n",
              " 'soccer_1',\n",
              " 'soccer_2',\n",
              " 'solvency_ii',\n",
              " 'sports_competition',\n",
              " 'station_weather',\n",
              " 'store_1',\n",
              " 'store_product',\n",
              " 'storm_record',\n",
              " 'student_1',\n",
              " 'student_assessment',\n",
              " 'student_transcripts_tracking',\n",
              " 'swimming',\n",
              " 'theme_gallery',\n",
              " 'tracking_grants_for_research',\n",
              " 'tracking_orders',\n",
              " 'tracking_share_transactions',\n",
              " 'tracking_software_problems',\n",
              " 'train_station',\n",
              " 'tvshow',\n",
              " 'twitter_1',\n",
              " 'university_basketball',\n",
              " 'voter_1',\n",
              " 'voter_2',\n",
              " 'wedding',\n",
              " 'wine_1',\n",
              " 'workshop_paper',\n",
              " 'world_1',\n",
              " 'wrestler',\n",
              " 'wta_1',\n",
              " 'yelp']"
            ]
          },
          "metadata": {},
          "execution_count": 38
        }
      ]
    },
    {
      "cell_type": "code",
      "metadata": {
        "id": "uLScezJx6BeS"
      },
      "source": [
        "columns = {\n",
        "    _s['db_id']: {\n",
        "        _table: [] for _table in _s['table_names_original']\n",
        "    } for _s in schemes\n",
        "}\n",
        "for _scheme in schemes:\n",
        "  db_id = _scheme['db_id']\n",
        "  table_names = _scheme['table_names_original']\n",
        "  for _column in _scheme[\"column_names_original\"]:\n",
        "    column_name = _column[1]\n",
        "    table_name = table_names[_column[0]]\n",
        "    if column_name == '*':\n",
        "      continue\n",
        "    columns[db_id][table_name].append(column_name)"
      ],
      "execution_count": 37,
      "outputs": []
    },
    {
      "cell_type": "code",
      "metadata": {
        "id": "raCj1Pfd6ELR"
      },
      "source": [
        "def get_db_tables(db):\n",
        "  return tables[db]"
      ],
      "execution_count": 11,
      "outputs": []
    },
    {
      "cell_type": "code",
      "metadata": {
        "id": "vf9SjlnN6Fm4"
      },
      "source": [
        "def get_db_columns(db, table):\n",
        "  return columns[db][table]"
      ],
      "execution_count": 12,
      "outputs": []
    },
    {
      "cell_type": "markdown",
      "metadata": {
        "id": "JBNkA6SV6Hsa"
      },
      "source": [
        "Сами обращения"
      ]
    },
    {
      "cell_type": "code",
      "metadata": {
        "id": "vA8sTWCLA9_F"
      },
      "source": [
        "db = 'employee_hire_evaluation'\n",
        "table = 'hiring'\n",
        "column = 'CountryCode'"
      ],
      "execution_count": 181,
      "outputs": []
    },
    {
      "cell_type": "code",
      "metadata": {
        "colab": {
          "base_uri": "https://localhost:8080/"
        },
        "id": "nSlcyFYm6I9o",
        "outputId": "6891cffa-0a51-46fb-bdcd-e47bf9bdd2c6"
      },
      "source": [
        "result_tables = get_db_tables(db)\n",
        "result_tables"
      ],
      "execution_count": 182,
      "outputs": [
        {
          "output_type": "execute_result",
          "data": {
            "text/plain": [
              "['employee', 'shop', 'hiring', 'evaluation']"
            ]
          },
          "metadata": {},
          "execution_count": 182
        }
      ]
    },
    {
      "cell_type": "code",
      "metadata": {
        "colab": {
          "base_uri": "https://localhost:8080/"
        },
        "id": "h1aAUhIZ6WEX",
        "outputId": "a8aed9e1-83b9-4da5-9ec2-8ab1dd85c0ea"
      },
      "source": [
        "result_columns = get_db_columns(db, table)\n",
        "result_columns"
      ],
      "execution_count": 183,
      "outputs": [
        {
          "output_type": "execute_result",
          "data": {
            "text/plain": [
              "['Shop_ID', 'Employee_ID', 'Start_from', 'Is_full_time']"
            ]
          },
          "metadata": {},
          "execution_count": 183
        }
      ]
    },
    {
      "cell_type": "code",
      "metadata": {
        "id": "Y3kShBzq6b3Y"
      },
      "source": [
        "result_values = get_values(db, table, column)\n",
        "result_values"
      ],
      "execution_count": null,
      "outputs": []
    },
    {
      "cell_type": "markdown",
      "metadata": {
        "id": "VAfr7y0lAryF"
      },
      "source": [
        "## Выполнение запроса"
      ]
    },
    {
      "cell_type": "code",
      "metadata": {
        "colab": {
          "base_uri": "https://localhost:8080/"
        },
        "id": "XKZBjDGyAv7f",
        "outputId": "f9dc7572-9a7a-469a-cf3d-439140ac6f73"
      },
      "source": [
        "sql_request = \"SELECT DISTINCT(Start_from) FROM hiring WHERE Is_full_time == 'F'\"\n",
        "result = execute_request(db, sql_request)\n",
        "result"
      ],
      "execution_count": 186,
      "outputs": [
        {
          "output_type": "execute_result",
          "data": {
            "text/plain": [
              "[('2011',), ('2010',)]"
            ]
          },
          "metadata": {},
          "execution_count": 186
        }
      ]
    }
  ]
}