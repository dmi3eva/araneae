{
  "nbformat": 4,
  "nbformat_minor": 0,
  "metadata": {
    "colab": {
      "name": "_UTILS.ipynb",
      "provenance": [],
      "authorship_tag": "ABX9TyMLgTlN8hIjF6+pGfW9X92H",
      "include_colab_link": true
    },
    "kernelspec": {
      "name": "python3",
      "display_name": "Python 3"
    },
    "language_info": {
      "name": "python"
    }
  },
  "cells": [
    {
      "cell_type": "markdown",
      "metadata": {
        "id": "view-in-github",
        "colab_type": "text"
      },
      "source": [
        "<a href=\"https://colab.research.google.com/github/dmi3eva/araneae/blob/main/p1_spider_analysis/_UTILS.ipynb\" target=\"_parent\"><img src=\"https://colab.research.google.com/assets/colab-badge.svg\" alt=\"Open In Colab\"/></a>"
      ]
    },
    {
      "cell_type": "code",
      "metadata": {
        "id": "7rYRDKnf5PO0",
        "colab": {
          "base_uri": "https://localhost:8080/"
        },
        "outputId": "dd79918b-01d4-43a8-c2e3-10f8e3513406"
      },
      "source": [
        "from google.colab import drive\n",
        "drive.mount('/content/drive')"
      ],
      "execution_count": 1,
      "outputs": [
        {
          "output_type": "stream",
          "name": "stdout",
          "text": [
            "Mounted at /content/drive\n"
          ]
        }
      ]
    },
    {
      "cell_type": "code",
      "metadata": {
        "id": "VFlpWIns5cgB",
        "colab": {
          "base_uri": "https://localhost:8080/"
        },
        "outputId": "49659609-1efe-4b92-caa3-29381f79139d"
      },
      "source": [
        "%cd /content\n",
        "%cd drive\n",
        "%cd My\\ Drive\n",
        "%cd PhD\n",
        "%cd Paper_01"
      ],
      "execution_count": 3,
      "outputs": [
        {
          "output_type": "stream",
          "name": "stdout",
          "text": [
            "/content\n",
            "/content/drive\n",
            "/content/drive/My Drive\n",
            "/content/drive/My Drive/PhD\n",
            "/content/drive/My Drive/PhD/Paper_01\n"
          ]
        }
      ]
    },
    {
      "cell_type": "code",
      "metadata": {
        "id": "ThfFBgz95s84"
      },
      "source": [
        "import json\n",
        "import collections\n",
        "import matplotlib.pyplot as plt\n",
        "import sqlite3\n",
        "import os"
      ],
      "execution_count": 4,
      "outputs": []
    },
    {
      "cell_type": "markdown",
      "metadata": {
        "id": "aUMomYRV5kr7"
      },
      "source": [
        "### Обращение к БД"
      ]
    },
    {
      "cell_type": "markdown",
      "metadata": {
        "id": "VaMAQhF352AI"
      },
      "source": [
        "Вспомогательное"
      ]
    },
    {
      "cell_type": "code",
      "metadata": {
        "id": "-UK_tOTK5h0i"
      },
      "source": [
        "DB_PATH = \"datasets/spider/database\"\n",
        "SCHEMES_PATH = \"datasets/spider/tables.json\""
      ],
      "execution_count": 5,
      "outputs": []
    },
    {
      "cell_type": "code",
      "metadata": {
        "id": "GQtlmnv75x7e"
      },
      "source": [
        "def execute_request(db_id, sql):\n",
        "    db = os.path.join(DB_PATH, db_id, db_id + \".sqlite\")\n",
        "    conn = sqlite3.connect(db)\n",
        "    conn.text_factory = lambda b: b.decode(errors = 'ignore')\n",
        "    cursor = conn.cursor()   \n",
        "    try:\n",
        "        cursor.execute(sql)\n",
        "        res = cursor.fetchall()\n",
        "        return res\n",
        "    except:\n",
        "        raise ValueError"
      ],
      "execution_count": 6,
      "outputs": []
    },
    {
      "cell_type": "code",
      "metadata": {
        "id": "YSnVPrhA50KC"
      },
      "source": [
        "REQUEST_MASK = \"\"\"SELECT \\\"{column}\\\" FROM \\\"{table}\\\"\"\"\" \n",
        "def get_values(db, table, column):\n",
        "  # Возвращает значения из столбца данной таблицы\n",
        "  aim_request = REQUEST_MASK.format(table=table, column=column)\n",
        "  print(aim_request)\n",
        "  try:\n",
        "    response = execute_request(db, aim_request)\n",
        "    values = [str(_v[0]) for _v in list(response)]\n",
        "    return values\n",
        "  except ValueError:\n",
        "    print()\n",
        "    print(f\"Problem with {column} in {table} (db = {db}). Request: {aim_request}\")\n",
        "    return []"
      ],
      "execution_count": 7,
      "outputs": []
    },
    {
      "cell_type": "code",
      "metadata": {
        "id": "awfFDmAk54R_"
      },
      "source": [
        "db_ids = os.listdir(DB_PATH)"
      ],
      "execution_count": 8,
      "outputs": []
    },
    {
      "cell_type": "code",
      "metadata": {
        "colab": {
          "base_uri": "https://localhost:8080/"
        },
        "id": "L_vzPm6m5_6H",
        "outputId": "34feb3a5-eb8c-4039-b3f7-595c08298704"
      },
      "source": [
        "with open(SCHEMES_PATH) as table_file:\n",
        "  schemes = json.load(table_file)\n",
        "\n",
        "tables = {_s['db_id']: _s['table_names_original'] for _s in schemes}\n",
        "sorted(list(tables.keys()))"
      ],
      "execution_count": 9,
      "outputs": [
        {
          "output_type": "execute_result",
          "data": {
            "text/plain": [
              "['academic',\n",
              " 'activity_1',\n",
              " 'aircraft',\n",
              " 'allergy_1',\n",
              " 'apartment_rentals',\n",
              " 'architecture',\n",
              " 'assets_maintenance',\n",
              " 'baseball_1',\n",
              " 'battle_death',\n",
              " 'behavior_monitoring',\n",
              " 'bike_1',\n",
              " 'body_builder',\n",
              " 'book_2',\n",
              " 'browser_web',\n",
              " 'candidate_poll',\n",
              " 'car_1',\n",
              " 'chinook_1',\n",
              " 'cinema',\n",
              " 'city_record',\n",
              " 'climbing',\n",
              " 'club_1',\n",
              " 'coffee_shop',\n",
              " 'college_1',\n",
              " 'college_2',\n",
              " 'college_3',\n",
              " 'company_1',\n",
              " 'company_employee',\n",
              " 'company_office',\n",
              " 'concert_singer',\n",
              " 'county_public_safety',\n",
              " 'course_teach',\n",
              " 'cre_Doc_Control_Systems',\n",
              " 'cre_Doc_Template_Mgt',\n",
              " 'cre_Doc_Tracking_DB',\n",
              " 'cre_Docs_and_Epenses',\n",
              " 'cre_Drama_Workshop_Groups',\n",
              " 'cre_Theme_park',\n",
              " 'csu_1',\n",
              " 'culture_company',\n",
              " 'customer_complaints',\n",
              " 'customer_deliveries',\n",
              " 'customers_and_addresses',\n",
              " 'customers_and_invoices',\n",
              " 'customers_and_products_contacts',\n",
              " 'customers_campaigns_ecommerce',\n",
              " 'customers_card_transactions',\n",
              " 'debate',\n",
              " 'decoration_competition',\n",
              " 'department_management',\n",
              " 'department_store',\n",
              " 'device',\n",
              " 'document_management',\n",
              " 'dog_kennels',\n",
              " 'dorm_1',\n",
              " 'driving_school',\n",
              " 'e_government',\n",
              " 'e_learning',\n",
              " 'election',\n",
              " 'election_representative',\n",
              " 'employee_hire_evaluation',\n",
              " 'entertainment_awards',\n",
              " 'entrepreneur',\n",
              " 'epinions_1',\n",
              " 'farm',\n",
              " 'film_rank',\n",
              " 'flight_1',\n",
              " 'flight_2',\n",
              " 'flight_4',\n",
              " 'flight_company',\n",
              " 'formula_1',\n",
              " 'game_1',\n",
              " 'game_injury',\n",
              " 'gas_company',\n",
              " 'geo',\n",
              " 'gymnast',\n",
              " 'hospital_1',\n",
              " 'hr_1',\n",
              " 'icfp_1',\n",
              " 'imdb',\n",
              " 'inn_1',\n",
              " 'insurance_and_eClaims',\n",
              " 'insurance_fnol',\n",
              " 'insurance_policies',\n",
              " 'journal_committee',\n",
              " 'loan_1',\n",
              " 'local_govt_and_lot',\n",
              " 'local_govt_in_alabama',\n",
              " 'local_govt_mdm',\n",
              " 'machine_repair',\n",
              " 'manufactory_1',\n",
              " 'manufacturer',\n",
              " 'match_season',\n",
              " 'medicine_enzyme_interaction',\n",
              " 'mountain_photos',\n",
              " 'movie_1',\n",
              " 'museum_visit',\n",
              " 'music_1',\n",
              " 'music_2',\n",
              " 'music_4',\n",
              " 'musical',\n",
              " 'network_1',\n",
              " 'network_2',\n",
              " 'news_report',\n",
              " 'orchestra',\n",
              " 'party_host',\n",
              " 'party_people',\n",
              " 'performance_attendance',\n",
              " 'perpetrator',\n",
              " 'pets_1',\n",
              " 'phone_1',\n",
              " 'phone_market',\n",
              " 'pilot_record',\n",
              " 'poker_player',\n",
              " 'product_catalog',\n",
              " 'products_for_hire',\n",
              " 'products_gen_characteristics',\n",
              " 'program_share',\n",
              " 'protein_institute',\n",
              " 'race_track',\n",
              " 'railway',\n",
              " 'real_estate_properties',\n",
              " 'restaurant_1',\n",
              " 'restaurants',\n",
              " 'riding_club',\n",
              " 'roller_coaster',\n",
              " 'sakila_1',\n",
              " 'scholar',\n",
              " 'school_bus',\n",
              " 'school_finance',\n",
              " 'school_player',\n",
              " 'scientist_1',\n",
              " 'ship_1',\n",
              " 'ship_mission',\n",
              " 'shop_membership',\n",
              " 'singer',\n",
              " 'small_bank_1',\n",
              " 'soccer_1',\n",
              " 'soccer_2',\n",
              " 'solvency_ii',\n",
              " 'sports_competition',\n",
              " 'station_weather',\n",
              " 'store_1',\n",
              " 'store_product',\n",
              " 'storm_record',\n",
              " 'student_1',\n",
              " 'student_assessment',\n",
              " 'student_transcripts_tracking',\n",
              " 'swimming',\n",
              " 'theme_gallery',\n",
              " 'tracking_grants_for_research',\n",
              " 'tracking_orders',\n",
              " 'tracking_share_transactions',\n",
              " 'tracking_software_problems',\n",
              " 'train_station',\n",
              " 'tvshow',\n",
              " 'twitter_1',\n",
              " 'university_basketball',\n",
              " 'voter_1',\n",
              " 'voter_2',\n",
              " 'wedding',\n",
              " 'wine_1',\n",
              " 'workshop_paper',\n",
              " 'world_1',\n",
              " 'wrestler',\n",
              " 'wta_1',\n",
              " 'yelp']"
            ]
          },
          "metadata": {},
          "execution_count": 9
        }
      ]
    },
    {
      "cell_type": "code",
      "metadata": {
        "id": "uLScezJx6BeS"
      },
      "source": [
        "columns = {\n",
        "    _s['db_id']: {\n",
        "        _table: [] for _table in _s['table_names_original']\n",
        "    } for _s in schemes\n",
        "}\n",
        "for _scheme in schemes:\n",
        "  db_id = _scheme['db_id']\n",
        "  table_names = _scheme['table_names_original']\n",
        "  for _column in _scheme[\"column_names_original\"]:\n",
        "    column_name = _column[1]\n",
        "    table_name = table_names[_column[0]]\n",
        "    if column_name == '*':\n",
        "      continue\n",
        "    columns[db_id][table_name].append(column_name)"
      ],
      "execution_count": 10,
      "outputs": []
    },
    {
      "cell_type": "code",
      "metadata": {
        "id": "raCj1Pfd6ELR"
      },
      "source": [
        "def get_db_tables(db):\n",
        "  return tables[db]"
      ],
      "execution_count": 11,
      "outputs": []
    },
    {
      "cell_type": "code",
      "metadata": {
        "id": "vf9SjlnN6Fm4"
      },
      "source": [
        "def get_db_columns(db, table):\n",
        "  return columns[db][table]"
      ],
      "execution_count": 13,
      "outputs": []
    },
    {
      "cell_type": "code",
      "metadata": {
        "id": "JRfZ-0LDZBRV"
      },
      "source": [
        "def show_table(db, table):\n",
        "  values_request = f\"SELECT * FROM {table}\"\n",
        "  values = execute_request(db, values_request)  \n",
        "  column_names = tuple(get_db_columns(db, table))\n",
        "  return column_names, values"
      ],
      "execution_count": 54,
      "outputs": []
    },
    {
      "cell_type": "markdown",
      "metadata": {
        "id": "JBNkA6SV6Hsa"
      },
      "source": [
        "Сами обращения"
      ]
    },
    {
      "cell_type": "code",
      "metadata": {
        "id": "vA8sTWCLA9_F"
      },
      "source": [
        "db = 'apartment_rentals'\n",
        "table = 'View_Unit_Status'\n",
        "column = 'Claim_Status_Description'"
      ],
      "execution_count": 57,
      "outputs": []
    },
    {
      "cell_type": "code",
      "metadata": {
        "colab": {
          "base_uri": "https://localhost:8080/"
        },
        "id": "nSlcyFYm6I9o",
        "outputId": "4841b05b-95b4-4c92-e7ee-2c27ecabfb9d"
      },
      "source": [
        "result_tables = get_db_tables(db)\n",
        "result_tables"
      ],
      "execution_count": 58,
      "outputs": [
        {
          "output_type": "execute_result",
          "data": {
            "text/plain": [
              "['Apartment_Buildings',\n",
              " 'Apartments',\n",
              " 'Apartment_Facilities',\n",
              " 'Guests',\n",
              " 'Apartment_Bookings',\n",
              " 'View_Unit_Status']"
            ]
          },
          "metadata": {},
          "execution_count": 58
        }
      ]
    },
    {
      "cell_type": "code",
      "metadata": {
        "colab": {
          "base_uri": "https://localhost:8080/"
        },
        "id": "h1aAUhIZ6WEX",
        "outputId": "13e78d94-4f45-4a43-832f-0aa087f6edeb"
      },
      "source": [
        "result_columns = get_db_columns(db, table)\n",
        "result_columns"
      ],
      "execution_count": 59,
      "outputs": [
        {
          "output_type": "execute_result",
          "data": {
            "text/plain": [
              "['apt_id', 'apt_booking_id', 'status_date', 'available_yn']"
            ]
          },
          "metadata": {},
          "execution_count": 59
        }
      ]
    },
    {
      "cell_type": "code",
      "metadata": {
        "id": "Y3kShBzq6b3Y"
      },
      "source": [
        "result_values = get_values(db, table, column)\n",
        "result_values"
      ],
      "execution_count": null,
      "outputs": []
    },
    {
      "cell_type": "code",
      "metadata": {
        "colab": {
          "base_uri": "https://localhost:8080/"
        },
        "id": "XKZBjDGyAv7f",
        "outputId": "3159e825-188f-40ef-8707-c98aaa9ad74e"
      },
      "source": [
        "sql_request = \"SELECT status_date FROM View_Unit_Status WHERE available_yn=0\"\n",
        "result = execute_request(db, sql_request)\n",
        "result"
      ],
      "execution_count": 65,
      "outputs": [
        {
          "output_type": "execute_result",
          "data": {
            "text/plain": [
              "[('1985-11-05 11:46:35',), ('2000-02-04 07:50:09',), ('2012-11-24 13:39:37',)]"
            ]
          },
          "metadata": {},
          "execution_count": 65
        }
      ]
    },
    {
      "cell_type": "code",
      "metadata": {
        "id": "uswQzshzfgAs",
        "colab": {
          "base_uri": "https://localhost:8080/"
        },
        "outputId": "09b8ab30-a446-49c3-fc18-74c0ccf5fea0"
      },
      "source": [
        "table_view = show_table(db, table)\n",
        "table_view"
      ],
      "execution_count": 61,
      "outputs": [
        {
          "output_type": "execute_result",
          "data": {
            "text/plain": [
              "(('apt_id', 'apt_booking_id', 'status_date', 'available_yn'),\n",
              " [(11, 920, '1970-09-28 10:24:29', 1),\n",
              "  (15, 575, '1972-03-23 22:55:53', 1),\n",
              "  (15, 924, '1973-10-28 04:30:14', 1),\n",
              "  (6, 497, '1976-12-18 04:03:51', 1),\n",
              "  (12, 807, '1977-04-15 13:42:19', 1),\n",
              "  (13, 575, '1978-12-28 11:53:34', 1),\n",
              "  (2, 497, '1980-11-12 13:34:45', 1),\n",
              "  (14, 401, '1985-11-05 11:46:35', 0),\n",
              "  (11, 497, '1990-11-04 17:57:50', 1),\n",
              "  (13, 337, '2000-02-04 07:50:09', 0),\n",
              "  (14, 279, '2001-02-17 20:17:09', 1),\n",
              "  (5, 337, '2003-07-25 10:13:48', 1),\n",
              "  (1, 497, '2003-08-02 08:36:36', 1),\n",
              "  (10, 497, '2006-02-23 05:50:04', 1),\n",
              "  (6, 401, '2011-02-12 09:04:07', 1),\n",
              "  (9, 623, '2011-11-06 22:08:42', 1),\n",
              "  (14, 920, '2012-11-24 13:39:37', 0),\n",
              "  (4, 258, '2014-12-10 13:53:21', 1),\n",
              "  (13, 343, '2015-06-19 07:59:01', 1),\n",
              "  (5, 889, '2015-07-15 11:06:29', 1)])"
            ]
          },
          "metadata": {},
          "execution_count": 61
        }
      ]
    },
    {
      "cell_type": "code",
      "metadata": {
        "colab": {
          "base_uri": "https://localhost:8080/"
        },
        "id": "TOnZlfyuf7k5",
        "outputId": "1ae64edc-0796-4daa-dd16-4e3bb0f68fdb"
      },
      "source": [
        "table_view = show_table(db, table)\n",
        "table_view"
      ],
      "execution_count": 56,
      "outputs": [
        {
          "output_type": "execute_result",
          "data": {
            "text/plain": [
              "(('Claim_Header_ID',\n",
              "  'Claim_Status_Code',\n",
              "  'Claim_Type_Code',\n",
              "  'Policy_ID',\n",
              "  'Date_of_Claim',\n",
              "  'Date_of_Settlement',\n",
              "  'Amount_Claimed',\n",
              "  'Amount_Piad'),\n",
              " [(15,\n",
              "   'Settled',\n",
              "   'Handphone Subsidy',\n",
              "   518,\n",
              "   '2016-05-31 06:07:11',\n",
              "   '2018-02-23 03:46:38',\n",
              "   349.15,\n",
              "   582.03),\n",
              "  (24,\n",
              "   'Disputed',\n",
              "   'Child Birth',\n",
              "   518,\n",
              "   '2016-12-30 21:43:21',\n",
              "   '2017-10-08 21:43:14',\n",
              "   318.16,\n",
              "   309.2),\n",
              "  (27,\n",
              "   'Disputed',\n",
              "   'Overtime Meal Subsidy',\n",
              "   518,\n",
              "   '2017-05-01 13:34:43',\n",
              "   '2017-11-16 04:06:05',\n",
              "   362.71,\n",
              "   132.97),\n",
              "  (28,\n",
              "   'Disputed',\n",
              "   'Child Birth',\n",
              "   287,\n",
              "   '2016-10-01 00:40:00',\n",
              "   '2017-10-20 02:24:21',\n",
              "   789.19,\n",
              "   113.86),\n",
              "  (34,\n",
              "   'Disputed',\n",
              "   'Handphone Subsidy',\n",
              "   518,\n",
              "   '2016-04-10 01:36:18',\n",
              "   '2017-10-17 07:02:17',\n",
              "   270.49,\n",
              "   643.82),\n",
              "  (39,\n",
              "   'In Progress',\n",
              "   'Handphone Subsidy',\n",
              "   518,\n",
              "   '2016-09-17 05:05:07',\n",
              "   '2018-01-07 05:28:53',\n",
              "   616.12,\n",
              "   773.5),\n",
              "  (45,\n",
              "   'In Progress',\n",
              "   'Handphone Subsidy',\n",
              "   507,\n",
              "   '2016-06-12 23:04:58',\n",
              "   '2018-01-16 06:35:15',\n",
              "   676.81,\n",
              "   289.09),\n",
              "  (56,\n",
              "   'In Progress',\n",
              "   'Handphone Subsidy',\n",
              "   626,\n",
              "   '2016-04-09 03:04:29',\n",
              "   '2017-11-21 09:06:04',\n",
              "   818.15,\n",
              "   826),\n",
              "  (62,\n",
              "   'Disputed',\n",
              "   'Child Birth',\n",
              "   626,\n",
              "   '2017-07-05 02:54:30',\n",
              "   '2018-03-08 13:00:23',\n",
              "   182.79,\n",
              "   558.7),\n",
              "  (69,\n",
              "   'In Progress',\n",
              "   'Overtime Meal Subsidy',\n",
              "   626,\n",
              "   '2016-12-17 08:28:16',\n",
              "   '2017-12-20 09:58:14',\n",
              "   867.57,\n",
              "   133.72),\n",
              "  (72,\n",
              "   'Disputed',\n",
              "   'Overtime Meal Subsidy',\n",
              "   626,\n",
              "   '2017-07-09 17:06:09',\n",
              "   '2017-12-06 15:01:14',\n",
              "   672.06,\n",
              "   227.84),\n",
              "  (73,\n",
              "   'Settled',\n",
              "   'Overtime Meal Subsidy',\n",
              "   626,\n",
              "   '2016-11-15 13:12:02',\n",
              "   '2018-01-21 05:51:01',\n",
              "   228.45,\n",
              "   794.63),\n",
              "  (81,\n",
              "   'In Progress',\n",
              "   'Overtime Meal Subsidy',\n",
              "   628,\n",
              "   '2016-09-26 04:03:48',\n",
              "   '2017-12-20 19:06:12',\n",
              "   783.42,\n",
              "   779.59),\n",
              "  (82,\n",
              "   'Settled',\n",
              "   'Overtime Meal Subsidy',\n",
              "   125,\n",
              "   '2016-09-29 02:42:22',\n",
              "   '2017-12-06 17:10:03',\n",
              "   756.27,\n",
              "   612.74),\n",
              "  (90,\n",
              "   'Settled',\n",
              "   'Child Birth',\n",
              "   125,\n",
              "   '2016-09-28 18:53:22',\n",
              "   '2017-10-17 22:03:17',\n",
              "   425.98,\n",
              "   536.99)])"
            ]
          },
          "metadata": {},
          "execution_count": 56
        }
      ]
    },
    {
      "cell_type": "markdown",
      "metadata": {
        "id": "VAfr7y0lAryF"
      },
      "source": [
        "## Выполнение запроса"
      ]
    }
  ]
}