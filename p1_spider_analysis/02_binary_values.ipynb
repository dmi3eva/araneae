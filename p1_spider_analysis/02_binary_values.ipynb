{
  "nbformat": 4,
  "nbformat_minor": 0,
  "metadata": {
    "colab": {
      "name": "02_binary_values.ipynb",
      "provenance": [],
      "collapsed_sections": [],
      "authorship_tag": "ABX9TyMH2s/IzCgCuihrfYUWYL6A",
      "include_colab_link": true
    },
    "kernelspec": {
      "name": "python3",
      "display_name": "Python 3"
    },
    "language_info": {
      "name": "python"
    }
  },
  "cells": [
    {
      "cell_type": "markdown",
      "metadata": {
        "id": "view-in-github",
        "colab_type": "text"
      },
      "source": [
        "<a href=\"https://colab.research.google.com/github/dmi3eva/araneae/blob/main/p1_spider_analysis/02_binary_values.ipynb\" target=\"_parent\"><img src=\"https://colab.research.google.com/assets/colab-badge.svg\" alt=\"Open In Colab\"/></a>"
      ]
    },
    {
      "cell_type": "markdown",
      "metadata": {
        "id": "6Lwr7bc8ihwO"
      },
      "source": [
        "### Mounting"
      ]
    },
    {
      "cell_type": "code",
      "metadata": {
        "colab": {
          "base_uri": "https://localhost:8080/"
        },
        "id": "lPDmK35SiMLH",
        "outputId": "bbc36409-9bf0-4a4e-d964-724a10434858"
      },
      "source": [
        "from google.colab import drive\n",
        "drive.mount('/content/drive')"
      ],
      "execution_count": 77,
      "outputs": [
        {
          "output_type": "stream",
          "text": [
            "Drive already mounted at /content/drive; to attempt to forcibly remount, call drive.mount(\"/content/drive\", force_remount=True).\n"
          ],
          "name": "stdout"
        }
      ]
    },
    {
      "cell_type": "code",
      "metadata": {
        "colab": {
          "base_uri": "https://localhost:8080/"
        },
        "id": "3y3ip_JMiviH",
        "outputId": "f9f36f87-4cbf-4ee0-a9bc-8d56935bca33"
      },
      "source": [
        "%cd /content\n",
        "%cd drive\n",
        "%cd My\\ Drive\n",
        "%cd PhD\n",
        "%cd Paper_01"
      ],
      "execution_count": 79,
      "outputs": [
        {
          "output_type": "stream",
          "text": [
            "/content\n",
            "/content/drive\n",
            "/content/drive/My Drive\n",
            "/content/drive/My Drive/PhD\n",
            "/content/drive/My Drive/PhD/Paper_01\n"
          ],
          "name": "stdout"
        }
      ]
    },
    {
      "cell_type": "code",
      "metadata": {
        "id": "acax8fHHccAU"
      },
      "source": [
        "DB_PATH = \"datasets/spider/database\"\n",
        "SCHEMES_PATH = \"datasets/spider/tables.json\""
      ],
      "execution_count": 80,
      "outputs": []
    },
    {
      "cell_type": "markdown",
      "metadata": {
        "id": "tf2U6wwzioCK"
      },
      "source": [
        "### Loading"
      ]
    },
    {
      "cell_type": "code",
      "metadata": {
        "id": "0vkV3CzEjWnp"
      },
      "source": [
        "import json"
      ],
      "execution_count": null,
      "outputs": []
    },
    {
      "cell_type": "code",
      "metadata": {
        "id": "Pqw538xLinaq"
      },
      "source": [
        "with open('araneae_basic.json') as json_file:\n",
        "  araneae_basic = json.load(json_file)"
      ],
      "execution_count": null,
      "outputs": []
    },
    {
      "cell_type": "code",
      "metadata": {
        "colab": {
          "base_uri": "https://localhost:8080/"
        },
        "id": "etj4a3adkgmq",
        "outputId": "54819450-97f3-4dda-adc7-19fee4a837fe"
      },
      "source": [
        "len(araneae_basic)"
      ],
      "execution_count": null,
      "outputs": [
        {
          "output_type": "execute_result",
          "data": {
            "text/plain": [
              "9693"
            ]
          },
          "metadata": {
            "tags": []
          },
          "execution_count": 6
        }
      ]
    },
    {
      "cell_type": "code",
      "metadata": {
        "id": "NLR2VXDGkpsB",
        "colab": {
          "base_uri": "https://localhost:8080/"
        },
        "outputId": "f2fc40de-a1e3-4f9c-c0c4-1634f33e7302"
      },
      "source": [
        "araneae_basic[0]"
      ],
      "execution_count": null,
      "outputs": [
        {
          "output_type": "execute_result",
          "data": {
            "text/plain": [
              "{'db_id': 'concert_singer',\n",
              " 'query': 'SELECT count(*) FROM singer',\n",
              " 'query_toks': ['SELECT', 'count', '(', '*', ')', 'FROM', 'singer'],\n",
              " 'query_toks_no_value': ['select', 'count', '(', '*', ')', 'from', 'singer'],\n",
              " 'question': 'How many singers do we have?',\n",
              " 'question_toks': ['How', 'many', 'singers', 'do', 'we', 'have', '?'],\n",
              " 'source': 'spider-dev',\n",
              " 'sql': {'except': None,\n",
              "  'from': {'conds': [], 'table_units': [['table_unit', 1]]},\n",
              "  'groupBy': [],\n",
              "  'having': [],\n",
              "  'intersect': None,\n",
              "  'limit': None,\n",
              "  'orderBy': [],\n",
              "  'select': [False, [[3, [0, [0, 0, False], None]]]],\n",
              "  'union': None,\n",
              "  'where': []}}"
            ]
          },
          "metadata": {
            "tags": []
          },
          "execution_count": 7
        }
      ]
    },
    {
      "cell_type": "code",
      "metadata": {
        "id": "QxQ-DpKTvKfJ"
      },
      "source": [
        "import collections\n",
        "import matplotlib.pyplot as plt\n",
        "import sqlite3\n",
        "import os"
      ],
      "execution_count": null,
      "outputs": []
    },
    {
      "cell_type": "code",
      "metadata": {
        "id": "q7sMy77ewYZp"
      },
      "source": [
        "%matplotlib inline "
      ],
      "execution_count": null,
      "outputs": []
    },
    {
      "cell_type": "markdown",
      "metadata": {
        "id": "n8Ts20neWKHa"
      },
      "source": [
        "### Utils"
      ]
    },
    {
      "cell_type": "code",
      "metadata": {
        "id": "HvIX0Ov5WJbs"
      },
      "source": [
        "def execute_request(db_id, sql):\n",
        "    db = os.path.join(DB_PATH, db_id, db_id + \".sqlite\")\n",
        "    conn = sqlite3.connect(db)\n",
        "    cursor = conn.cursor()\n",
        "    try:\n",
        "        cursor.execute(sql)\n",
        "        res = cursor.fetchall()\n",
        "        return res\n",
        "    except:\n",
        "        raise ValueError"
      ],
      "execution_count": null,
      "outputs": []
    },
    {
      "cell_type": "code",
      "metadata": {
        "id": "KFygIc8qbENz"
      },
      "source": [
        "REQUEST_MASK = \"\"\"SELECT {column} FROM {table}\"\"\" \n",
        "def get_values(db, table, column):\n",
        "  # Возвращает значения из столбца данной таблицы\n",
        "  if \" \" in table:\n",
        "    table = f\"\\\"{table}\\\"\"\n",
        "  if \" \" in column:\n",
        "    column = f\"\\\"{column}\\\"\"\n",
        "  aim_request = REQUEST_MASK.format(table=table, column=column)\n",
        "  try:\n",
        "    response = execute_request(db, aim_request)\n",
        "    values = [str(_v[0]) for _v in list(response)]\n",
        "    return values\n",
        "  except ValueError:\n",
        "    print()\n",
        "    print(f\"Problem with {column} in {table} (db = {db}). Request: {aim_request}\")\n",
        "    return []"
      ],
      "execution_count": null,
      "outputs": []
    },
    {
      "cell_type": "code",
      "metadata": {
        "id": "Avs4phkbkMi7"
      },
      "source": [
        "db_ids = os.listdir(DB_PATH)"
      ],
      "execution_count": null,
      "outputs": []
    },
    {
      "cell_type": "code",
      "metadata": {
        "id": "niQL_Ue9cNMi"
      },
      "source": [
        "with open(TABLES_PATH) as table_file:\n",
        "  tables = json.load(table_file)"
      ],
      "execution_count": null,
      "outputs": []
    },
    {
      "cell_type": "code",
      "metadata": {
        "id": "UDT0HNZIdOvU"
      },
      "source": [
        "with open(SCHEMES_PATH) as table_file:\n",
        "  schemes = json.load(table_file)\n",
        "\n",
        "tables = {_s['db_id']: _s['table_names_original'] for _s in schemes}"
      ],
      "execution_count": null,
      "outputs": []
    },
    {
      "cell_type": "code",
      "metadata": {
        "id": "V7UzIhs7ghBL"
      },
      "source": [
        "columns = {\n",
        "    _s['db_id']: {\n",
        "        _table: [] for _table in _s['table_names_original']\n",
        "    } for _s in schemes\n",
        "}\n",
        "for _scheme in schemes:\n",
        "  db_id = _scheme['db_id']\n",
        "  table_names = _scheme['table_names_original']\n",
        "  for _column in _scheme[\"column_names_original\"]:\n",
        "    column_name = _column[1]\n",
        "    table_name = table_names[_column[0]]\n",
        "    if column_name == '*':\n",
        "      continue\n",
        "    columns[db_id][table_name].append(column_name)"
      ],
      "execution_count": null,
      "outputs": []
    },
    {
      "cell_type": "code",
      "metadata": {
        "id": "j5_dcyprfWtM"
      },
      "source": [
        "def get_db_tables(db):\n",
        "  return tables[db]"
      ],
      "execution_count": null,
      "outputs": []
    },
    {
      "cell_type": "code",
      "metadata": {
        "id": "tOuZyhirjpz0"
      },
      "source": [
        "def get_db_columns(db, table):\n",
        "  return columns[db][table]"
      ],
      "execution_count": null,
      "outputs": []
    },
    {
      "cell_type": "markdown",
      "metadata": {
        "id": "qas4JYv4b-2b"
      },
      "source": [
        "### Analysis"
      ]
    },
    {
      "cell_type": "code",
      "metadata": {
        "id": "OMYtc0JWkS5s"
      },
      "source": [
        "def get_db_with_binary_values():\n",
        "  amounts = {}\n",
        "  for _db_id in db_ids:\n",
        "    tables = get_db_tables(_db_id)\n",
        "    for _table in tables:\n",
        "      columns = get_db_columns(_db_id, _table)\n",
        "      for _column in columns:\n",
        "        values = get_values(_db_id, _table, _column)  \n",
        "        size = len(values)      \n",
        "        amounts[size] = amounts.get(size, []) + [{\n",
        "            \"db_id\": _db_id,\n",
        "            \"table\": _table,\n",
        "            \"column\": _column,\n",
        "            \"values\": values\n",
        "        }]\n",
        "  return amounts"
      ],
      "execution_count": 81,
      "outputs": []
    },
    {
      "cell_type": "code",
      "metadata": {
        "colab": {
          "base_uri": "https://localhost:8080/"
        },
        "id": "vJ1ww6HblHH7",
        "outputId": "17e4652f-d09e-4fa8-dc2c-57d28d963fbc"
      },
      "source": [
        "amounts = get_db_with_binary_values()"
      ],
      "execution_count": 82,
      "outputs": [
        {
          "output_type": "stream",
          "text": [
            "\n",
            "Problem with %_Change_2007 in airport (db = aircraft). Request: SELECT %_Change_2007 FROM airport\n",
            "\n",
            "Problem with Official_ratings_(millions) in performance (db = orchestra). Request: SELECT Official_ratings_(millions) FROM performance\n",
            "\n",
            "Problem with From in train (db = railway). Request: SELECT From FROM train\n",
            "\n",
            "Problem with 18_49_Rating_Share in TV_series (db = tvshow). Request: SELECT 18_49_Rating_Share FROM TV_series\n",
            "\n",
            "Problem with first_name in players (db = wta_1). Request: SELECT first_name FROM players\n",
            "\n",
            "Problem with last_name in players (db = wta_1). Request: SELECT last_name FROM players\n"
          ],
          "name": "stdout"
        }
      ]
    },
    {
      "cell_type": "code",
      "metadata": {
        "colab": {
          "base_uri": "https://localhost:8080/"
        },
        "id": "QOROkBaIm1Hk",
        "outputId": "2b8e6c9c-03d9-4324-b5e0-f1f77ee97fbc"
      },
      "source": [
        "amounts[2]"
      ],
      "execution_count": null,
      "outputs": [
        {
          "output_type": "execute_result",
          "data": {
            "text/plain": [
              "[\"db_id=behavior_monitoring; table=Ref_Address_Types; column=address_type_code; values=['BILL', 'HOME']\",\n",
              " \"db_id=behavior_monitoring; table=Ref_Address_Types; column=address_type_description; values=['Billing', 'Home or Residence']\",\n",
              " \"db_id=cre_Docs_and_Epenses; table=Statements; column=Statement_ID; values=['57', '192']\",\n",
              " \"db_id=cre_Docs_and_Epenses; table=Statements; column=Statement_Details; values=['Open Project', 'Private Project']\",\n",
              " \"db_id=cre_Drama_Workshop_Groups; table=Invoice_Items; column=Invoice_Item_ID; values=['1', '2']\",\n",
              " \"db_id=cre_Drama_Workshop_Groups; table=Invoice_Items; column=Invoice_ID; values=['128', '162']\",\n",
              " \"db_id=cre_Drama_Workshop_Groups; table=Invoice_Items; column=Order_ID; values=['1', '4']\",\n",
              " \"db_id=cre_Drama_Workshop_Groups; table=Invoice_Items; column=Order_Item_ID; values=['5', '6']\",\n",
              " \"db_id=cre_Drama_Workshop_Groups; table=Invoice_Items; column=Product_ID; values=['396', '191']\",\n",
              " \"db_id=cre_Drama_Workshop_Groups; table=Invoice_Items; column=Order_Quantity; values=['2', '6']\",\n",
              " \"db_id=cre_Drama_Workshop_Groups; table=Invoice_Items; column=Other_Item_Details; values=['None', 'Good quality']\",\n",
              " \"db_id=cre_Theme_park; table=Street_Markets; column=Market_ID; values=['6852', '7067']\",\n",
              " \"db_id=cre_Theme_park; table=Street_Markets; column=Market_Details; values=['Broadway', 'Fish Farm Market']\",\n",
              " \"db_id=cre_Theme_park; table=Royal_Family; column=Royal_Family_ID; values=['9561', '9919']\",\n",
              " \"db_id=cre_Theme_park; table=Royal_Family; column=Royal_Family_Details; values=['None', 'None']\",\n",
              " \"db_id=document_management; table=Roles; column=role_code; values=['DBA', 'PROJ-MGR']\",\n",
              " \"db_id=document_management; table=Roles; column=role_description; values=['Database Administrator', 'Project Manager']\",\n",
              " \"db_id=insurance_and_eClaims; table=Claims_Processing_Stages; column=Claim_Stage_ID; values=['1', '3']\",\n",
              " \"db_id=insurance_and_eClaims; table=Claims_Processing_Stages; column=Next_Claim_Stage_ID; values=['1', '1']\",\n",
              " \"db_id=insurance_and_eClaims; table=Claims_Processing_Stages; column=Claim_Status_Name; values=['Open', 'Close']\",\n",
              " \"db_id=insurance_and_eClaims; table=Claims_Processing_Stages; column=Claim_Status_Description; values=['Open a new claim', 'Close a claim']\",\n",
              " \"db_id=local_govt_mdm; table=Parking_Fines; column=council_tax_id; values=['9', '10']\",\n",
              " \"db_id=local_govt_mdm; table=Parking_Fines; column=cmi_cross_ref_id; values=['4', '81']\",\n",
              " \"db_id=products_gen_characteristics; table=Ref_Characteristic_Types; column=characteristic_type_code; values=['Grade', 'Purity']\",\n",
              " \"db_id=products_gen_characteristics; table=Ref_Characteristic_Types; column=characteristic_type_description; values=['Grade', 'Purity']\",\n",
              " \"db_id=real_estate_properties; table=Ref_Feature_Types; column=feature_type_code; values=['Amenity', 'Security']\",\n",
              " \"db_id=real_estate_properties; table=Ref_Feature_Types; column=feature_type_name; values=['Amenity, eg Pool.', 'Securiyt, eg Burglar Alarm.']\",\n",
              " \"db_id=restaurant_1; table=Restaurant; column=ResID; values=['1', '2']\",\n",
              " \"db_id=restaurant_1; table=Restaurant; column=ResName; values=['Subway', 'Honeygrow']\",\n",
              " \"db_id=restaurant_1; table=Restaurant; column=Address; values=['3233 St Paul St, Baltimore, MD 21218', '3212 St Paul St, Baltimore, MD 21218']\",\n",
              " \"db_id=restaurant_1; table=Restaurant; column=Rating; values=['3', '4']\",\n",
              " \"db_id=restaurant_1; table=Type_Of_Restaurant; column=ResID; values=['1', '2']\",\n",
              " \"db_id=restaurant_1; table=Type_Of_Restaurant; column=ResTypeID; values=['1', '2']\",\n",
              " \"db_id=restaurant_1; table=Restaurant_Type; column=ResTypeID; values=['1', '2']\",\n",
              " \"db_id=restaurant_1; table=Restaurant_Type; column=ResTypeName; values=['Sandwich', 'Stir-fry']\",\n",
              " \"db_id=restaurant_1; table=Restaurant_Type; column=ResTypeDescription; values=['Simplest there is.', 'Classic Chinese cooking.']\",\n",
              " \"db_id=restaurant_1; table=Visits_Restaurant; column=StuID; values=['1001', '1032']\",\n",
              " \"db_id=restaurant_1; table=Visits_Restaurant; column=ResID; values=['1', '2']\",\n",
              " \"db_id=restaurant_1; table=Visits_Restaurant; column=Time; values=['2017-10-09 18:15:00', '2017-10-08 13:00:30']\",\n",
              " \"db_id=restaurant_1; table=Visits_Restaurant; column=Spent; values=['6.53', '13.2']\",\n",
              " \"db_id=tracking_share_transactions; table=Ref_Transaction_Types; column=transaction_type_code; values=['PUR', 'SALE']\",\n",
              " \"db_id=tracking_share_transactions; table=Ref_Transaction_Types; column=transaction_type_description; values=['Sale', 'Purchase']\",\n",
              " \"db_id=tracking_grants_for_research; table=Document_Types; column=document_type_code; values=['APP', 'REG']\",\n",
              " \"db_id=tracking_grants_for_research; table=Document_Types; column=document_description; values=['Initial Application', 'Regular']\",\n",
              " \"db_id=tracking_grants_for_research; table=Organisation_Types; column=organisation_type; values=['RES', 'SPON']\",\n",
              " \"db_id=tracking_grants_for_research; table=Organisation_Types; column=organisation_type_description; values=['Research', 'Sponsor']\",\n",
              " \"db_id=tracking_grants_for_research; table=Research_Outcomes; column=outcome_code; values=['Paper', 'Patent']\",\n",
              " \"db_id=tracking_grants_for_research; table=Research_Outcomes; column=outcome_description; values=['Published Research Paper', 'Research Patent']\",\n",
              " \"db_id=tracking_grants_for_research; table=Staff_Roles; column=role_code; values=['leader', 'researcher']\",\n",
              " \"db_id=tracking_grants_for_research; table=Staff_Roles; column=role_description; values=['Project Leader', 'Project Researcher']\",\n",
              " \"db_id=tracking_software_problems; table=Problem_Status_Codes; column=problem_status_code; values=['Reported', 'Solved']\",\n",
              " \"db_id=tracking_software_problems; table=Problem_Status_Codes; column=problem_status_description; values=['Reported', 'Solved']\"]"
            ]
          },
          "metadata": {
            "tags": []
          },
          "execution_count": 61
        }
      ]
    },
    {
      "cell_type": "code",
      "metadata": {
        "colab": {
          "base_uri": "https://localhost:8080/"
        },
        "id": "iNtgmpxzOJbq",
        "outputId": "89ec1cea-fe8f-47fd-ed03-bf0082a1fcec"
      },
      "source": [
        "amounts[2]"
      ],
      "execution_count": 83,
      "outputs": [
        {
          "output_type": "execute_result",
          "data": {
            "text/plain": [
              "[{'column': 'address_type_code',\n",
              "  'db_id': 'behavior_monitoring',\n",
              "  'table': 'Ref_Address_Types',\n",
              "  'values': ['BILL', 'HOME']},\n",
              " {'column': 'address_type_description',\n",
              "  'db_id': 'behavior_monitoring',\n",
              "  'table': 'Ref_Address_Types',\n",
              "  'values': ['Billing', 'Home or Residence']},\n",
              " {'column': 'Statement_ID',\n",
              "  'db_id': 'cre_Docs_and_Epenses',\n",
              "  'table': 'Statements',\n",
              "  'values': ['57', '192']},\n",
              " {'column': 'Statement_Details',\n",
              "  'db_id': 'cre_Docs_and_Epenses',\n",
              "  'table': 'Statements',\n",
              "  'values': ['Open Project', 'Private Project']},\n",
              " {'column': 'Invoice_Item_ID',\n",
              "  'db_id': 'cre_Drama_Workshop_Groups',\n",
              "  'table': 'Invoice_Items',\n",
              "  'values': ['1', '2']},\n",
              " {'column': 'Invoice_ID',\n",
              "  'db_id': 'cre_Drama_Workshop_Groups',\n",
              "  'table': 'Invoice_Items',\n",
              "  'values': ['128', '162']},\n",
              " {'column': 'Order_ID',\n",
              "  'db_id': 'cre_Drama_Workshop_Groups',\n",
              "  'table': 'Invoice_Items',\n",
              "  'values': ['1', '4']},\n",
              " {'column': 'Order_Item_ID',\n",
              "  'db_id': 'cre_Drama_Workshop_Groups',\n",
              "  'table': 'Invoice_Items',\n",
              "  'values': ['5', '6']},\n",
              " {'column': 'Product_ID',\n",
              "  'db_id': 'cre_Drama_Workshop_Groups',\n",
              "  'table': 'Invoice_Items',\n",
              "  'values': ['396', '191']},\n",
              " {'column': 'Order_Quantity',\n",
              "  'db_id': 'cre_Drama_Workshop_Groups',\n",
              "  'table': 'Invoice_Items',\n",
              "  'values': ['2', '6']},\n",
              " {'column': 'Other_Item_Details',\n",
              "  'db_id': 'cre_Drama_Workshop_Groups',\n",
              "  'table': 'Invoice_Items',\n",
              "  'values': ['None', 'Good quality']},\n",
              " {'column': 'Market_ID',\n",
              "  'db_id': 'cre_Theme_park',\n",
              "  'table': 'Street_Markets',\n",
              "  'values': ['6852', '7067']},\n",
              " {'column': 'Market_Details',\n",
              "  'db_id': 'cre_Theme_park',\n",
              "  'table': 'Street_Markets',\n",
              "  'values': ['Broadway', 'Fish Farm Market']},\n",
              " {'column': 'Royal_Family_ID',\n",
              "  'db_id': 'cre_Theme_park',\n",
              "  'table': 'Royal_Family',\n",
              "  'values': ['9561', '9919']},\n",
              " {'column': 'Royal_Family_Details',\n",
              "  'db_id': 'cre_Theme_park',\n",
              "  'table': 'Royal_Family',\n",
              "  'values': ['None', 'None']},\n",
              " {'column': 'role_code',\n",
              "  'db_id': 'document_management',\n",
              "  'table': 'Roles',\n",
              "  'values': ['DBA', 'PROJ-MGR']},\n",
              " {'column': 'role_description',\n",
              "  'db_id': 'document_management',\n",
              "  'table': 'Roles',\n",
              "  'values': ['Database Administrator', 'Project Manager']},\n",
              " {'column': 'Claim_Stage_ID',\n",
              "  'db_id': 'insurance_and_eClaims',\n",
              "  'table': 'Claims_Processing_Stages',\n",
              "  'values': ['1', '3']},\n",
              " {'column': 'Next_Claim_Stage_ID',\n",
              "  'db_id': 'insurance_and_eClaims',\n",
              "  'table': 'Claims_Processing_Stages',\n",
              "  'values': ['1', '1']},\n",
              " {'column': 'Claim_Status_Name',\n",
              "  'db_id': 'insurance_and_eClaims',\n",
              "  'table': 'Claims_Processing_Stages',\n",
              "  'values': ['Open', 'Close']},\n",
              " {'column': 'Claim_Status_Description',\n",
              "  'db_id': 'insurance_and_eClaims',\n",
              "  'table': 'Claims_Processing_Stages',\n",
              "  'values': ['Open a new claim', 'Close a claim']},\n",
              " {'column': 'council_tax_id',\n",
              "  'db_id': 'local_govt_mdm',\n",
              "  'table': 'Parking_Fines',\n",
              "  'values': ['9', '10']},\n",
              " {'column': 'cmi_cross_ref_id',\n",
              "  'db_id': 'local_govt_mdm',\n",
              "  'table': 'Parking_Fines',\n",
              "  'values': ['4', '81']},\n",
              " {'column': 'characteristic_type_code',\n",
              "  'db_id': 'products_gen_characteristics',\n",
              "  'table': 'Ref_Characteristic_Types',\n",
              "  'values': ['Grade', 'Purity']},\n",
              " {'column': 'characteristic_type_description',\n",
              "  'db_id': 'products_gen_characteristics',\n",
              "  'table': 'Ref_Characteristic_Types',\n",
              "  'values': ['Grade', 'Purity']},\n",
              " {'column': 'feature_type_code',\n",
              "  'db_id': 'real_estate_properties',\n",
              "  'table': 'Ref_Feature_Types',\n",
              "  'values': ['Amenity', 'Security']},\n",
              " {'column': 'feature_type_name',\n",
              "  'db_id': 'real_estate_properties',\n",
              "  'table': 'Ref_Feature_Types',\n",
              "  'values': ['Amenity, eg Pool.', 'Securiyt, eg Burglar Alarm.']},\n",
              " {'column': 'ResID',\n",
              "  'db_id': 'restaurant_1',\n",
              "  'table': 'Restaurant',\n",
              "  'values': ['1', '2']},\n",
              " {'column': 'ResName',\n",
              "  'db_id': 'restaurant_1',\n",
              "  'table': 'Restaurant',\n",
              "  'values': ['Subway', 'Honeygrow']},\n",
              " {'column': 'Address',\n",
              "  'db_id': 'restaurant_1',\n",
              "  'table': 'Restaurant',\n",
              "  'values': ['3233 St Paul St, Baltimore, MD 21218',\n",
              "   '3212 St Paul St, Baltimore, MD 21218']},\n",
              " {'column': 'Rating',\n",
              "  'db_id': 'restaurant_1',\n",
              "  'table': 'Restaurant',\n",
              "  'values': ['3', '4']},\n",
              " {'column': 'ResID',\n",
              "  'db_id': 'restaurant_1',\n",
              "  'table': 'Type_Of_Restaurant',\n",
              "  'values': ['1', '2']},\n",
              " {'column': 'ResTypeID',\n",
              "  'db_id': 'restaurant_1',\n",
              "  'table': 'Type_Of_Restaurant',\n",
              "  'values': ['1', '2']},\n",
              " {'column': 'ResTypeID',\n",
              "  'db_id': 'restaurant_1',\n",
              "  'table': 'Restaurant_Type',\n",
              "  'values': ['1', '2']},\n",
              " {'column': 'ResTypeName',\n",
              "  'db_id': 'restaurant_1',\n",
              "  'table': 'Restaurant_Type',\n",
              "  'values': ['Sandwich', 'Stir-fry']},\n",
              " {'column': 'ResTypeDescription',\n",
              "  'db_id': 'restaurant_1',\n",
              "  'table': 'Restaurant_Type',\n",
              "  'values': ['Simplest there is.', 'Classic Chinese cooking.']},\n",
              " {'column': 'StuID',\n",
              "  'db_id': 'restaurant_1',\n",
              "  'table': 'Visits_Restaurant',\n",
              "  'values': ['1001', '1032']},\n",
              " {'column': 'ResID',\n",
              "  'db_id': 'restaurant_1',\n",
              "  'table': 'Visits_Restaurant',\n",
              "  'values': ['1', '2']},\n",
              " {'column': 'Time',\n",
              "  'db_id': 'restaurant_1',\n",
              "  'table': 'Visits_Restaurant',\n",
              "  'values': ['2017-10-09 18:15:00', '2017-10-08 13:00:30']},\n",
              " {'column': 'Spent',\n",
              "  'db_id': 'restaurant_1',\n",
              "  'table': 'Visits_Restaurant',\n",
              "  'values': ['6.53', '13.2']},\n",
              " {'column': 'transaction_type_code',\n",
              "  'db_id': 'tracking_share_transactions',\n",
              "  'table': 'Ref_Transaction_Types',\n",
              "  'values': ['PUR', 'SALE']},\n",
              " {'column': 'transaction_type_description',\n",
              "  'db_id': 'tracking_share_transactions',\n",
              "  'table': 'Ref_Transaction_Types',\n",
              "  'values': ['Sale', 'Purchase']},\n",
              " {'column': 'document_type_code',\n",
              "  'db_id': 'tracking_grants_for_research',\n",
              "  'table': 'Document_Types',\n",
              "  'values': ['APP', 'REG']},\n",
              " {'column': 'document_description',\n",
              "  'db_id': 'tracking_grants_for_research',\n",
              "  'table': 'Document_Types',\n",
              "  'values': ['Initial Application', 'Regular']},\n",
              " {'column': 'organisation_type',\n",
              "  'db_id': 'tracking_grants_for_research',\n",
              "  'table': 'Organisation_Types',\n",
              "  'values': ['RES', 'SPON']},\n",
              " {'column': 'organisation_type_description',\n",
              "  'db_id': 'tracking_grants_for_research',\n",
              "  'table': 'Organisation_Types',\n",
              "  'values': ['Research', 'Sponsor']},\n",
              " {'column': 'outcome_code',\n",
              "  'db_id': 'tracking_grants_for_research',\n",
              "  'table': 'Research_Outcomes',\n",
              "  'values': ['Paper', 'Patent']},\n",
              " {'column': 'outcome_description',\n",
              "  'db_id': 'tracking_grants_for_research',\n",
              "  'table': 'Research_Outcomes',\n",
              "  'values': ['Published Research Paper', 'Research Patent']},\n",
              " {'column': 'role_code',\n",
              "  'db_id': 'tracking_grants_for_research',\n",
              "  'table': 'Staff_Roles',\n",
              "  'values': ['leader', 'researcher']},\n",
              " {'column': 'role_description',\n",
              "  'db_id': 'tracking_grants_for_research',\n",
              "  'table': 'Staff_Roles',\n",
              "  'values': ['Project Leader', 'Project Researcher']},\n",
              " {'column': 'problem_status_code',\n",
              "  'db_id': 'tracking_software_problems',\n",
              "  'table': 'Problem_Status_Codes',\n",
              "  'values': ['Reported', 'Solved']},\n",
              " {'column': 'problem_status_description',\n",
              "  'db_id': 'tracking_software_problems',\n",
              "  'table': 'Problem_Status_Codes',\n",
              "  'values': ['Reported', 'Solved']}]"
            ]
          },
          "metadata": {
            "tags": []
          },
          "execution_count": 83
        }
      ]
    },
    {
      "cell_type": "code",
      "metadata": {
        "colab": {
          "base_uri": "https://localhost:8080/"
        },
        "id": "Hp_tLQHYnaWr",
        "outputId": "5de774e7-c28e-4563-a1aa-dc783fe9e4e0"
      },
      "source": [
        "all_sizes = {_k: len(_v) for _k, _v in amounts.items()}\n",
        "all_sizes"
      ],
      "execution_count": null,
      "outputs": [
        {
          "output_type": "execute_result",
          "data": {
            "text/plain": [
              "{0: 274,\n",
              " 1: 2,\n",
              " 2: 52,\n",
              " 3: 108,\n",
              " 4: 110,\n",
              " 5: 203,\n",
              " 6: 298,\n",
              " 7: 191,\n",
              " 8: 243,\n",
              " 9: 113,\n",
              " 10: 201,\n",
              " 11: 106,\n",
              " 12: 102,\n",
              " 13: 68,\n",
              " 14: 50,\n",
              " 15: 1081,\n",
              " 16: 35,\n",
              " 17: 9,\n",
              " 18: 15,\n",
              " 19: 28,\n",
              " 20: 106,\n",
              " 21: 7,\n",
              " 22: 13,\n",
              " 23: 26,\n",
              " 25: 7,\n",
              " 26: 6,\n",
              " 27: 4,\n",
              " 30: 3,\n",
              " 31: 6,\n",
              " 34: 72,\n",
              " 36: 8,\n",
              " 37: 7,\n",
              " 40: 4,\n",
              " 50: 4,\n",
              " 52: 10,\n",
              " 57: 6,\n",
              " 58: 16,\n",
              " 59: 28,\n",
              " 60: 4,\n",
              " 63: 3,\n",
              " 69: 7,\n",
              " 70: 9,\n",
              " 73: 9,\n",
              " 76: 7,\n",
              " 93: 10,\n",
              " 100: 19,\n",
              " 107: 11,\n",
              " 109: 3,\n",
              " 120: 4,\n",
              " 134: 2,\n",
              " 177: 6,\n",
              " 200: 8,\n",
              " 208: 5,\n",
              " 210: 3,\n",
              " 239: 15,\n",
              " 250: 6,\n",
              " 275: 4,\n",
              " 278: 32,\n",
              " 299: 5,\n",
              " 305: 2,\n",
              " 307: 9,\n",
              " 320: 3,\n",
              " 347: 6,\n",
              " 395: 5,\n",
              " 406: 11,\n",
              " 412: 18,\n",
              " 414: 7,\n",
              " 500: 11,\n",
              " 599: 9,\n",
              " 600: 13,\n",
              " 603: 8,\n",
              " 842: 9,\n",
              " 984: 4,\n",
              " 997: 8,\n",
              " 1000: 16,\n",
              " 1113: 4,\n",
              " 1200: 4,\n",
              " 1207: 5,\n",
              " 1458: 25,\n",
              " 2000: 6,\n",
              " 2240: 10,\n",
              " 2805: 48,\n",
              " 2944: 9,\n",
              " 3405: 10,\n",
              " 3503: 18,\n",
              " 3665: 24,\n",
              " 4079: 5,\n",
              " 4120: 9,\n",
              " 4581: 4,\n",
              " 5069: 8,\n",
              " 5109: 30,\n",
              " 5462: 3,\n",
              " 6078: 6,\n",
              " 6162: 7,\n",
              " 6795: 7,\n",
              " 7184: 9,\n",
              " 7516: 9,\n",
              " 8487: 4,\n",
              " 8715: 4,\n",
              " 9959: 11,\n",
              " 11060: 7,\n",
              " 11142: 5,\n",
              " 11690: 22,\n",
              " 11896: 7,\n",
              " 12028: 6,\n",
              " 12311: 17,\n",
              " 16044: 7,\n",
              " 16049: 7,\n",
              " 17350: 3,\n",
              " 18846: 24,\n",
              " 20662: 4,\n",
              " 23777: 18,\n",
              " 25575: 5,\n",
              " 30000: 6,\n",
              " 31726: 7,\n",
              " 44139: 30,\n",
              " 67240: 8,\n",
              " 100951: 21,\n",
              " 101332: 22,\n",
              " 170526: 18,\n",
              " 183978: 42,\n",
              " 510437: 5}"
            ]
          },
          "metadata": {
            "tags": []
          },
          "execution_count": 63
        }
      ]
    },
    {
      "cell_type": "code",
      "metadata": {
        "colab": {
          "base_uri": "https://localhost:8080/"
        },
        "id": "-yHzjmOwo1AF",
        "outputId": "f9241b79-ce3a-49c4-87b0-97c9280f031d"
      },
      "source": [
        "size_values = []\n",
        "last_number = sorted(list(all_sizes.keys()))[-1]\n",
        "print(last_number)\n",
        "for i in range(last_number + 1):\n",
        "  if i not in all_sizes.keys():\n",
        "    size_values.append(0)\n",
        "  else:\n",
        "    size_values.append(all_sizes[i])"
      ],
      "execution_count": null,
      "outputs": [
        {
          "output_type": "stream",
          "text": [
            "510437\n"
          ],
          "name": "stdout"
        }
      ]
    },
    {
      "cell_type": "code",
      "metadata": {
        "colab": {
          "base_uri": "https://localhost:8080/",
          "height": 283
        },
        "id": "V7iDmzCcQgw7",
        "outputId": "95430bfe-da0b-48be-a633-cdebd465680c"
      },
      "source": [
        "plt.hist(size_values, bins=[0, 1000])"
      ],
      "execution_count": 89,
      "outputs": [
        {
          "output_type": "execute_result",
          "data": {
            "text/plain": [
              "(array([510437.]), array([   0, 1000]), <a list of 1 Patch objects>)"
            ]
          },
          "metadata": {
            "tags": []
          },
          "execution_count": 89
        },
        {
          "output_type": "display_data",
          "data": {
            "image/png": "[encoded data removed]",
            "text/plain": [
              "<Figure size 432x288 with 1 Axes>"
            ]
          },
          "metadata": {
            "tags": [],
            "needs_background": "light"
          }
        }
      ]
    },
    {
      "cell_type": "code",
      "metadata": {
        "colab": {
          "base_uri": "https://localhost:8080/",
          "height": 283
        },
        "id": "frE5Db7jn_H8",
        "outputId": "f3ff72f2-cf0f-4e81-e3e1-5c7e9c2487b1"
      },
      "source": [
        "plt.bar(range(len(size_values[:100])), size_values[:100])"
      ],
      "execution_count": 91,
      "outputs": [
        {
          "output_type": "execute_result",
          "data": {
            "text/plain": [
              "<BarContainer object of 100 artists>"
            ]
          },
          "metadata": {
            "tags": []
          },
          "execution_count": 91
        },
        {
          "output_type": "display_data",
          "data": {
            "image/png": "[encoded data removed]",
            "text/plain": [
              "<Figure size 432x288 with 1 Axes>"
            ]
          },
          "metadata": {
            "tags": [],
            "needs_background": "light"
          }
        }
      ]
    },
    {
      "cell_type": "code",
      "metadata": {
        "colab": {
          "base_uri": "https://localhost:8080/",
          "height": 283
        },
        "id": "Sc3BfZEpRAVJ",
        "outputId": "78dd85d4-92f8-40d4-d08e-d93df46ea669"
      },
      "source": [
        "plt.bar(range(len(size_values[:20])), size_values[:20])"
      ],
      "execution_count": 92,
      "outputs": [
        {
          "output_type": "execute_result",
          "data": {
            "text/plain": [
              "<BarContainer object of 20 artists>"
            ]
          },
          "metadata": {
            "tags": []
          },
          "execution_count": 92
        },
        {
          "output_type": "display_data",
          "data": {
            "image/png": "[encoded data removed]",
            "text/plain": [
              "<Figure size 432x288 with 1 Axes>"
            ]
          },
          "metadata": {
            "tags": [],
            "needs_background": "light"
          }
        }
      ]
    },
    {
      "cell_type": "code",
      "metadata": {
        "id": "3MI8dTBWRGTJ"
      },
      "source": [
        "bin_size = 100000\n",
        "bin_size_values = [sum(size_values[bin_size*i: bin_size*(i+1)]) for i in range(len(size_values)//bin_size)]"
      ],
      "execution_count": 104,
      "outputs": []
    },
    {
      "cell_type": "code",
      "metadata": {
        "colab": {
          "base_uri": "https://localhost:8080/"
        },
        "id": "mVMsXgCpSQlV",
        "outputId": "613c45f6-f408-4bb6-e613-8ca94f7c67a2"
      },
      "source": [
        "bin_size_values"
      ],
      "execution_count": 105,
      "outputs": [
        {
          "output_type": "execute_result",
          "data": {
            "text/plain": [
              "[4395, 103, 0, 0, 0]"
            ]
          },
          "metadata": {
            "tags": []
          },
          "execution_count": 105
        }
      ]
    },
    {
      "cell_type": "code",
      "metadata": {
        "colab": {
          "base_uri": "https://localhost:8080/",
          "height": 283
        },
        "id": "47RXj0bVR0jk",
        "outputId": "65f52f62-6d04-4551-b20f-8333fe563702"
      },
      "source": [
        "plt.bar(range(len(bin_size_values)), bin_size_values)"
      ],
      "execution_count": 106,
      "outputs": [
        {
          "output_type": "execute_result",
          "data": {
            "text/plain": [
              "<BarContainer object of 5 artists>"
            ]
          },
          "metadata": {
            "tags": []
          },
          "execution_count": 106
        },
        {
          "output_type": "display_data",
          "data": {
            "image/png": "[encoded data removed]",
            "text/plain": [
              "<Figure size 432x288 with 1 Axes>"
            ]
          },
          "metadata": {
            "tags": [],
            "needs_background": "light"
          }
        }
      ]
    },
    {
      "cell_type": "code",
      "metadata": {
        "colab": {
          "base_uri": "https://localhost:8080/",
          "height": 283
        },
        "id": "oDJUDYwpSr7k",
        "outputId": "375d7cc6-db82-4391-ddfb-2d0ae9a6fda8"
      },
      "source": [
        "bin_size = 10000\n",
        "bin_size_values = [sum(size_values[bin_size*i: bin_size*(i+1)]) for i in range(len(size_values)//bin_size)]\n",
        "plt.bar(range(len(bin_size_values)), bin_size_values)"
      ],
      "execution_count": 107,
      "outputs": [
        {
          "output_type": "execute_result",
          "data": {
            "text/plain": [
              "<BarContainer object of 51 artists>"
            ]
          },
          "metadata": {
            "tags": []
          },
          "execution_count": 107
        },
        {
          "output_type": "display_data",
          "data": {
            "image/png": "[encoded data removed]",
            "text/plain": [
              "<Figure size 432x288 with 1 Axes>"
            ]
          },
          "metadata": {
            "tags": [],
            "needs_background": "light"
          }
        }
      ]
    },
    {
      "cell_type": "code",
      "metadata": {
        "colab": {
          "base_uri": "https://localhost:8080/",
          "height": 283
        },
        "id": "d7XXs0u8Sydo",
        "outputId": "28e16f5f-093f-4bd9-c561-3a0782317508"
      },
      "source": [
        "plt.bar(range(len(bin_size_values[1:])), bin_size_values[1:])"
      ],
      "execution_count": 108,
      "outputs": [
        {
          "output_type": "execute_result",
          "data": {
            "text/plain": [
              "<BarContainer object of 50 artists>"
            ]
          },
          "metadata": {
            "tags": []
          },
          "execution_count": 108
        },
        {
          "output_type": "display_data",
          "data": {
            "image/png": "[encoded data removed]",
            "text/plain": [
              "<Figure size 432x288 with 1 Axes>"
            ]
          },
          "metadata": {
            "tags": [],
            "needs_background": "light"
          }
        }
      ]
    },
    {
      "cell_type": "markdown",
      "metadata": {
        "id": "yt98nsEVOQ9K"
      },
      "source": [
        "### Saving"
      ]
    },
    {
      "cell_type": "code",
      "metadata": {
        "id": "hOdSsJhdOQvx"
      },
      "source": [
        "with open('datasets/spider/by_amount_of_values/all.json', 'w') as json_file:\n",
        "    json.dump(amounts, json_file)"
      ],
      "execution_count": 84,
      "outputs": []
    },
    {
      "cell_type": "code",
      "metadata": {
        "id": "UfgUHLvHPiAE"
      },
      "source": [
        "for _size, _requests in amounts.items():\n",
        "  with open(f'datasets/spider/by_amount_of_values/{str(_size).zfill(6)}.json', 'w') as json_file:\n",
        "    json.dump(_requests, json_file)"
      ],
      "execution_count": 86,
      "outputs": []
    },
    {
      "cell_type": "markdown",
      "metadata": {
        "id": "DJEkPdajXoIj"
      },
      "source": [
        "### Zone of tests"
      ]
    },
    {
      "cell_type": "code",
      "metadata": {
        "colab": {
          "base_uri": "https://localhost:8080/"
        },
        "id": "lEE08N_PXXVr",
        "outputId": "86ba6010-fc12-4642-d7fb-38dee2244ec1"
      },
      "source": [
        "sql = \"SELECT count( * ) FROM singer WHERE singer.Is_male = 1\"\n",
        "db_id = \"concert_singer\"\n",
        "execute_request(db_id, sql)"
      ],
      "execution_count": null,
      "outputs": [
        {
          "output_type": "execute_result",
          "data": {
            "text/plain": [
              "[(0,)]"
            ]
          },
          "metadata": {
            "tags": []
          },
          "execution_count": 21
        }
      ]
    },
    {
      "cell_type": "code",
      "metadata": {
        "colab": {
          "base_uri": "https://localhost:8080/"
        },
        "id": "vyZfr0lwbL4M",
        "outputId": "0dabc1fd-b306-49dd-8c14-7c55f69c910d"
      },
      "source": [
        "res = get_values(\"perpetrator\", \"people\", \"Home Town\")\n",
        "res"
      ],
      "execution_count": null,
      "outputs": [
        {
          "output_type": "execute_result",
          "data": {
            "text/plain": [
              "['Los Angeles, CA',\n",
              " 'Baton Rouge, LA',\n",
              " 'Placentia, CA',\n",
              " 'Westport, CT',\n",
              " 'Beaver Dam, KY',\n",
              " 'San Antonio, TX',\n",
              " 'Denton, TX',\n",
              " 'Los Angeles, CA',\n",
              " 'Indianapolis, IN',\n",
              " 'Altoona, PA',\n",
              " 'Austin, TX']"
            ]
          },
          "metadata": {
            "tags": []
          },
          "execution_count": 23
        }
      ]
    },
    {
      "cell_type": "code",
      "metadata": {
        "colab": {
          "base_uri": "https://localhost:8080/"
        },
        "id": "cFtSIg4Rf1lE",
        "outputId": "fedf53c4-7627-438b-8b27-cc1e1759eeb7"
      },
      "source": [
        "tables = get_db_tables(\"perpetrator\")\n",
        "tables"
      ],
      "execution_count": null,
      "outputs": [
        {
          "output_type": "execute_result",
          "data": {
            "text/plain": [
              "['perpetrator', 'people']"
            ]
          },
          "metadata": {
            "tags": []
          },
          "execution_count": 31
        }
      ]
    },
    {
      "cell_type": "code",
      "metadata": {
        "colab": {
          "base_uri": "https://localhost:8080/"
        },
        "id": "TTlGPgrTj0Yz",
        "outputId": "da1ed8b8-5373-428b-eadf-046117d57bf5"
      },
      "source": [
        "columns = get_db_columns(\"perpetrator\", \"people\")\n",
        "columns"
      ],
      "execution_count": null,
      "outputs": [
        {
          "output_type": "execute_result",
          "data": {
            "text/plain": [
              "['People_ID', 'Name', 'Height', 'Weight', 'Home Town']"
            ]
          },
          "metadata": {
            "tags": []
          },
          "execution_count": 41
        }
      ]
    }
  ]
}