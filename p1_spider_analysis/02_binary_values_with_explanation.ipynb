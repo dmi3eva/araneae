{
  "nbformat": 4,
  "nbformat_minor": 0,
  "metadata": {
    "colab": {
      "name": "02_binary_values.ipynb",
      "provenance": [],
      "collapsed_sections": [],
      "authorship_tag": "ABX9TyMP7Z457j2JSsZ1i470rCnF",
      "include_colab_link": true
    },
    "kernelspec": {
      "name": "python3",
      "display_name": "Python 3"
    },
    "language_info": {
      "name": "python"
    }
  },
  "cells": [
    {
      "cell_type": "markdown",
      "metadata": {
        "id": "view-in-github",
        "colab_type": "text"
      },
      "source": [
        "<a href=\"https://colab.research.google.com/github/dmi3eva/araneae/blob/main/p1_spider_analysis/02_binary_values_with_explanation.ipynb\" target=\"_parent\"><img src=\"https://colab.research.google.com/assets/colab-badge.svg\" alt=\"Open In Colab\"/></a>"
      ]
    },
    {
      "cell_type": "markdown",
      "metadata": {
        "id": "6Lwr7bc8ihwO"
      },
      "source": [
        "### Mounting"
      ]
    },
    {
      "cell_type": "code",
      "metadata": {
        "colab": {
          "base_uri": "https://localhost:8080/"
        },
        "id": "lPDmK35SiMLH",
        "outputId": "011aedcd-c99f-47a2-fd7c-a5f226296df8"
      },
      "source": [
        "from google.colab import drive\n",
        "drive.mount('/content/drive')"
      ],
      "execution_count": null,
      "outputs": [
        {
          "output_type": "stream",
          "text": [
            "Mounted at /content/drive\n"
          ],
          "name": "stdout"
        }
      ]
    },
    {
      "cell_type": "code",
      "metadata": {
        "colab": {
          "base_uri": "https://localhost:8080/"
        },
        "id": "3y3ip_JMiviH",
        "outputId": "bd4487f0-73d4-4414-cc9e-3214c83dca13"
      },
      "source": [
        "%cd /content\n",
        "%cd drive\n",
        "%cd My\\ Drive\n",
        "%cd PhD\n",
        "%cd Paper_01"
      ],
      "execution_count": null,
      "outputs": [
        {
          "output_type": "stream",
          "text": [
            "/content\n",
            "/content/drive\n",
            "/content/drive/My Drive\n",
            "/content/drive/My Drive/PhD\n",
            "/content/drive/My Drive/PhD/Paper_01\n"
          ],
          "name": "stdout"
        }
      ]
    },
    {
      "cell_type": "code",
      "metadata": {
        "id": "acax8fHHccAU"
      },
      "source": [
        "DB_PATH = \"datasets/spider/database\"\n",
        "SCHEMES_PATH = \"datasets/spider/tables.json\""
      ],
      "execution_count": null,
      "outputs": []
    },
    {
      "cell_type": "markdown",
      "metadata": {
        "id": "tf2U6wwzioCK"
      },
      "source": [
        "### Loading"
      ]
    },
    {
      "cell_type": "code",
      "metadata": {
        "id": "0vkV3CzEjWnp"
      },
      "source": [
        "import json"
      ],
      "execution_count": null,
      "outputs": []
    },
    {
      "cell_type": "code",
      "metadata": {
        "id": "QxQ-DpKTvKfJ"
      },
      "source": [
        "import collections\n",
        "import matplotlib.pyplot as plt\n",
        "import sqlite3\n",
        "import os"
      ],
      "execution_count": null,
      "outputs": []
    },
    {
      "cell_type": "code",
      "metadata": {
        "id": "q7sMy77ewYZp"
      },
      "source": [
        "%matplotlib inline "
      ],
      "execution_count": null,
      "outputs": []
    },
    {
      "cell_type": "markdown",
      "metadata": {
        "id": "n8Ts20neWKHa"
      },
      "source": [
        "### Utils"
      ]
    },
    {
      "cell_type": "code",
      "metadata": {
        "id": "hWv3ZdfKr6hf"
      },
      "source": [
        "# legacy\n",
        "def execution_preprocessing(sql):\n",
        "  processed_sql = sql.lower()\n",
        "  if 'from from' in processed_sql:\n",
        "    processed_sql = processed_sql.replace(\"from from\", \"from \\\"from\\\"\")\n",
        "  if \"%\" in processed_sql:\n",
        "    sql_tokens = sql.split(\" \")\n",
        "    processed_sql_tokens = []\n",
        "    for _token in sql_tokens:\n",
        "      if _token[0] == \"%\":\n",
        "        _token = f\"\\\"{_token}\\\"\"\n",
        "      processed_sql_tokens.append(_token)\n",
        "    processed_sql = \" \".join(processed_sql_tokens)\n",
        "  return processed_sql"
      ],
      "execution_count": null,
      "outputs": []
    },
    {
      "cell_type": "code",
      "metadata": {
        "id": "HvIX0Ov5WJbs"
      },
      "source": [
        "def execute_request(db_id, sql):\n",
        "    db = os.path.join(DB_PATH, db_id, db_id + \".sqlite\")\n",
        "    conn = sqlite3.connect(db)\n",
        "    conn.text_factory = lambda b: b.decode(errors = 'ignore')\n",
        "    cursor = conn.cursor()   \n",
        "    try:\n",
        "        cursor.execute(sql)\n",
        "        res = cursor.fetchall()\n",
        "        return res\n",
        "    except:\n",
        "        raise ValueError"
      ],
      "execution_count": null,
      "outputs": []
    },
    {
      "cell_type": "code",
      "metadata": {
        "id": "KFygIc8qbENz"
      },
      "source": [
        "REQUEST_MASK = \"\"\"SELECT \\\"{column}\\\" FROM \\\"{table}\\\"\"\"\" \n",
        "def get_values(db, table, column):\n",
        "  # Возвращает значения из столбца данной таблицы\n",
        "  aim_request = REQUEST_MASK.format(table=table, column=column)\n",
        "  try:\n",
        "    response = execute_request(db, aim_request)\n",
        "    values = [str(_v[0]) for _v in list(response)]\n",
        "    return values\n",
        "  except ValueError:\n",
        "    print()\n",
        "    print(f\"Problem with {column} in {table} (db = {db}). Request: {aim_request}\")\n",
        "    return []"
      ],
      "execution_count": null,
      "outputs": []
    },
    {
      "cell_type": "code",
      "metadata": {
        "id": "Avs4phkbkMi7"
      },
      "source": [
        "db_ids = os.listdir(DB_PATH)"
      ],
      "execution_count": null,
      "outputs": []
    },
    {
      "cell_type": "code",
      "metadata": {
        "id": "UDT0HNZIdOvU"
      },
      "source": [
        "with open(SCHEMES_PATH) as table_file:\n",
        "  schemes = json.load(table_file)\n",
        "\n",
        "tables = {_s['db_id']: _s['table_names_original'] for _s in schemes}"
      ],
      "execution_count": null,
      "outputs": []
    },
    {
      "cell_type": "code",
      "metadata": {
        "id": "V7UzIhs7ghBL"
      },
      "source": [
        "columns = {\n",
        "    _s['db_id']: {\n",
        "        _table: [] for _table in _s['table_names_original']\n",
        "    } for _s in schemes\n",
        "}\n",
        "for _scheme in schemes:\n",
        "  db_id = _scheme['db_id']\n",
        "  table_names = _scheme['table_names_original']\n",
        "  for _column in _scheme[\"column_names_original\"]:\n",
        "    column_name = _column[1]\n",
        "    table_name = table_names[_column[0]]\n",
        "    if column_name == '*':\n",
        "      continue\n",
        "    columns[db_id][table_name].append(column_name)"
      ],
      "execution_count": null,
      "outputs": []
    },
    {
      "cell_type": "code",
      "metadata": {
        "id": "j5_dcyprfWtM"
      },
      "source": [
        "def get_db_tables(db):\n",
        "  return tables[db]"
      ],
      "execution_count": null,
      "outputs": []
    },
    {
      "cell_type": "code",
      "metadata": {
        "id": "tOuZyhirjpz0"
      },
      "source": [
        "def get_db_columns(db, table):\n",
        "  return columns[db][table]"
      ],
      "execution_count": null,
      "outputs": []
    },
    {
      "cell_type": "markdown",
      "metadata": {
        "id": "qas4JYv4b-2b"
      },
      "source": [
        "### Analysis"
      ]
    },
    {
      "cell_type": "code",
      "metadata": {
        "id": "Ogi8-SW5-6oR"
      },
      "source": [
        "from IPython.display import HTML, display\n",
        "\n",
        "def progress(value, max=100):\n",
        "    return HTML(\"\"\"\n",
        "        <progress\n",
        "            value='{value}'\n",
        "            max='{max}',\n",
        "            style='width: 100%'\n",
        "        >\n",
        "            {value}\n",
        "        </progress>\n",
        "    \"\"\".format(value=value, max=max))"
      ],
      "execution_count": null,
      "outputs": []
    },
    {
      "cell_type": "code",
      "metadata": {
        "id": "OMYtc0JWkS5s",
        "colab": {
          "base_uri": "https://localhost:8080/",
          "height": 34
        },
        "outputId": "006aa83b-f24d-4ae4-9c8a-67258157b294"
      },
      "source": [
        "db_amount = len(db_ids)\n",
        "progress_bar = display(progress(0, db_amount), display_id=True)\n",
        "\n",
        "def get_db_with_binary_values():\n",
        "  amounts = {}\n",
        "  just_amounts = {}\n",
        "  unique_amounts = {}\n",
        "  just_unique_amounts = {}\n",
        "  for ind, _db_id in enumerate(db_ids):\n",
        "    progress_bar.update(progress(ind, db_amount)) \n",
        "    tables = get_db_tables(_db_id)\n",
        "    for _table in tables:\n",
        "      columns = get_db_columns(_db_id, _table)\n",
        "      for _column in columns:\n",
        "        values = get_values(_db_id, _table, _column)  \n",
        "        size = len(values)      \n",
        "        amounts[size] = amounts.get(size, []) + [{\n",
        "            \"db_id\": _db_id,\n",
        "            \"table\": _table,\n",
        "            \"column\": _column,\n",
        "            \"values\": values\n",
        "        }]\n",
        "        just_amounts[size] = just_amounts.get(size, []) + [{\n",
        "            \"db_id\": _db_id,\n",
        "            \"table\": _table,\n",
        "            \"column\": _column,\n",
        "            \"values_amounts\": len(values)\n",
        "        }]\n",
        "        unique_values = list(set(values))\n",
        "        unique_size = len(unique_values)\n",
        "        unique_amounts[unique_size] = unique_amounts.get(unique_size, []) + [{\n",
        "            \"db_id\": _db_id,\n",
        "            \"table\": _table,\n",
        "            \"column\": _column,\n",
        "            \"values\": unique_values\n",
        "        }]\n",
        "        just_unique_amounts[unique_size] = just_unique_amounts.get(unique_size, []) + [{\n",
        "            \"db_id\": _db_id,\n",
        "            \"table\": _table,\n",
        "            \"column\": _column,\n",
        "            \"values_amounts\": unique_size\n",
        "        }]\n",
        "  return just_amounts, amounts, just_unique_amounts, unique_amounts"
      ],
      "execution_count": null,
      "outputs": [
        {
          "output_type": "display_data",
          "data": {
            "text/html": [
              "\n",
              "        <progress\n",
              "            value='0'\n",
              "            max='166',\n",
              "            style='width: 100%'\n",
              "        >\n",
              "            0\n",
              "        </progress>\n",
              "    "
            ],
            "text/plain": [
              "<IPython.core.display.HTML object>"
            ]
          },
          "metadata": {
            "tags": []
          }
        }
      ]
    },
    {
      "cell_type": "code",
      "metadata": {
        "colab": {
          "base_uri": "https://localhost:8080/",
          "height": 34
        },
        "id": "vJ1ww6HblHH7",
        "outputId": "881e260b-d221-433d-dc38-0762b88c685c"
      },
      "source": [
        "just_amounts, amounts, just_unique_amounts, unique_amounts = get_db_with_binary_values()"
      ],
      "execution_count": null,
      "outputs": [
        {
          "output_type": "display_data",
          "data": {
            "text/html": [
              "\n",
              "        <progress\n",
              "            value='165'\n",
              "            max='166',\n",
              "            style='width: 100%'\n",
              "        >\n",
              "            165\n",
              "        </progress>\n",
              "    "
            ],
            "text/plain": [
              "<IPython.core.display.HTML object>"
            ]
          },
          "metadata": {
            "tags": []
          }
        }
      ]
    },
    {
      "cell_type": "markdown",
      "metadata": {
        "id": "_1XY3gk6A_P_"
      },
      "source": [
        "#### Not unique\n",
        "\n",
        "Just to different values in the table."
      ]
    },
    {
      "cell_type": "code",
      "metadata": {
        "id": "QOROkBaIm1Hk"
      },
      "source": [
        "amounts[2]"
      ],
      "execution_count": null,
      "outputs": []
    },
    {
      "cell_type": "code",
      "metadata": {
        "id": "Hp_tLQHYnaWr"
      },
      "source": [
        "all_sizes = {_k: len(_v) for _k, _v in amounts.items()}\n",
        "all_sizes"
      ],
      "execution_count": null,
      "outputs": []
    },
    {
      "cell_type": "code",
      "metadata": {
        "id": "-yHzjmOwo1AF"
      },
      "source": [
        "size_values = []\n",
        "last_number = sorted(list(all_sizes.keys()))[-1]\n",
        "print(last_number)\n",
        "for i in range(last_number + 1):\n",
        "  if i not in all_sizes.keys():\n",
        "    size_values.append(0)\n",
        "  else:\n",
        "    size_values.append(all_sizes[i])"
      ],
      "execution_count": null,
      "outputs": []
    },
    {
      "cell_type": "code",
      "metadata": {
        "id": "V7iDmzCcQgw7"
      },
      "source": [
        "plt.hist(size_values, bins=[0, 1000])"
      ],
      "execution_count": null,
      "outputs": []
    },
    {
      "cell_type": "code",
      "metadata": {
        "id": "frE5Db7jn_H8"
      },
      "source": [
        "plt.bar(range(len(size_values[:100])), size_values[:100])"
      ],
      "execution_count": null,
      "outputs": []
    },
    {
      "cell_type": "code",
      "metadata": {
        "id": "Sc3BfZEpRAVJ"
      },
      "source": [
        "plt.bar(range(len(size_values[:20])), size_values[:20])"
      ],
      "execution_count": null,
      "outputs": []
    },
    {
      "cell_type": "code",
      "metadata": {
        "id": "3MI8dTBWRGTJ"
      },
      "source": [
        "bin_size = 100000\n",
        "bin_size_values = [sum(size_values[bin_size*i: bin_size*(i+1)]) for i in range(len(size_values)//bin_size)]"
      ],
      "execution_count": null,
      "outputs": []
    },
    {
      "cell_type": "code",
      "metadata": {
        "id": "mVMsXgCpSQlV"
      },
      "source": [
        "bin_size_values"
      ],
      "execution_count": null,
      "outputs": []
    },
    {
      "cell_type": "code",
      "metadata": {
        "id": "47RXj0bVR0jk"
      },
      "source": [
        "plt.bar(range(len(bin_size_values)), bin_size_values)"
      ],
      "execution_count": null,
      "outputs": []
    },
    {
      "cell_type": "code",
      "metadata": {
        "id": "oDJUDYwpSr7k"
      },
      "source": [
        "bin_size = 10000\n",
        "bin_size_values = [sum(size_values[bin_size*i: bin_size*(i+1)]) for i in range(len(size_values)//bin_size)]\n",
        "plt.bar(range(len(bin_size_values)), bin_size_values)"
      ],
      "execution_count": null,
      "outputs": []
    },
    {
      "cell_type": "code",
      "metadata": {
        "id": "d7XXs0u8Sydo"
      },
      "source": [
        "plt.bar(range(len(bin_size_values[1:])), bin_size_values[1:])"
      ],
      "execution_count": null,
      "outputs": []
    },
    {
      "cell_type": "markdown",
      "metadata": {
        "id": "ZH94gTO6BNQt"
      },
      "source": [
        "#### Unique\n",
        "\n",
        "Analysis of columns with two different values (maybe with repetition)"
      ]
    },
    {
      "cell_type": "code",
      "metadata": {
        "id": "Qhd5JWI4Ig8O"
      },
      "source": [
        "def get_list_of_amounts(amount):\n",
        "  return [ \"; \".join([f\"{_k}={_v}\" for _k, _v in _b.items()]) for _b in unique_amounts[amount]]"
      ],
      "execution_count": null,
      "outputs": []
    },
    {
      "cell_type": "code",
      "metadata": {
        "id": "Nlt7ueEBSCzX"
      },
      "source": [
        "list_of_none = get_list_of_amounts(0)"
      ],
      "execution_count": null,
      "outputs": []
    },
    {
      "cell_type": "markdown",
      "metadata": {
        "id": "HHclYKEUMCZ0"
      },
      "source": [
        "Just empty tables"
      ]
    },
    {
      "cell_type": "code",
      "metadata": {
        "colab": {
          "base_uri": "https://localhost:8080/"
        },
        "id": "QLwRBodjSCnO",
        "outputId": "aa4661ec-3c00-4748-a561-8259b203a6e2"
      },
      "source": [
        "list_of_none"
      ],
      "execution_count": null,
      "outputs": [
        {
          "output_type": "execute_result",
          "data": {
            "text/plain": [
              "['db_id=academic; table=author; column=aid; values=[]',\n",
              " 'db_id=academic; table=author; column=homepage; values=[]',\n",
              " 'db_id=academic; table=author; column=name; values=[]',\n",
              " 'db_id=academic; table=author; column=oid; values=[]',\n",
              " 'db_id=academic; table=conference; column=cid; values=[]',\n",
              " 'db_id=academic; table=conference; column=homepage; values=[]',\n",
              " 'db_id=academic; table=conference; column=name; values=[]',\n",
              " 'db_id=academic; table=domain; column=did; values=[]',\n",
              " 'db_id=academic; table=domain; column=name; values=[]',\n",
              " 'db_id=academic; table=domain_author; column=aid; values=[]',\n",
              " 'db_id=academic; table=domain_author; column=did; values=[]',\n",
              " 'db_id=academic; table=domain_conference; column=cid; values=[]',\n",
              " 'db_id=academic; table=domain_conference; column=did; values=[]',\n",
              " 'db_id=academic; table=journal; column=homepage; values=[]',\n",
              " 'db_id=academic; table=journal; column=jid; values=[]',\n",
              " 'db_id=academic; table=journal; column=name; values=[]',\n",
              " 'db_id=academic; table=domain_journal; column=did; values=[]',\n",
              " 'db_id=academic; table=domain_journal; column=jid; values=[]',\n",
              " 'db_id=academic; table=keyword; column=keyword; values=[]',\n",
              " 'db_id=academic; table=keyword; column=kid; values=[]',\n",
              " 'db_id=academic; table=domain_keyword; column=did; values=[]',\n",
              " 'db_id=academic; table=domain_keyword; column=kid; values=[]',\n",
              " 'db_id=academic; table=publication; column=abstract; values=[]',\n",
              " 'db_id=academic; table=publication; column=cid; values=[]',\n",
              " 'db_id=academic; table=publication; column=citation_num; values=[]',\n",
              " 'db_id=academic; table=publication; column=jid; values=[]',\n",
              " 'db_id=academic; table=publication; column=pid; values=[]',\n",
              " 'db_id=academic; table=publication; column=reference_num; values=[]',\n",
              " 'db_id=academic; table=publication; column=title; values=[]',\n",
              " 'db_id=academic; table=publication; column=year; values=[]',\n",
              " 'db_id=academic; table=domain_publication; column=did; values=[]',\n",
              " 'db_id=academic; table=domain_publication; column=pid; values=[]',\n",
              " 'db_id=academic; table=organization; column=continent; values=[]',\n",
              " 'db_id=academic; table=organization; column=homepage; values=[]',\n",
              " 'db_id=academic; table=organization; column=name; values=[]',\n",
              " 'db_id=academic; table=organization; column=oid; values=[]',\n",
              " 'db_id=academic; table=publication_keyword; column=pid; values=[]',\n",
              " 'db_id=academic; table=publication_keyword; column=kid; values=[]',\n",
              " 'db_id=academic; table=writes; column=aid; values=[]',\n",
              " 'db_id=academic; table=writes; column=pid; values=[]',\n",
              " 'db_id=academic; table=cite; column=cited; values=[]',\n",
              " 'db_id=academic; table=cite; column=citing; values=[]',\n",
              " 'db_id=formula_1; table=pitStops; column=raceId; values=[]',\n",
              " 'db_id=formula_1; table=pitStops; column=driverId; values=[]',\n",
              " 'db_id=formula_1; table=pitStops; column=stop; values=[]',\n",
              " 'db_id=formula_1; table=pitStops; column=lap; values=[]',\n",
              " 'db_id=formula_1; table=pitStops; column=time; values=[]',\n",
              " 'db_id=formula_1; table=pitStops; column=duration; values=[]',\n",
              " 'db_id=formula_1; table=pitStops; column=milliseconds; values=[]',\n",
              " 'db_id=formula_1; table=lapTimes; column=raceId; values=[]',\n",
              " 'db_id=formula_1; table=lapTimes; column=driverId; values=[]',\n",
              " 'db_id=formula_1; table=lapTimes; column=lap; values=[]',\n",
              " 'db_id=formula_1; table=lapTimes; column=position; values=[]',\n",
              " 'db_id=formula_1; table=lapTimes; column=time; values=[]',\n",
              " 'db_id=formula_1; table=lapTimes; column=milliseconds; values=[]',\n",
              " 'db_id=geo; table=state; column=state_name; values=[]',\n",
              " 'db_id=geo; table=state; column=population; values=[]',\n",
              " 'db_id=geo; table=state; column=area; values=[]',\n",
              " 'db_id=geo; table=state; column=country_name; values=[]',\n",
              " 'db_id=geo; table=state; column=capital; values=[]',\n",
              " 'db_id=geo; table=state; column=density; values=[]',\n",
              " 'db_id=geo; table=city; column=city_name; values=[]',\n",
              " 'db_id=geo; table=city; column=population; values=[]',\n",
              " 'db_id=geo; table=city; column=country_name; values=[]',\n",
              " 'db_id=geo; table=city; column=state_name; values=[]',\n",
              " 'db_id=geo; table=border_info; column=state_name; values=[]',\n",
              " 'db_id=geo; table=border_info; column=border; values=[]',\n",
              " 'db_id=geo; table=highlow; column=state_name; values=[]',\n",
              " 'db_id=geo; table=highlow; column=highest_elevation; values=[]',\n",
              " 'db_id=geo; table=highlow; column=lowest_point; values=[]',\n",
              " 'db_id=geo; table=highlow; column=highest_point; values=[]',\n",
              " 'db_id=geo; table=highlow; column=lowest_elevation; values=[]',\n",
              " 'db_id=geo; table=lake; column=lake_name; values=[]',\n",
              " 'db_id=geo; table=lake; column=area; values=[]',\n",
              " 'db_id=geo; table=lake; column=country_name; values=[]',\n",
              " 'db_id=geo; table=lake; column=state_name; values=[]',\n",
              " 'db_id=geo; table=mountain; column=mountain_name; values=[]',\n",
              " 'db_id=geo; table=mountain; column=mountain_altitude; values=[]',\n",
              " 'db_id=geo; table=mountain; column=country_name; values=[]',\n",
              " 'db_id=geo; table=mountain; column=state_name; values=[]',\n",
              " 'db_id=geo; table=river; column=river_name; values=[]',\n",
              " 'db_id=geo; table=river; column=length; values=[]',\n",
              " 'db_id=geo; table=river; column=country_name; values=[]',\n",
              " 'db_id=geo; table=river; column=traverse; values=[]',\n",
              " 'db_id=imdb; table=actor; column=aid; values=[]',\n",
              " 'db_id=imdb; table=actor; column=gender; values=[]',\n",
              " 'db_id=imdb; table=actor; column=name; values=[]',\n",
              " 'db_id=imdb; table=actor; column=nationality; values=[]',\n",
              " 'db_id=imdb; table=actor; column=birth_city; values=[]',\n",
              " 'db_id=imdb; table=actor; column=birth_year; values=[]',\n",
              " 'db_id=imdb; table=copyright; column=id; values=[]',\n",
              " 'db_id=imdb; table=copyright; column=msid; values=[]',\n",
              " 'db_id=imdb; table=copyright; column=cid; values=[]',\n",
              " 'db_id=imdb; table=cast; column=id; values=[]',\n",
              " 'db_id=imdb; table=cast; column=msid; values=[]',\n",
              " 'db_id=imdb; table=cast; column=aid; values=[]',\n",
              " 'db_id=imdb; table=cast; column=role; values=[]',\n",
              " 'db_id=imdb; table=genre; column=gid; values=[]',\n",
              " 'db_id=imdb; table=genre; column=genre; values=[]',\n",
              " 'db_id=imdb; table=classification; column=id; values=[]',\n",
              " 'db_id=imdb; table=classification; column=msid; values=[]',\n",
              " 'db_id=imdb; table=classification; column=gid; values=[]',\n",
              " 'db_id=imdb; table=company; column=id; values=[]',\n",
              " 'db_id=imdb; table=company; column=name; values=[]',\n",
              " 'db_id=imdb; table=company; column=country_code; values=[]',\n",
              " 'db_id=imdb; table=director; column=did; values=[]',\n",
              " 'db_id=imdb; table=director; column=gender; values=[]',\n",
              " 'db_id=imdb; table=director; column=name; values=[]',\n",
              " 'db_id=imdb; table=director; column=nationality; values=[]',\n",
              " 'db_id=imdb; table=director; column=birth_city; values=[]',\n",
              " 'db_id=imdb; table=director; column=birth_year; values=[]',\n",
              " 'db_id=imdb; table=producer; column=pid; values=[]',\n",
              " 'db_id=imdb; table=producer; column=gender; values=[]',\n",
              " 'db_id=imdb; table=producer; column=name; values=[]',\n",
              " 'db_id=imdb; table=producer; column=nationality; values=[]',\n",
              " 'db_id=imdb; table=producer; column=birth_city; values=[]',\n",
              " 'db_id=imdb; table=producer; column=birth_year; values=[]',\n",
              " 'db_id=imdb; table=directed_by; column=id; values=[]',\n",
              " 'db_id=imdb; table=directed_by; column=msid; values=[]',\n",
              " 'db_id=imdb; table=directed_by; column=did; values=[]',\n",
              " 'db_id=imdb; table=keyword; column=id; values=[]',\n",
              " 'db_id=imdb; table=keyword; column=keyword; values=[]',\n",
              " 'db_id=imdb; table=made_by; column=id; values=[]',\n",
              " 'db_id=imdb; table=made_by; column=msid; values=[]',\n",
              " 'db_id=imdb; table=made_by; column=pid; values=[]',\n",
              " 'db_id=imdb; table=movie; column=mid; values=[]',\n",
              " 'db_id=imdb; table=movie; column=title; values=[]',\n",
              " 'db_id=imdb; table=movie; column=release_year; values=[]',\n",
              " 'db_id=imdb; table=movie; column=title_aka; values=[]',\n",
              " 'db_id=imdb; table=movie; column=budget; values=[]',\n",
              " 'db_id=imdb; table=tags; column=id; values=[]',\n",
              " 'db_id=imdb; table=tags; column=msid; values=[]',\n",
              " 'db_id=imdb; table=tags; column=kid; values=[]',\n",
              " 'db_id=imdb; table=tv_series; column=sid; values=[]',\n",
              " 'db_id=imdb; table=tv_series; column=title; values=[]',\n",
              " 'db_id=imdb; table=tv_series; column=release_year; values=[]',\n",
              " 'db_id=imdb; table=tv_series; column=num_of_seasons; values=[]',\n",
              " 'db_id=imdb; table=tv_series; column=num_of_episodes; values=[]',\n",
              " 'db_id=imdb; table=tv_series; column=title_aka; values=[]',\n",
              " 'db_id=imdb; table=tv_series; column=budget; values=[]',\n",
              " 'db_id=imdb; table=writer; column=wid; values=[]',\n",
              " 'db_id=imdb; table=writer; column=gender; values=[]',\n",
              " 'db_id=imdb; table=writer; column=name; values=[]',\n",
              " 'db_id=imdb; table=writer; column=nationality; values=[]',\n",
              " 'db_id=imdb; table=writer; column=num_of_episodes; values=[]',\n",
              " 'db_id=imdb; table=writer; column=birth_city; values=[]',\n",
              " 'db_id=imdb; table=writer; column=birth_year; values=[]',\n",
              " 'db_id=imdb; table=written_by; column=id; values=[]',\n",
              " 'db_id=imdb; table=written_by; column=msid; values=[]',\n",
              " 'db_id=imdb; table=written_by; column=wid; values=[]',\n",
              " 'db_id=music_2; table=Songs; column=SongId; values=[]',\n",
              " 'db_id=music_2; table=Songs; column=Title; values=[]',\n",
              " 'db_id=music_2; table=Albums; column=AId; values=[]',\n",
              " 'db_id=music_2; table=Albums; column=Title; values=[]',\n",
              " 'db_id=music_2; table=Albums; column=Year; values=[]',\n",
              " 'db_id=music_2; table=Albums; column=Label; values=[]',\n",
              " 'db_id=music_2; table=Albums; column=Type; values=[]',\n",
              " 'db_id=music_2; table=Band; column=Id; values=[]',\n",
              " 'db_id=music_2; table=Band; column=Firstname; values=[]',\n",
              " 'db_id=music_2; table=Band; column=Lastname; values=[]',\n",
              " 'db_id=music_2; table=Instruments; column=SongId; values=[]',\n",
              " 'db_id=music_2; table=Instruments; column=BandmateId; values=[]',\n",
              " 'db_id=music_2; table=Instruments; column=Instrument; values=[]',\n",
              " 'db_id=music_2; table=Performance; column=SongId; values=[]',\n",
              " 'db_id=music_2; table=Performance; column=Bandmate; values=[]',\n",
              " 'db_id=music_2; table=Performance; column=StagePosition; values=[]',\n",
              " 'db_id=music_2; table=Tracklists; column=AlbumId; values=[]',\n",
              " 'db_id=music_2; table=Tracklists; column=Position; values=[]',\n",
              " 'db_id=music_2; table=Tracklists; column=SongId; values=[]',\n",
              " 'db_id=music_2; table=Vocals; column=SongId; values=[]',\n",
              " 'db_id=music_2; table=Vocals; column=Bandmate; values=[]',\n",
              " 'db_id=music_2; table=Vocals; column=Type; values=[]',\n",
              " 'db_id=restaurants; table=GEOGRAPHIC; column=CITY_NAME; values=[]',\n",
              " 'db_id=restaurants; table=GEOGRAPHIC; column=COUNTY; values=[]',\n",
              " 'db_id=restaurants; table=GEOGRAPHIC; column=REGION; values=[]',\n",
              " 'db_id=restaurants; table=RESTAURANT; column=ID; values=[]',\n",
              " 'db_id=restaurants; table=RESTAURANT; column=NAME; values=[]',\n",
              " 'db_id=restaurants; table=RESTAURANT; column=FOOD_TYPE; values=[]',\n",
              " 'db_id=restaurants; table=RESTAURANT; column=CITY_NAME; values=[]',\n",
              " 'db_id=restaurants; table=RESTAURANT; column=RATING; values=[]',\n",
              " 'db_id=restaurants; table=LOCATION; column=RESTAURANT_ID; values=[]',\n",
              " 'db_id=restaurants; table=LOCATION; column=HOUSE_NUMBER; values=[]',\n",
              " 'db_id=restaurants; table=LOCATION; column=STREET_NAME; values=[]',\n",
              " 'db_id=restaurants; table=LOCATION; column=CITY_NAME; values=[]',\n",
              " 'db_id=sakila_1; table=film_text; column=film_id; values=[]',\n",
              " 'db_id=sakila_1; table=film_text; column=title; values=[]',\n",
              " 'db_id=sakila_1; table=film_text; column=description; values=[]',\n",
              " 'db_id=sakila_1; table=language; column=language_id; values=[]',\n",
              " 'db_id=sakila_1; table=language; column=name; values=[]',\n",
              " 'db_id=sakila_1; table=language; column=last_update; values=[]',\n",
              " 'db_id=sakila_1; table=staff; column=staff_id; values=[]',\n",
              " 'db_id=sakila_1; table=staff; column=first_name; values=[]',\n",
              " 'db_id=sakila_1; table=staff; column=last_name; values=[]',\n",
              " 'db_id=sakila_1; table=staff; column=address_id; values=[]',\n",
              " 'db_id=sakila_1; table=staff; column=picture; values=[]',\n",
              " 'db_id=sakila_1; table=staff; column=email; values=[]',\n",
              " 'db_id=sakila_1; table=staff; column=store_id; values=[]',\n",
              " 'db_id=sakila_1; table=staff; column=active; values=[]',\n",
              " 'db_id=sakila_1; table=staff; column=username; values=[]',\n",
              " 'db_id=sakila_1; table=staff; column=password; values=[]',\n",
              " 'db_id=sakila_1; table=staff; column=last_update; values=[]',\n",
              " 'db_id=sakila_1; table=store; column=store_id; values=[]',\n",
              " 'db_id=sakila_1; table=store; column=manager_staff_id; values=[]',\n",
              " 'db_id=sakila_1; table=store; column=address_id; values=[]',\n",
              " 'db_id=sakila_1; table=store; column=last_update; values=[]',\n",
              " 'db_id=scholar; table=venue; column=venueId; values=[]',\n",
              " 'db_id=scholar; table=venue; column=venueName; values=[]',\n",
              " 'db_id=scholar; table=author; column=authorId; values=[]',\n",
              " 'db_id=scholar; table=author; column=authorName; values=[]',\n",
              " 'db_id=scholar; table=dataset; column=datasetId; values=[]',\n",
              " 'db_id=scholar; table=dataset; column=datasetName; values=[]',\n",
              " 'db_id=scholar; table=journal; column=journalId; values=[]',\n",
              " 'db_id=scholar; table=journal; column=journalName; values=[]',\n",
              " 'db_id=scholar; table=keyphrase; column=keyphraseId; values=[]',\n",
              " 'db_id=scholar; table=keyphrase; column=keyphraseName; values=[]',\n",
              " 'db_id=scholar; table=paper; column=paperId; values=[]',\n",
              " 'db_id=scholar; table=paper; column=title; values=[]',\n",
              " 'db_id=scholar; table=paper; column=venueId; values=[]',\n",
              " 'db_id=scholar; table=paper; column=year; values=[]',\n",
              " 'db_id=scholar; table=paper; column=numCiting; values=[]',\n",
              " 'db_id=scholar; table=paper; column=numCitedBy; values=[]',\n",
              " 'db_id=scholar; table=paper; column=journalId; values=[]',\n",
              " 'db_id=scholar; table=cite; column=citingPaperId; values=[]',\n",
              " 'db_id=scholar; table=cite; column=citedPaperId; values=[]',\n",
              " 'db_id=scholar; table=paperDataset; column=paperId; values=[]',\n",
              " 'db_id=scholar; table=paperDataset; column=datasetId; values=[]',\n",
              " 'db_id=scholar; table=paperKeyphrase; column=paperId; values=[]',\n",
              " 'db_id=scholar; table=paperKeyphrase; column=keyphraseId; values=[]',\n",
              " 'db_id=scholar; table=writes; column=paperId; values=[]',\n",
              " 'db_id=scholar; table=writes; column=authorId; values=[]',\n",
              " 'db_id=yelp; table=business; column=bid; values=[]',\n",
              " 'db_id=yelp; table=business; column=business_id; values=[]',\n",
              " 'db_id=yelp; table=business; column=name; values=[]',\n",
              " 'db_id=yelp; table=business; column=full_address; values=[]',\n",
              " 'db_id=yelp; table=business; column=city; values=[]',\n",
              " 'db_id=yelp; table=business; column=latitude; values=[]',\n",
              " 'db_id=yelp; table=business; column=longitude; values=[]',\n",
              " 'db_id=yelp; table=business; column=review_count; values=[]',\n",
              " 'db_id=yelp; table=business; column=is_open; values=[]',\n",
              " 'db_id=yelp; table=business; column=rating; values=[]',\n",
              " 'db_id=yelp; table=business; column=state; values=[]',\n",
              " 'db_id=yelp; table=category; column=id; values=[]',\n",
              " 'db_id=yelp; table=category; column=business_id; values=[]',\n",
              " 'db_id=yelp; table=category; column=category_name; values=[]',\n",
              " 'db_id=yelp; table=user; column=uid; values=[]',\n",
              " 'db_id=yelp; table=user; column=user_id; values=[]',\n",
              " 'db_id=yelp; table=user; column=name; values=[]',\n",
              " 'db_id=yelp; table=checkin; column=cid; values=[]',\n",
              " 'db_id=yelp; table=checkin; column=business_id; values=[]',\n",
              " 'db_id=yelp; table=checkin; column=count; values=[]',\n",
              " 'db_id=yelp; table=checkin; column=day; values=[]',\n",
              " 'db_id=yelp; table=neighbourhood; column=id; values=[]',\n",
              " 'db_id=yelp; table=neighbourhood; column=business_id; values=[]',\n",
              " 'db_id=yelp; table=neighbourhood; column=neighbourhood_name; values=[]',\n",
              " 'db_id=yelp; table=review; column=rid; values=[]',\n",
              " 'db_id=yelp; table=review; column=business_id; values=[]',\n",
              " 'db_id=yelp; table=review; column=user_id; values=[]',\n",
              " 'db_id=yelp; table=review; column=rating; values=[]',\n",
              " 'db_id=yelp; table=review; column=text; values=[]',\n",
              " 'db_id=yelp; table=review; column=year; values=[]',\n",
              " 'db_id=yelp; table=review; column=month; values=[]',\n",
              " 'db_id=yelp; table=tip; column=tip_id; values=[]',\n",
              " 'db_id=yelp; table=tip; column=business_id; values=[]',\n",
              " 'db_id=yelp; table=tip; column=text; values=[]',\n",
              " 'db_id=yelp; table=tip; column=user_id; values=[]',\n",
              " 'db_id=yelp; table=tip; column=likes; values=[]',\n",
              " 'db_id=yelp; table=tip; column=year; values=[]',\n",
              " 'db_id=yelp; table=tip; column=month; values=[]']"
            ]
          },
          "metadata": {
            "tags": []
          },
          "execution_count": 98
        }
      ]
    },
    {
      "cell_type": "markdown",
      "metadata": {
        "id": "YGUESFMHMHRS"
      },
      "source": [
        "Tables with onw value. As we can see, some of them are binary."
      ]
    },
    {
      "cell_type": "code",
      "metadata": {
        "id": "-eKFEgZrODu-"
      },
      "source": [
        "list_of_unary = get_list_of_amounts(1)"
      ],
      "execution_count": null,
      "outputs": []
    },
    {
      "cell_type": "code",
      "metadata": {
        "colab": {
          "base_uri": "https://localhost:8080/"
        },
        "id": "e8INW9QROF7S",
        "outputId": "7b1f295d-b2c4-49eb-e093-b1b20ca64fe7"
      },
      "source": [
        "list_of_unary"
      ],
      "execution_count": null,
      "outputs": [
        {
          "output_type": "execute_result",
          "data": {
            "text/plain": [
              "[\"db_id=architecture; table=mill; column=notes; values=['Molenechos (Dutch)']\",\n",
              " \"db_id=assets_maintenance; table=Maintenance_Contracts; column=other_contract_details; values=['None']\",\n",
              " \"db_id=assets_maintenance; table=Parts; column=other_part_details; values=['None']\",\n",
              " \"db_id=assets_maintenance; table=Fault_Log; column=other_fault_details; values=['None']\",\n",
              " \"db_id=assets_maintenance; table=Engineer_Visits; column=other_visit_details; values=['None']\",\n",
              " \"db_id=assets_maintenance; table=Part_Faults; column=other_fault_details; values=['None']\",\n",
              " \"db_id=baseball_1; table=manager_award; column=notes; values=['']\",\n",
              " \"db_id=baseball_1; table=college; column=country; values=['USA']\",\n",
              " \"db_id=baseball_1; table=team_half; column=year; values=['1981']\",\n",
              " \"db_id=baseball_1; table=team_half; column=div_win; values=['N']\",\n",
              " \"db_id=behavior_monitoring; table=Addresses; column=line_2; values=['None']\",\n",
              " \"db_id=behavior_monitoring; table=Addresses; column=line_3; values=['None']\",\n",
              " \"db_id=behavior_monitoring; table=Addresses; column=country; values=['USA']\",\n",
              " \"db_id=behavior_monitoring; table=Addresses; column=other_address_details; values=['None']\",\n",
              " \"db_id=behavior_monitoring; table=Assessment_Notes; column=text_of_notes; values=['None']\",\n",
              " \"db_id=behavior_monitoring; table=Assessment_Notes; column=other_details; values=['None']\",\n",
              " \"db_id=behavior_monitoring; table=Behavior_Incident; column=incident_summary; values=['None']\",\n",
              " \"db_id=behavior_monitoring; table=Behavior_Incident; column=other_details; values=['None']\",\n",
              " \"db_id=behavior_monitoring; table=Detention; column=detention_summary; values=['None']\",\n",
              " \"db_id=behavior_monitoring; table=Detention; column=other_details; values=['None']\",\n",
              " \"db_id=chinook_1; table=Employee; column=State; values=['AB']\",\n",
              " \"db_id=chinook_1; table=Employee; column=Country; values=['Canada']\",\n",
              " \"db_id=chinook_1; table=InvoiceLine; column=Quantity; values=['1']\",\n",
              " \"db_id=cre_Doc_Template_Mgt; table=Templates; column=Template_Details; values=['']\",\n",
              " \"db_id=cre_Doc_Template_Mgt; table=Documents; column=Other_Details; values=['None']\",\n",
              " \"db_id=cre_Doc_Template_Mgt; table=Paragraphs; column=Other_Details; values=['None']\",\n",
              " \"db_id=cre_Doc_Tracking_DB; table=Ref_Document_Types; column=Document_Type_Description; values=['']\",\n",
              " \"db_id=cre_Doc_Tracking_DB; table=Ref_Locations; column=Location_Description; values=['']\",\n",
              " \"db_id=cre_Doc_Tracking_DB; table=All_Documents; column=Document_Description; values=['None']\",\n",
              " \"db_id=cre_Doc_Tracking_DB; table=All_Documents; column=Other_Details; values=['None']\",\n",
              " \"db_id=cre_Doc_Tracking_DB; table=Employees; column=Other_Details; values=['None']\",\n",
              " \"db_id=cre_Doc_Tracking_DB; table=Documents_to_be_Destroyed; column=Other_Details; values=['None']\",\n",
              " \"db_id=cre_Docs_and_Epenses; table=Documents; column=Document_Description; values=['None']\",\n",
              " \"db_id=cre_Docs_and_Epenses; table=Documents; column=Other_Details; values=['None']\",\n",
              " \"db_id=cre_Drama_Workshop_Groups; table=Ref_Service_Types; column=Parent_Service_Type_Code; values=['1']\",\n",
              " \"db_id=cre_Drama_Workshop_Groups; table=Addresses; column=Other_Details; values=['None']\",\n",
              " \"db_id=cre_Drama_Workshop_Groups; table=Products; column=Product_Description; values=['None']\",\n",
              " \"db_id=cre_Drama_Workshop_Groups; table=Products; column=Other_Product_Service_Details; values=['None']\",\n",
              " \"db_id=cre_Drama_Workshop_Groups; table=Marketing_Regions; column=Other_Details; values=['None']\",\n",
              " \"db_id=cre_Drama_Workshop_Groups; table=Bookings; column=Other_Order_Details; values=['None']\",\n",
              " \"db_id=cre_Drama_Workshop_Groups; table=Customer_Orders; column=Other_Order_Details; values=['None']\",\n",
              " \"db_id=cre_Drama_Workshop_Groups; table=Order_Items; column=Other_Item_Details; values=['None']\",\n",
              " \"db_id=cre_Drama_Workshop_Groups; table=Invoices; column=Other_Item_Details; values=['None']\",\n",
              " \"db_id=cre_Drama_Workshop_Groups; table=Services; column=Product_Description; values=['None']\",\n",
              " \"db_id=cre_Drama_Workshop_Groups; table=Services; column=Other_Product_Service_Details; values=['None']\",\n",
              " \"db_id=cre_Theme_park; table=Ref_Hotel_Star_Ratings; column=star_rating_description; values=['star']\",\n",
              " \"db_id=cre_Theme_park; table=Locations; column=Other_Details; values=['None']\",\n",
              " \"db_id=cre_Theme_park; table=Hotels; column=other_hotel_details; values=['None']\",\n",
              " \"db_id=cre_Theme_park; table=Tourist_Attractions; column=Description; values=['None']\",\n",
              " \"db_id=cre_Theme_park; table=Tourist_Attractions; column=Opening_Hours; values=['None']\",\n",
              " \"db_id=cre_Theme_park; table=Tourist_Attractions; column=Other_Details; values=['None']\",\n",
              " \"db_id=cre_Theme_park; table=Royal_Family; column=Royal_Family_Details; values=['None']\",\n",
              " \"db_id=cre_Theme_park; table=Visits; column=Visit_Details; values=['']\",\n",
              " \"db_id=cre_Theme_park; table=Photos; column=Description; values=['None']\",\n",
              " \"db_id=cre_Theme_park; table=Photos; column=Other_Details; values=['None']\",\n",
              " \"db_id=cre_Theme_park; table=Staff; column=Other_Details; values=['None']\",\n",
              " \"db_id=csu_1; table=discipline_enrollments; column=Year; values=['2004']\",\n",
              " \"db_id=customer_complaints; table=Complaints; column=complaint_outcome_code; values=['OK']\",\n",
              " \"db_id=customer_deliveries; table=Addresses; column=country; values=['USA']\",\n",
              " \"db_id=customers_and_addresses; table=Addresses; column=country; values=['USA']\",\n",
              " \"db_id=customers_and_addresses; table=Addresses; column=other_address_details; values=['None']\",\n",
              " \"db_id=customers_and_invoices; table=Customers; column=country; values=['USA']\",\n",
              " \"db_id=customers_and_invoices; table=Orders; column=order_details; values=['None']\",\n",
              " \"db_id=customers_and_invoices; table=Financial_Transactions; column=transaction_comment; values=['None']\",\n",
              " \"db_id=customers_and_invoices; table=Financial_Transactions; column=other_transaction_details; values=['None']\",\n",
              " \"db_id=customers_and_invoices; table=Order_Items; column=other_order_item_details; values=['None']\",\n",
              " \"db_id=customers_and_invoices; table=Invoice_Line_Items; column=product_title; values=['prod_name']\",\n",
              " \"db_id=customers_and_invoices; table=Invoice_Line_Items; column=derived_vat_payable; values=['None']\",\n",
              " \"db_id=customers_and_products_contacts; table=Addresses; column=country; values=['USA']\",\n",
              " \"db_id=customers_campaigns_ecommerce; table=Customers; column=customer_login; values=['None']\",\n",
              " \"db_id=customers_campaigns_ecommerce; table=Customer_Orders; column=order_delivered_datetime; values=['2018-03-20 12:00:00']\",\n",
              " \"db_id=customers_campaigns_ecommerce; table=Order_Items; column=item_status_code; values=['good']\",\n",
              " \"db_id=customers_card_transactions; table=Customers; column=other_customer_details; values=['None']\",\n",
              " \"db_id=customers_card_transactions; table=Financial_Transactions; column=transaction_comment; values=['None']\",\n",
              " \"db_id=customers_card_transactions; table=Financial_Transactions; column=other_transaction_details; values=['None']\",\n",
              " \"db_id=department_store; table=Department_Stores; column=store_name; values=['store_name']\",\n",
              " \"db_id=document_management; table=Functional_Areas; column=parent_functional_area_code; values=['8']\",\n",
              " \"db_id=driving_school; table=Addresses; column=country; values=['USA']\",\n",
              " \"db_id=e_government; table=Addresses; column=country; values=['USA']\",\n",
              " \"db_id=entertainment_awards; table=festival_detail; column=Location; values=['United States']\",\n",
              " \"db_id=flight_2; table=airlines; column=Country; values=['USA']\",\n",
              " \"db_id=flight_2; table=airports; column=Country; values=['United States ']\",\n",
              " \"db_id=game_injury; table=stadium; column=Home_Games; values=['8']\",\n",
              " \"db_id=game_injury; table=injury_accident; column=Source; values=['inter.it']\",\n",
              " \"db_id=hospital_1; table=Medication; column=Description; values=['N/A']\",\n",
              " \"db_id=hospital_1; table=Room; column=RoomType; values=['Single']\",\n",
              " \"db_id=hospital_1; table=On_Call; column=BlockFloor; values=['1']\",\n",
              " \"db_id=insurance_and_eClaims; table=Claims_Processing_Stages; column=Next_Claim_Stage_ID; values=['1']\",\n",
              " \"db_id=local_govt_and_lot; table=Properties; column=other_details; values=['USA']\",\n",
              " \"db_id=machine_repair; table=machine; column=Class; values=['125cc']\",\n",
              " \"db_id=machine_repair; table=machine; column=Machine_series; values=['RS125']\",\n",
              " \"db_id=music_4; table=music_festival; column=Date_of_ceremony; values=['18 February 2011']\",\n",
              " \"db_id=musical; table=musical; column=Year; values=['1986']\",\n",
              " \"db_id=product_catalog; table=Attribute_Definitions; column=attribute_data_type; values=['Bool']\",\n",
              " \"db_id=products_for_hire; table=Products_Booked; column=returned_yn; values=['1']\",\n",
              " \"db_id=products_gen_characteristics; table=Characteristics; column=other_characteristic_details; values=['None']\",\n",
              " \"db_id=products_gen_characteristics; table=Products; column=other_product_details; values=['None']\",\n",
              " \"db_id=real_estate_properties; table=Properties; column=apt_feature_3; values=['None']\",\n",
              " \"db_id=real_estate_properties; table=Properties; column=fld_feature_1; values=['None']\",\n",
              " \"db_id=real_estate_properties; table=Properties; column=fld_feature_2; values=['None']\",\n",
              " \"db_id=real_estate_properties; table=Properties; column=fld_feature_3; values=['None']\",\n",
              " \"db_id=real_estate_properties; table=Properties; column=hse_feature_1; values=['None']\",\n",
              " \"db_id=real_estate_properties; table=Properties; column=hse_feature_2; values=['None']\",\n",
              " \"db_id=real_estate_properties; table=Properties; column=hse_feature_3; values=['None']\",\n",
              " \"db_id=real_estate_properties; table=Properties; column=oth_feature_1; values=['None']\",\n",
              " \"db_id=real_estate_properties; table=Properties; column=oth_feature_2; values=['None']\",\n",
              " \"db_id=real_estate_properties; table=Properties; column=oth_feature_3; values=['None']\",\n",
              " \"db_id=real_estate_properties; table=Properties; column=shp_feature_1; values=['None']\",\n",
              " \"db_id=real_estate_properties; table=Properties; column=shp_feature_2; values=['None']\",\n",
              " \"db_id=real_estate_properties; table=Properties; column=shp_feature_3; values=['None']\",\n",
              " \"db_id=real_estate_properties; table=Properties; column=other_property_details; values=['None']\",\n",
              " \"db_id=roller_coaster; table=roller_coaster; column=Status; values=['Operating']\",\n",
              " \"db_id=sakila_1; table=actor; column=last_update; values=['2006-02-15 04:34:33']\",\n",
              " \"db_id=sakila_1; table=address; column=last_update; values=['2006-02-15 04:45:30']\",\n",
              " \"db_id=sakila_1; table=category; column=last_update; values=['2006-02-15 04:46:27']\",\n",
              " \"db_id=sakila_1; table=city; column=last_update; values=['2006-02-15 04:45:25']\",\n",
              " \"db_id=sakila_1; table=country; column=last_update; values=['2006-02-15 04:44:00']\",\n",
              " \"db_id=sakila_1; table=customer; column=last_update; values=['2006-02-15 04:57:20']\",\n",
              " \"db_id=sakila_1; table=film; column=release_year; values=['2006']\",\n",
              " \"db_id=sakila_1; table=film; column=language_id; values=['1']\",\n",
              " \"db_id=sakila_1; table=film; column=original_language_id; values=['None']\",\n",
              " \"db_id=sakila_1; table=film; column=last_update; values=['2006-02-15 05:03:42']\",\n",
              " \"db_id=sakila_1; table=film_actor; column=last_update; values=['2006-02-15 05:05:03']\",\n",
              " \"db_id=sakila_1; table=film_category; column=last_update; values=['2006-02-15 05:07:09']\",\n",
              " \"db_id=sakila_1; table=inventory; column=last_update; values=['2006-02-15 05:09:17']\",\n",
              " \"db_id=school_player; table=school_details; column=League; values=['DSHA']\",\n",
              " \"db_id=student_transcripts_tracking; table=Addresses; column=line_3; values=['None']\",\n",
              " \"db_id=student_transcripts_tracking; table=Addresses; column=other_address_details; values=['None']\",\n",
              " \"db_id=student_transcripts_tracking; table=Courses; column=other_details; values=['None']\",\n",
              " \"db_id=student_transcripts_tracking; table=Departments; column=other_details; values=['None']\",\n",
              " \"db_id=student_transcripts_tracking; table=Degree_Programs; column=other_details; values=['None']\",\n",
              " \"db_id=student_transcripts_tracking; table=Sections; column=other_details; values=['None']\",\n",
              " \"db_id=student_transcripts_tracking; table=Semesters; column=other_details; values=['None']\",\n",
              " \"db_id=student_transcripts_tracking; table=Student_Enrolment; column=other_details; values=['None']\",\n",
              " \"db_id=student_transcripts_tracking; table=Transcripts; column=other_details; values=['None']\",\n",
              " \"db_id=store_1; table=employees; column=state; values=['AB']\",\n",
              " \"db_id=store_1; table=employees; column=country; values=['Canada']\",\n",
              " \"db_id=store_1; table=invoice_lines; column=quantity; values=['1']\",\n",
              " \"db_id=tracking_orders; table=Orders; column=order_details; values=['None']\",\n",
              " \"db_id=tracking_orders; table=Products; column=product_details; values=['None']\",\n",
              " \"db_id=tracking_orders; table=Order_Items; column=order_item_details; values=['None']\",\n",
              " \"db_id=tracking_orders; table=Shipments; column=other_shipment_details; values=['None']\",\n",
              " \"db_id=store_product; table=product; column=dpi; values=['600.0']\",\n",
              " \"db_id=store_product; table=product; column=interface; values=['USB 2.0']\",\n",
              " \"db_id=student_assessment; table=Addresses; column=country; values=['USA']\",\n",
              " \"db_id=student_assessment; table=Courses; column=other_details; values=['None']\",\n",
              " \"db_id=tracking_share_transactions; table=Transactions; column=other_details; values=['None']\",\n",
              " \"db_id=tracking_grants_for_research; table=Documents; column=other_details; values=['']\",\n",
              " \"db_id=tracking_grants_for_research; table=Project_Outcomes; column=outcome_details; values=['None']\",\n",
              " \"db_id=tracking_grants_for_research; table=Project_Staff; column=other_details; values=['None']\",\n",
              " \"db_id=tracking_grants_for_research; table=Tasks; column=eg Agree Objectives; values=['None']\",\n",
              " \"db_id=world_1; table=sqlite_sequence; column=name; values=['city']\",\n",
              " \"db_id=world_1; table=sqlite_sequence; column=seq; values=['4079']\",\n",
              " \"db_id=ship_1; table=Ship; column=Type; values=['Panamax']\",\n",
              " \"db_id=tvshow; table=TV_Channel; column=Content; values=['music']\",\n",
              " \"db_id=tvshow; table=TV_Channel; column=Pay_per_view_PPV; values=['no']\",\n",
              " \"db_id=train_station; table=train; column=Service; values=['Daily']\",\n",
              " \"db_id=wta_1; table=matches; column=best_of; values=['3']\",\n",
              " \"db_id=wta_1; table=matches; column=loser_entry; values=['']\",\n",
              " \"db_id=wta_1; table=matches; column=winner_entry; values=['']\",\n",
              " \"db_id=station_weather; table=train; column=interval; values=['Daily']\",\n",
              " \"db_id=wine_1; table=appellations; column=State; values=['California']\",\n",
              " \"db_id=wine_1; table=wine; column=State; values=['California']\"]"
            ]
          },
          "metadata": {
            "tags": []
          },
          "execution_count": 94
        }
      ]
    },
    {
      "cell_type": "markdown",
      "metadata": {
        "id": "iZcOq-35MOWP"
      },
      "source": [
        "Analysis of binary values"
      ]
    },
    {
      "cell_type": "code",
      "metadata": {
        "id": "vEvetYhJDpQd"
      },
      "source": [
        "list_of_binary = get_list_of_amounts(2)"
      ],
      "execution_count": null,
      "outputs": []
    },
    {
      "cell_type": "code",
      "metadata": {
        "colab": {
          "base_uri": "https://localhost:8080/"
        },
        "id": "xvT2nqEzIn_v",
        "outputId": "b17d64a9-04dd-4673-82c6-1845540c622c"
      },
      "source": [
        "list_of_binary"
      ],
      "execution_count": null,
      "outputs": [
        {
          "output_type": "execute_result",
          "data": {
            "text/plain": [
              "[\"db_id=activity_1; table=Student; column=Sex; values=['F', 'M']\",\n",
              " \"db_id=activity_1; table=Faculty; column=Sex; values=['F', 'M']\",\n",
              " \"db_id=allergy_1; table=Student; column=Sex; values=['F', 'M']\",\n",
              " \"db_id=apartment_rentals; table=Apartment_Bookings; column=booking_status_code; values=['Confirmed', 'Provisional']\",\n",
              " \"db_id=apartment_rentals; table=View_Unit_Status; column=available_yn; values=['0', '1']\",\n",
              " \"db_id=architecture; table=architect; column=gender; values=['female', 'male']\",\n",
              " \"db_id=architecture; table=mill; column=type; values=['Bergmolen', 'Grondzeiler']\",\n",
              " \"db_id=assets_maintenance; table=Third_Party_Companies; column=company_type; values=['Maintenance Contractor', 'Supplier']\",\n",
              " \"db_id=assets_maintenance; table=Parts; column=chargeable_yn; values=['0', '1']\",\n",
              " \"db_id=assets_maintenance; table=Parts; column=chargeable_amount; values=['9', '4']\",\n",
              " \"db_id=assets_maintenance; table=Staff; column=gender; values=['0', '1']\",\n",
              " \"db_id=assets_maintenance; table=Assets; column=other_asset_details; values=['None', 'Bad condition']\",\n",
              " \"db_id=assets_maintenance; table=Maintenance_Engineers; column=other_details; values=['None', 'Skilled']\",\n",
              " \"db_id=assets_maintenance; table=Fault_Log; column=fault_description; values=['system error', 'failed parts']\",\n",
              " \"db_id=baseball_1; table=all_star; column=league_id; values=['AL', 'NL']\",\n",
              " \"db_id=baseball_1; table=manager_award; column=award_id; values=['TSN Manager of the Year', 'BBWAA Manager of the year']\",\n",
              " \"db_id=baseball_1; table=manager_award; column=tie; values=['', 'Y']\",\n",
              " \"db_id=baseball_1; table=player_award; column=tie; values=['', 'Y']\",\n",
              " \"db_id=baseball_1; table=manager_award_vote; column=award_id; values=['Mgr of the year', 'Mgr of the Year']\",\n",
              " \"db_id=baseball_1; table=manager_award_vote; column=league_id; values=['AL', 'NL']\",\n",
              " \"db_id=baseball_1; table=fielding_postseason; column=league_id; values=['AL', 'NL']\",\n",
              " \"db_id=baseball_1; table=fielding_postseason; column=tp; values=['0', '1']\",\n",
              " \"db_id=baseball_1; table=hall_of_fame; column=inducted; values=['N', 'Y']\",\n",
              " \"db_id=baseball_1; table=manager; column=plyr_mgr; values=['N', 'Y']\",\n",
              " \"db_id=baseball_1; table=manager_half; column=year; values=['1892', '1981']\",\n",
              " \"db_id=baseball_1; table=manager_half; column=league_id; values=['AL', 'NL']\",\n",
              " \"db_id=baseball_1; table=manager_half; column=half; values=['2', '1']\",\n",
              " \"db_id=baseball_1; table=salary; column=league_id; values=['AL', 'NL']\",\n",
              " \"db_id=baseball_1; table=postseason; column=ties; values=['0', '1']\",\n",
              " \"db_id=baseball_1; table=team_half; column=league_id; values=['AL', 'NL']\",\n",
              " \"db_id=baseball_1; table=team_half; column=half; values=['2', '1']\",\n",
              " \"db_id=baseball_1; table=team_half; column=div_id; values=['E', 'W']\",\n",
              " \"db_id=behavior_monitoring; table=Ref_Address_Types; column=address_type_code; values=['BILL', 'HOME']\",\n",
              " \"db_id=behavior_monitoring; table=Ref_Address_Types; column=address_type_description; values=['Billing', 'Home or Residence']\",\n",
              " \"db_id=behavior_monitoring; table=Students; column=other_student_details; values=['None', 'first honor']\",\n",
              " \"db_id=behavior_monitoring; table=Teachers; column=gender; values=['0', '1']\",\n",
              " \"db_id=behavior_monitoring; table=Teachers; column=other_details; values=['None', 'Dean']\",\n",
              " \"db_id=behavior_monitoring; table=Behavior_Incident; column=recommendations; values=['None', 'Transfer schools']\",\n",
              " \"db_id=behavior_monitoring; table=Student_Addresses; column=other_details; values=['house', 'apartment']\",\n",
              " \"db_id=bike_1; table=trip; column=subscription_type; values=['Customer', 'Subscriber']\",\n",
              " \"db_id=candidate_poll; table=people; column=Sex; values=['F', 'M']\",\n",
              " \"db_id=chinook_1; table=InvoiceLine; column=UnitPrice; values=['0.99', '1.99']\",\n",
              " \"db_id=chinook_1; table=Track; column=UnitPrice; values=['0.99', '1.99']\",\n",
              " \"db_id=cinema; table=film; column=Directed_by; values=['Jesus Salvador Treviño', 'Bill Schreiner']\",\n",
              " \"db_id=city_record; table=match; column=Venue; values=['Estadio Rigoberto López , Managua , Nicaragua', 'Estadio Cuscatlán , San Salvador , El Salvador']\",\n",
              " \"db_id=club_1; table=Student; column=Sex; values=['F', 'M']\",\n",
              " \"db_id=club_1; table=Club; column=ClubLocation; values=['HHH', 'AKW']\",\n",
              " \"db_id=coffee_shop; table=member; column=Membership_card; values=['Black', 'White']\",\n",
              " \"db_id=college_1; table=COURSE; column=DEPT_CODE; values=['CIS', 'ACCT']\",\n",
              " \"db_id=college_1; table=COURSE; column=CRS_CREDIT; values=['3.0', '4.0']\",\n",
              " \"db_id=college_1; table=DEPARTMENT; column=SCHOOL_CODE; values=['BUS', 'A&SCI']\",\n",
              " \"db_id=college_1; table=ENROLL; column=STU_NUM; values=['321452', '324257']\",\n",
              " \"db_id=college_1; table=STUDENT; column=STU_TRANSFER; values=['0', '1']\",\n",
              " \"db_id=college_2; table=course; column=credits; values=['3', '4']\",\n",
              " \"db_id=college_2; table=section; column=semester; values=['Spring', 'Fall']\",\n",
              " \"db_id=college_2; table=teaches; column=semester; values=['Spring', 'Fall']\",\n",
              " \"db_id=college_2; table=takes; column=semester; values=['Spring', 'Fall']\",\n",
              " \"db_id=college_2; table=time_slot; column=start_min; values=['0', '30']\",\n",
              " \"db_id=college_3; table=Student; column=Sex; values=['F', 'M']\",\n",
              " \"db_id=college_3; table=Faculty; column=Sex; values=['F', 'M']\",\n",
              " \"db_id=college_3; table=Department; column=Division; values=['AS', 'EN']\",\n",
              " \"db_id=college_3; table=Member_of; column=Appt_Type; values=['Secondary', 'Primary']\",\n",
              " \"db_id=company_1; table=employee; column=Sex; values=['F', 'M']\",\n",
              " \"db_id=company_1; table=dependent; column=Sex; values=['F', 'M']\",\n",
              " \"db_id=company_employee; table=people; column=Nationality; values=['United Kindom', 'United States']\",\n",
              " \"db_id=company_office; table=buildings; column=City; values=['Mexico City', 'Monterrey']\",\n",
              " \"db_id=concert_singer; table=singer; column=Is_male; values=['T', 'F']\",\n",
              " \"db_id=concert_singer; table=concert; column=Year; values=['2014', '2015']\",\n",
              " \"db_id=cre_Doc_Tracking_DB; table=Employees; column=Gender_MFU; values=['', '1']\",\n",
              " \"db_id=cre_Docs_and_Epenses; table=Statements; column=Statement_ID; values=['192', '57']\",\n",
              " \"db_id=cre_Docs_and_Epenses; table=Statements; column=Statement_Details; values=['Open Project', 'Private Project']\",\n",
              " \"db_id=cre_Docs_and_Epenses; table=Accounts; column=Statement_ID; values=['192', '57']\",\n",
              " \"db_id=cre_Drama_Workshop_Groups; table=Drama_Workshop_Groups; column=Currency_Code; values=['USD', 'EU']\",\n",
              " \"db_id=cre_Drama_Workshop_Groups; table=Customers; column=Other_Details; values=['None', 'VIP']\",\n",
              " \"db_id=cre_Drama_Workshop_Groups; table=Bookings; column=Status_Code; values=['stop', 'good']\",\n",
              " \"db_id=cre_Drama_Workshop_Groups; table=Order_Items; column=Order_Quantity; values=['2', '1']\",\n",
              " \"db_id=cre_Drama_Workshop_Groups; table=Invoices; column=Order_Quantity; values=['2', '1']\",\n",
              " \"db_id=cre_Drama_Workshop_Groups; table=Invoice_Items; column=Invoice_Item_ID; values=['2', '1']\",\n",
              " \"db_id=cre_Drama_Workshop_Groups; table=Invoice_Items; column=Invoice_ID; values=['128', '162']\",\n",
              " \"db_id=cre_Drama_Workshop_Groups; table=Invoice_Items; column=Order_ID; values=['1', '4']\",\n",
              " \"db_id=cre_Drama_Workshop_Groups; table=Invoice_Items; column=Order_Item_ID; values=['5', '6']\",\n",
              " \"db_id=cre_Drama_Workshop_Groups; table=Invoice_Items; column=Product_ID; values=['396', '191']\",\n",
              " \"db_id=cre_Drama_Workshop_Groups; table=Invoice_Items; column=Order_Quantity; values=['2', '6']\",\n",
              " \"db_id=cre_Drama_Workshop_Groups; table=Invoice_Items; column=Other_Item_Details; values=['None', 'Good quality']\",\n",
              " \"db_id=cre_Theme_park; table=Hotels; column=pets_allowed_yn; values=['', '1']\",\n",
              " \"db_id=cre_Theme_park; table=Street_Markets; column=Market_ID; values=['6852', '7067']\",\n",
              " \"db_id=cre_Theme_park; table=Street_Markets; column=Market_Details; values=['Fish Farm Market', 'Broadway']\",\n",
              " \"db_id=cre_Theme_park; table=Royal_Family; column=Royal_Family_ID; values=['9561', '9919']\",\n",
              " \"db_id=csu_1; table=csu_fees; column=Year; values=['2003', '1996']\",\n",
              " \"db_id=culture_company; table=book_club; column=Year; values=['1990', '1989']\",\n",
              " \"db_id=culture_company; table=culture_company; column=Incorporated_in; values=['Hong Kong', 'China']\",\n",
              " \"db_id=customer_complaints; table=Staff; column=gender; values=['0', '1']\",\n",
              " \"db_id=customer_complaints; table=Customers; column=customer_type_code; values=['Defaults on payments', 'Good Credit Rating']\",\n",
              " \"db_id=customer_complaints; table=Complaints; column=complaint_type_code; values=['Product Failure', 'Product Unusable']\",\n",
              " \"db_id=customer_deliveries; table=Actual_Orders; column=order_status_code; values=['Cancel', 'Success']\",\n",
              " \"db_id=customers_and_addresses; table=Customers; column=other_customer_details; values=['None', 'VIP']\",\n",
              " \"db_id=customers_and_addresses; table=Customer_Addresses; column=address_type; values=['Billing', 'Residential']\",\n",
              " \"db_id=customers_and_addresses; table=Customer_Orders; column=order_status; values=['Delivered', 'Cancelled']\",\n",
              " \"db_id=customers_and_addresses; table=Customer_Orders; column=order_details; values=['None', 'Second time']\",\n",
              " \"db_id=customers_and_invoices; table=Customers; column=gender; values=['0', '1']\",\n",
              " \"db_id=customers_and_invoices; table=Accounts; column=other_account_details; values=['VIP', 'Regular']\",\n",
              " \"db_id=customers_and_invoices; table=Financial_Transactions; column=transaction_type; values=['Payment', 'Refund']\",\n",
              " \"db_id=customers_and_products_contacts; table=Products; column=product_type_code; values=['Clothes', 'Hardware']\",\n",
              " \"db_id=customers_and_products_contacts; table=Customers; column=payment_method_code; values=['Direct Debit', 'Credit Card']\",\n",
              " \"db_id=customers_and_products_contacts; table=Contacts; column=gender; values=['female', 'male']\",\n",
              " \"db_id=customers_and_products_contacts; table=Customer_Orders; column=order_status_code; values=['Completed', 'Part']\",\n",
              " \"db_id=customers_campaigns_ecommerce; table=Customers; column=payment_method; values=['Direct Debit', 'Credit Card']\",\n",
              " \"db_id=customers_campaigns_ecommerce; table=Mailshot_Campaigns; column=product_category; values=['food', 'clothes']\",\n",
              " \"db_id=customers_campaigns_ecommerce; table=Customer_Addresses; column=address_type_code; values=['Billing', 'Shipping']\",\n",
              " \"db_id=customers_campaigns_ecommerce; table=Mailshot_Customers; column=outcome_code; values=['No Response', 'Order']\",\n",
              " \"db_id=customers_card_transactions; table=Accounts; column=other_account_details; values=['VIP', 'Regular']\",\n",
              " \"db_id=customers_card_transactions; table=Customers_Cards; column=card_type_code; values=['Credit', 'Debit']\",\n",
              " \"db_id=customers_card_transactions; table=Financial_Transactions; column=transaction_type; values=['Payment', 'Refund']\",\n",
              " \"db_id=debate; table=debate_people; column=If_Affirmative_Win; values=['T', 'F']\",\n",
              " \"db_id=decoration_competition; table=member; column=Country; values=['Canada', 'United States']\",\n",
              " \"db_id=decoration_competition; table=round; column=Round_ID; values=['2', '1']\",\n",
              " \"db_id=department_management; table=management; column=temporary_acting; values=['Yes', 'No']\",\n",
              " \"db_id=department_store; table=Staff; column=staff_gender; values=['0', '1']\",\n",
              " \"db_id=department_store; table=Customers; column=payment_method_code; values=['Direct Debit', 'Credit Card']\",\n",
              " \"db_id=department_store; table=Products; column=product_type_code; values=['Clothes', 'Hardware']\",\n",
              " \"db_id=device; table=device; column=Software_Platform; values=['Android', 'iOS']\",\n",
              " \"db_id=device; table=stock; column=Device_ID; values=['4', '6']\",\n",
              " \"db_id=document_management; table=Roles; column=role_code; values=['PROJ-MGR', 'DBA']\",\n",
              " \"db_id=document_management; table=Roles; column=role_description; values=['Project Manager', 'Database Administrator']\",\n",
              " \"db_id=document_management; table=Users; column=role_code; values=['PROJ-MGR', 'DBA']\",\n",
              " \"db_id=document_management; table=Users; column=user_login; values=['0', '1']\",\n",
              " \"db_id=document_management; table=Document_Sections; column=section_title; values=['after', 'before']\",\n",
              " \"db_id=dog_kennels; table=Dogs; column=abandoned_yn; values=['0', '1']\",\n",
              " \"db_id=dog_kennels; table=Dogs; column=gender; values=['0', '1']\",\n",
              " \"db_id=dog_kennels; table=Professionals; column=role_code; values=['Veterenarian', 'Employee']\",\n",
              " \"db_id=dorm_1; table=Student; column=Sex; values=['F', 'M']\",\n",
              " \"db_id=driving_school; table=Customers; column=customer_status_code; values=['Good Customer', 'Bad Customer']\",\n",
              " \"db_id=driving_school; table=Customer_Payments; column=payment_method_code; values=['Direct Debit', 'Credit Card']\",\n",
              " \"db_id=driving_school; table=Lessons; column=lesson_status_code; values=['Completed', 'Cancelled']\",\n",
              " \"db_id=e_government; table=Forms; column=form_type_code; values=['Basic', 'Complex']\",\n",
              " \"db_id=e_learning; table=Course_Authors_and_Tutors; column=gender_mf; values=['0', '1']\",\n",
              " \"db_id=e_learning; table=Student_Tests_Taken; column=test_result; values=['Pass', 'Fail']\",\n",
              " \"db_id=election_representative; table=representative; column=Party; values=['Democratic', 'Republican']\",\n",
              " \"db_id=employee_hire_evaluation; table=hiring; column=Is_full_time; values=['T', 'F']\",\n",
              " \"db_id=entertainment_awards; table=nomination; column=Result; values=['Nominated', 'Won']\",\n",
              " \"db_id=epinions_1; table=review; column=u_id; values=['2', '1']\",\n",
              " \"db_id=farm; table=city; column=Status; values=['Village', 'Town']\",\n",
              " \"db_id=flight_1; table=flight; column=origin; values=['Chicago', 'Los Angeles']\",\n",
              " \"db_id=flight_2; table=airports; column=CountryAbbrev; values=['US', 'US ']\",\n",
              " \"db_id=flight_4; table=routes; column=codeshare; values=['None', 'Y']\",\n",
              " \"db_id=flight_4; table=airlines; column=active; values=['N', 'Y']\",\n",
              " \"db_id=flight_company; table=flight; column=Pilot; values=['Peterson', 'Thompson']\",\n",
              " \"db_id=flight_company; table=flight; column=Velocity; values=['240.0', '135.0']\",\n",
              " \"db_id=flight_company; table=flight; column=Altitude; values=['0.0', '3650.0']\",\n",
              " \"db_id=formula_1; table=circuits; column=alt; values=['', '10']\",\n",
              " \"db_id=formula_1; table=constructorResults; column=status; values=['D', 'NULL']\",\n",
              " \"db_id=game_1; table=Student; column=Sex; values=['F', 'M']\",\n",
              " \"db_id=game_1; table=SportsInfo; column=OnScholarship; values=['N', 'Y']\",\n",
              " \"db_id=hospital_1; table=Affiliated_With; column=PrimaryAffiliation; values=['0', '1']\",\n",
              " \"db_id=hospital_1; table=Trained_In; column=CertificationDate; values=['2007-01-01', '2008-01-01']\",\n",
              " \"db_id=hospital_1; table=Trained_In; column=CertificationExpires; values=['2008-12-31', '2007-12-31']\",\n",
              " \"db_id=hospital_1; table=Nurse; column=Position; values=['Nurse', 'Head Nurse']\",\n",
              " \"db_id=hospital_1; table=Nurse; column=Registered; values=['0', '1']\",\n",
              " \"db_id=hospital_1; table=Prescribes; column=Physician; values=['9', '1']\",\n",
              " \"db_id=hospital_1; table=Prescribes; column=Patient; values=['100000001', '100000004']\",\n",
              " \"db_id=hospital_1; table=Prescribes; column=Medication; values=['2', '1']\",\n",
              " \"db_id=hospital_1; table=Prescribes; column=Dose; values=['10', '5']\",\n",
              " \"db_id=hospital_1; table=Room; column=Unavailable; values=['0', '1']\",\n",
              " \"db_id=hospital_1; table=On_Call; column=OnCallStart; values=['2008-11-04 19:00', '2008-11-04 11:00']\",\n",
              " \"db_id=hospital_1; table=On_Call; column=OnCallEnd; values=['2008-11-04 19:00', '2008-11-05 03:00']\",\n",
              " \"db_id=hospital_1; table=Undergoes; column=Patient; values=['100000001', '100000004']\",\n",
              " \"db_id=hospital_1; table=Undergoes; column=Stay; values=['3217', '3215']\",\n",
              " \"db_id=inn_1; table=Rooms; column=beds; values=['2', '1']\",\n",
              " \"db_id=inn_1; table=Rooms; column=maxOccupancy; values=['2', '4']\",\n",
              " \"db_id=insurance_and_eClaims; table=Claims_Processing_Stages; column=Claim_Stage_ID; values=['1', '3']\",\n",
              " \"db_id=insurance_and_eClaims; table=Claims_Processing_Stages; column=Claim_Status_Name; values=['Open', 'Close']\",\n",
              " \"db_id=insurance_and_eClaims; table=Claims_Processing_Stages; column=Claim_Status_Description; values=['Close a claim', 'Open a new claim']\",\n",
              " \"db_id=insurance_and_eClaims; table=Claims_Processing; column=Claim_Stage_ID; values=['1', '3']\",\n",
              " \"db_id=loan_1; table=customer; column=acc_type; values=['checking', 'saving']\",\n",
              " \"db_id=loan_1; table=loan; column=cust_ID; values=['1', '3']\",\n",
              " \"db_id=local_govt_and_lot; table=Organizations; column=parent_organization_id; values=['8', '7']\",\n",
              " \"db_id=local_govt_and_lot; table=Services; column=service_details; values=['Unsatisfied', 'Satisfied']\",\n",
              " \"db_id=local_govt_and_lot; table=Residents_Services; column=other_details; values=['Unsatisfied', 'Satisfied']\",\n",
              " \"db_id=local_govt_and_lot; table=Things; column=service_type_code; values=['Check', 'Cleanning']\",\n",
              " \"db_id=local_govt_and_lot; table=Things; column=service_details; values=['Unsatisfied', 'Satisfied']\",\n",
              " \"db_id=local_govt_and_lot; table=Customer_Events; column=date_moved_in; values=['2015-03-27 12:00:00', '2016-09-27 12:00:00']\",\n",
              " \"db_id=local_govt_and_lot; table=Customer_Event_Notes; column=service_type_code; values=['Check', 'Cleanning']\",\n",
              " \"db_id=local_govt_in_alabama; table=Participants; column=Participant_Type_Code; values=['Participant', 'Organizer']\",\n",
              " \"db_id=local_govt_in_alabama; table=Events; column=Event_Details; values=['Success', 'Fail']\",\n",
              " \"db_id=local_govt_mdm; table=Parking_Fines; column=council_tax_id; values=['9', '10']\",\n",
              " \"db_id=local_govt_mdm; table=Parking_Fines; column=cmi_cross_ref_id; values=['81', '4']\",\n",
              " \"db_id=medicine_enzyme_interaction; table=medicine; column=FDA_approved; values=['Yes', 'No']\",\n",
              " \"db_id=medicine_enzyme_interaction; table=enzyme; column=Location; values=['Cytosol', 'Mitochondrion']\",\n",
              " \"db_id=medicine_enzyme_interaction; table=medicine_enzyme_interaction; column=interaction_type; values=['activitor', 'inhibitor']\",\n",
              " \"db_id=mountain_photos; table=photos; column=color; values=['RBG', 'Black/White']\",\n",
              " \"db_id=music_1; table=artist; column=gender; values=['Female', 'Male']\",\n",
              " \"db_id=music_1; table=files; column=formats; values=['mp4', 'mp3']\",\n",
              " \"db_id=music_1; table=song; column=languages; values=['bangla', 'english']\",\n",
              " \"db_id=music_4; table=music_festival; column=Result; values=['Awarded', 'Nominated']\",\n",
              " \"db_id=musical; table=musical; column=Award; values=['Drama Desk Award', 'Tony Award']\",\n",
              " \"db_id=musical; table=musical; column=Nominee; values=['Cleavant Derricks', 'Bob Fosse']\",\n",
              " \"db_id=musical; table=musical; column=Result; values=['Nominated', 'Won']\",\n",
              " \"db_id=network_2; table=Person; column=gender; values=['female', 'male']\",\n",
              " \"db_id=orchestra; table=show; column=Result; values=['T', 'F']\",\n",
              " \"db_id=party_host; table=party_host; column=Is_Main_in_Charge; values=['T', 'F']\",\n",
              " \"db_id=pets_1; table=Student; column=Sex; values=['F', 'M']\",\n",
              " \"db_id=pets_1; table=Has_Pet; column=StuID; values=['1002', '1001']\",\n",
              " \"db_id=pets_1; table=Pets; column=PetType; values=['cat', 'dog']\",\n",
              " \"db_id=phone_1; table=chip_model; column=RAM_MiB; values=['64.0', '32.0']\",\n",
              " \"db_id=phone_1; table=chip_model; column=Slots; values=['1SD', '1CFII,1SD']\",\n",
              " \"db_id=phone_1; table=chip_model; column=WiFi; values=['802.11b', 'No']\",\n",
              " \"db_id=phone_1; table=screen_mode; column=Type; values=['Text', 'Graphics']\",\n",
              " \"db_id=phone_1; table=phone; column=Accreditation_type; values=['Full', 'Provisional']\",\n",
              " \"db_id=phone_1; table=phone; column=Accreditation_level; values=['joyn Hot Fixes', 'joyn']\",\n",
              " \"db_id=phone_market; table=phone; column=Carrier; values=['TMobile', 'Sprint']\",\n",
              " \"db_id=pilot_record; table=aircraft; column=Manufacturer; values=['NFI', 'Gillig']\",\n",
              " \"db_id=poker_player; table=people; column=Nationality; values=['Russia', 'Bulgaria']\",\n",
              " \"db_id=product_catalog; table=Catalog_Contents_Additional_Attributes; column=attribute_value; values=['0', '1']\",\n",
              " \"db_id=products_for_hire; table=Customers; column=good_or_bad_customer; values=['good', 'bad']\",\n",
              " \"db_id=products_for_hire; table=Customers; column=gender_mf; values=['0', '1']\",\n",
              " \"db_id=products_for_hire; table=Bookings; column=booking_status_code; values=['Confirmed', 'Provisional']\",\n",
              " \"db_id=products_for_hire; table=Bookings; column=returned_damaged_yn; values=['0', '1']\",\n",
              " \"db_id=products_for_hire; table=Products_for_Hire; column=product_type_code; values=['Din_Plates', 'Cutlery']\",\n",
              " \"db_id=products_for_hire; table=Payments; column=amount_paid_in_full_yn; values=['0', '1']\",\n",
              " \"db_id=products_for_hire; table=Products_Booked; column=returned_late_yn; values=['0', '1']\",\n",
              " \"db_id=products_for_hire; table=View_Product_Availability; column=booking_id; values=['11', '5']\",\n",
              " \"db_id=products_for_hire; table=View_Product_Availability; column=available_yn; values=['0', '1']\",\n",
              " \"db_id=products_gen_characteristics; table=Ref_Characteristic_Types; column=characteristic_type_code; values=['Purity', 'Grade']\",\n",
              " \"db_id=products_gen_characteristics; table=Ref_Characteristic_Types; column=characteristic_type_description; values=['Purity', 'Grade']\",\n",
              " \"db_id=products_gen_characteristics; table=Ref_Product_Categories; column=unit_of_measure; values=['Weight - pound,kilo.', 'Handful             ']\",\n",
              " \"db_id=products_gen_characteristics; table=Characteristics; column=characteristic_type_code; values=['Purity', 'Grade']\",\n",
              " \"db_id=race_track; table=race; column=Class; values=['GT', 'DP/GT']\",\n",
              " \"db_id=real_estate_properties; table=Ref_Feature_Types; column=feature_type_code; values=['Amenity', 'Security']\",\n",
              " \"db_id=real_estate_properties; table=Ref_Feature_Types; column=feature_type_name; values=['Securiyt, eg Burglar Alarm.', 'Amenity, eg Pool.']\",\n",
              " \"db_id=real_estate_properties; table=Other_Available_Features; column=feature_type_code; values=['Amenity', 'Security']\",\n",
              " \"db_id=restaurant_1; table=Student; column=Sex; values=['F', 'M']\",\n",
              " \"db_id=restaurant_1; table=Restaurant; column=ResID; values=['2', '1']\",\n",
              " \"db_id=restaurant_1; table=Restaurant; column=ResName; values=['Subway', 'Honeygrow']\",\n",
              " \"db_id=restaurant_1; table=Restaurant; column=Address; values=['3233 St Paul St, Baltimore, MD 21218', '3212 St Paul St, Baltimore, MD 21218']\",\n",
              " \"db_id=restaurant_1; table=Restaurant; column=Rating; values=['4', '3']\",\n",
              " \"db_id=restaurant_1; table=Type_Of_Restaurant; column=ResID; values=['2', '1']\",\n",
              " \"db_id=restaurant_1; table=Type_Of_Restaurant; column=ResTypeID; values=['2', '1']\",\n",
              " \"db_id=restaurant_1; table=Restaurant_Type; column=ResTypeID; values=['2', '1']\",\n",
              " \"db_id=restaurant_1; table=Restaurant_Type; column=ResTypeName; values=['Sandwich', 'Stir-fry']\",\n",
              " \"db_id=restaurant_1; table=Restaurant_Type; column=ResTypeDescription; values=['Simplest there is.', 'Classic Chinese cooking.']\",\n",
              " \"db_id=restaurant_1; table=Visits_Restaurant; column=StuID; values=['1032', '1001']\",\n",
              " \"db_id=restaurant_1; table=Visits_Restaurant; column=ResID; values=['2', '1']\",\n",
              " \"db_id=restaurant_1; table=Visits_Restaurant; column=Time; values=['2017-10-08 13:00:30', '2017-10-09 18:15:00']\",\n",
              " \"db_id=restaurant_1; table=Visits_Restaurant; column=Spent; values=['13.2', '6.53']\",\n",
              " \"db_id=riding_club; table=player; column=Gender; values=['F', 'M']\",\n",
              " \"db_id=riding_club; table=coach; column=Gender; values=['F', 'M']\",\n",
              " \"db_id=riding_club; table=coach; column=Club_ID; values=['1', '3']\",\n",
              " \"db_id=sakila_1; table=address; column=address2; values=['', 'None']\",\n",
              " \"db_id=sakila_1; table=customer; column=store_id; values=['2', '1']\",\n",
              " \"db_id=sakila_1; table=customer; column=active; values=['0', '1']\",\n",
              " \"db_id=sakila_1; table=customer; column=create_date; values=['2006-02-14 22:04:37', '2006-02-14 22:04:36']\",\n",
              " \"db_id=sakila_1; table=inventory; column=store_id; values=['2', '1']\",\n",
              " \"db_id=sakila_1; table=payment; column=staff_id; values=['2', '1']\",\n",
              " \"db_id=sakila_1; table=rental; column=staff_id; values=['2', '1']\",\n",
              " \"db_id=sakila_1; table=rental; column=last_update; values=['2006-02-15 21:30:53', '2006-02-23 04:12:08']\",\n",
              " \"db_id=school_player; table=school; column=Boys_or_Girls; values=['Boys', 'Boys only to Yr 9 Co-ed Year 10 to 12']\",\n",
              " \"db_id=school_player; table=school; column=Day_or_Boarding; values=['Day & Boarding', 'Day']\",\n",
              " \"db_id=school_player; table=school; column=Year_Entered_Competition; values=['1929.0', '1944.0']\",\n",
              " \"db_id=store_1; table=tracks; column=unit_price; values=['0.99', '1.99']\",\n",
              " \"db_id=store_1; table=invoice_lines; column=unit_price; values=['0.99', '1.99']\",\n",
              " \"db_id=soccer_1; table=Team_Attributes; column=buildUpPlayPositioningClass; values=['Free Form', 'Organised']\",\n",
              " \"db_id=soccer_1; table=Team_Attributes; column=chanceCreationPositioningClass; values=['Free Form', 'Organised']\",\n",
              " \"db_id=soccer_1; table=Team_Attributes; column=defenceDefenderLineClass; values=['Offside Trap', 'Cover']\",\n",
              " \"db_id=soccer_2; table=Player; column=yCard; values=['yes', 'no']\",\n",
              " \"db_id=soccer_2; table=Tryout; column=decision; values=['yes', 'no']\",\n",
              " \"db_id=workshop_paper; table=Acceptance; column=Result; values=['Rejected', 'Accepted']\",\n",
              " \"db_id=store_product; table=store; column=Type; values=['Village Store', 'City Mall']\",\n",
              " \"db_id=student_assessment; table=Candidate_Assessments; column=asessment_outcome_code; values=['Pass', 'Fail']\",\n",
              " \"db_id=wrestler; table=wrestler; column=Reign; values=['2', '1']\",\n",
              " \"db_id=wrestler; table=wrestler; column=Event; values=['Wrestling World 1997', 'Live event']\",\n",
              " \"db_id=wrestler; table=Elimination; column=Team; values=['Team Batista', 'Team Orton']\",\n",
              " \"db_id=ship_mission; table=ship; column=Type; values=['Battle ship', 'Cargo ship']\",\n",
              " \"db_id=ship_mission; table=ship; column=Nationality; values=['United Kingdom', 'United States']\",\n",
              " \"db_id=shop_membership; table=branch; column=City; values=['London', 'Oxford']\",\n",
              " \"db_id=shop_membership; table=membership_register_branch; column=Register_Year; values=['2017', '2016']\",\n",
              " \"db_id=shop_membership; table=purchase; column=Year; values=['2017', '2018']\",\n",
              " \"db_id=tracking_share_transactions; table=Ref_Transaction_Types; column=transaction_type_code; values=['PUR', 'SALE']\",\n",
              " \"db_id=tracking_share_transactions; table=Ref_Transaction_Types; column=transaction_type_description; values=['Purchase', 'Sale']\",\n",
              " \"db_id=tracking_share_transactions; table=Transactions; column=transaction_type_code; values=['PUR', 'SALE']\",\n",
              " \"db_id=voter_2; table=Student; column=Sex; values=['F', 'M']\",\n",
              " \"db_id=voter_2; table=Voting_record; column=Election_Cycle; values=['Spring', 'Fall']\",\n",
              " \"db_id=voter_2; table=Voting_record; column=Vice_President_Vote; values=['1007', '1017']\",\n",
              " \"db_id=voter_2; table=Voting_record; column=Treasurer_Vote; values=['1025', '1035']\",\n",
              " \"db_id=voter_2; table=Voting_record; column=Class_Senator_Vote; values=['1028', '1018']\",\n",
              " \"db_id=tracking_grants_for_research; table=Document_Types; column=document_type_code; values=['REG', 'APP']\",\n",
              " \"db_id=tracking_grants_for_research; table=Document_Types; column=document_description; values=['Regular', 'Initial Application']\",\n",
              " \"db_id=tracking_grants_for_research; table=Documents; column=document_type_code; values=['REG', 'APP']\",\n",
              " \"db_id=tracking_grants_for_research; table=Organisation_Types; column=organisation_type; values=['SPON', 'RES']\",\n",
              " \"db_id=tracking_grants_for_research; table=Organisation_Types; column=organisation_type_description; values=['Research', 'Sponsor']\",\n",
              " \"db_id=tracking_grants_for_research; table=Organisations; column=organisation_type; values=['SPON', 'RES']\",\n",
              " \"db_id=tracking_grants_for_research; table=Project_Outcomes; column=outcome_code; values=['Paper', 'Patent']\",\n",
              " \"db_id=tracking_grants_for_research; table=Project_Staff; column=role_code; values=['researcher', 'leader']\",\n",
              " \"db_id=tracking_grants_for_research; table=Research_Outcomes; column=outcome_code; values=['Paper', 'Patent']\",\n",
              " \"db_id=tracking_grants_for_research; table=Research_Outcomes; column=outcome_description; values=['Published Research Paper', 'Research Patent']\",\n",
              " \"db_id=tracking_grants_for_research; table=Staff_Roles; column=role_code; values=['researcher', 'leader']\",\n",
              " \"db_id=tracking_grants_for_research; table=Staff_Roles; column=role_description; values=['Project Researcher', 'Project Leader']\",\n",
              " \"db_id=singer; table=song; column=Highest_Position; values=['3.0', '1.0']\",\n",
              " \"db_id=world_1; table=countrylanguage; column=IsOfficial; values=['T', 'F']\",\n",
              " \"db_id=solvency_ii; table=Parties_in_Events; column=Role_Code; values=['Participant', 'Organizer']\",\n",
              " \"db_id=ship_1; table=Ship; column=Built_Year; values=['1997.0', '1998.0']\",\n",
              " \"db_id=ship_1; table=Ship; column=Class; values=['GL', 'KR']\",\n",
              " \"db_id=ship_1; table=Ship; column=Flag; values=['Malta', 'Panama']\",\n",
              " \"db_id=tracking_software_problems; table=Problem_Log; column=problem_status_code; values=['Reported', 'Solved']\",\n",
              " \"db_id=tracking_software_problems; table=Problem_Status_Codes; column=problem_status_code; values=['Reported', 'Solved']\",\n",
              " \"db_id=tracking_software_problems; table=Problem_Status_Codes; column=problem_status_description; values=['Reported', 'Solved']\",\n",
              " \"db_id=school_bus; table=driver; column=Party; values=['Dem', 'Rep']\",\n",
              " \"db_id=school_bus; table=school_bus; column=If_full_time; values=['T', 'F']\",\n",
              " \"db_id=tvshow; table=TV_Channel; column=Language; values=['Italian', 'English']\",\n",
              " \"db_id=tvshow; table=TV_Channel; column=Hight_definition_TV; values=['yes', 'no']\",\n",
              " \"db_id=university_basketball; table=basketball_match; column=ACC_Home; values=['6–2', '7–1']\",\n",
              " \"db_id=university_basketball; table=university; column=Affiliation; values=['Private/Methodist', 'Public']\",\n",
              " \"db_id=wedding; table=people; column=Is_Male; values=['T', 'F']\",\n",
              " \"db_id=wta_1; table=matches; column=loser_hand; values=['L', 'R']\",\n",
              " \"db_id=wta_1; table=matches; column=winner_hand; values=['L', 'R']\",\n",
              " \"db_id=sports_competition; table=competition; column=Year; values=['2006.0', '2007.0']\",\n",
              " \"db_id=sports_competition; table=competition; column=Competition_type; values=['Friendly', 'Tournament']\",\n",
              " \"db_id=wine_1; table=grapes; column=Color; values=['White', 'Red']\",\n",
              " \"db_id=wine_1; table=appellations; column=isAVA; values=['Yes', 'No']\"]"
            ]
          },
          "metadata": {
            "tags": []
          },
          "execution_count": 92
        }
      ]
    },
    {
      "cell_type": "code",
      "metadata": {
        "id": "N_YZbMtuCM4W"
      },
      "source": [
        "sorted(unique_amounts.keys())"
      ],
      "execution_count": null,
      "outputs": []
    },
    {
      "cell_type": "code",
      "metadata": {
        "id": "a7RwJ-M3BOi0"
      },
      "source": [
        "all_sizes = {_k: len(_v) for _k, _v in unique_amounts.items()}"
      ],
      "execution_count": null,
      "outputs": []
    },
    {
      "cell_type": "code",
      "metadata": {
        "colab": {
          "base_uri": "https://localhost:8080/"
        },
        "id": "qPuFrS4aBOww",
        "outputId": "5ede1f17-b27b-447c-83a5-b83de4a7960c"
      },
      "source": [
        "size_values = []\n",
        "last_number = sorted(list(all_sizes.keys()))[-1]\n",
        "print(last_number)\n",
        "for i in range(last_number + 1):\n",
        "  if i not in all_sizes.keys():\n",
        "    size_values.append(0)\n",
        "  else:\n",
        "    size_values.append(all_sizes[i])"
      ],
      "execution_count": null,
      "outputs": [
        {
          "output_type": "stream",
          "text": [
            "183978\n"
          ],
          "name": "stdout"
        }
      ]
    },
    {
      "cell_type": "markdown",
      "metadata": {
        "id": "qHjlft7hMU0z"
      },
      "source": [
        "Amount of tables depend of amount of values. As we can see, there is a outlier value."
      ]
    },
    {
      "cell_type": "code",
      "metadata": {
        "colab": {
          "base_uri": "https://localhost:8080/",
          "height": 282
        },
        "id": "FxlIx5-rBPAZ",
        "outputId": "24ca8b5f-ee89-4284-db87-300047be243b"
      },
      "source": [
        "plt.bar(range(len(size_values[:100])), size_values[:100])"
      ],
      "execution_count": null,
      "outputs": [
        {
          "output_type": "execute_result",
          "data": {
            "text/plain": [
              "<BarContainer object of 100 artists>"
            ]
          },
          "metadata": {
            "tags": []
          },
          "execution_count": 76
        },
        {
          "output_type": "display_data",
          "data": {
            "image/png": "[encoded data removed]",
            "text/plain": [
              "<Figure size 432x288 with 1 Axes>"
            ]
          },
          "metadata": {
            "tags": [],
            "needs_background": "light"
          }
        }
      ]
    },
    {
      "cell_type": "markdown",
      "metadata": {
        "id": "mKc5HH2xMjNQ"
      },
      "source": [
        "Zoom of first values"
      ]
    },
    {
      "cell_type": "code",
      "metadata": {
        "colab": {
          "base_uri": "https://localhost:8080/",
          "height": 282
        },
        "id": "0bACh4MfBPP1",
        "outputId": "30696647-eda8-4a5e-edb7-12dff795235f"
      },
      "source": [
        "plt.bar(range(len(size_values[:20])), size_values[:20])"
      ],
      "execution_count": null,
      "outputs": [
        {
          "output_type": "execute_result",
          "data": {
            "text/plain": [
              "<BarContainer object of 20 artists>"
            ]
          },
          "metadata": {
            "tags": []
          },
          "execution_count": 77
        },
        {
          "output_type": "display_data",
          "data": {
            "image/png": "[encoded data removed]",
            "text/plain": [
              "<Figure size 432x288 with 1 Axes>"
            ]
          },
          "metadata": {
            "tags": [],
            "needs_background": "light"
          }
        }
      ]
    },
    {
      "cell_type": "markdown",
      "metadata": {
        "id": "1mB-ZRFuMpRN"
      },
      "source": [
        "Grouping in bins"
      ]
    },
    {
      "cell_type": "code",
      "metadata": {
        "id": "cc8OiSZ7BPgH"
      },
      "source": [
        "bin_size = 100000\n",
        "bin_size_values = [sum(size_values[bin_size*i: bin_size*(i+1)]) for i in range(len(size_values)//bin_size)]"
      ],
      "execution_count": null,
      "outputs": []
    },
    {
      "cell_type": "code",
      "metadata": {
        "colab": {
          "base_uri": "https://localhost:8080/",
          "height": 282
        },
        "id": "J91pMqeiBP3m",
        "outputId": "5c89a6a2-906a-401f-8ead-7c67ea0597e2"
      },
      "source": [
        "plt.bar(range(len(bin_size_values)), bin_size_values)"
      ],
      "execution_count": null,
      "outputs": [
        {
          "output_type": "execute_result",
          "data": {
            "text/plain": [
              "<BarContainer object of 1 artists>"
            ]
          },
          "metadata": {
            "tags": []
          },
          "execution_count": 79
        },
        {
          "output_type": "display_data",
          "data": {
            "image/png": "[encoded data removed]",
            "text/plain": [
              "<Figure size 432x288 with 1 Axes>"
            ]
          },
          "metadata": {
            "tags": [],
            "needs_background": "light"
          }
        }
      ]
    },
    {
      "cell_type": "code",
      "metadata": {
        "id": "mn98Ymc0CIit"
      },
      "source": [
        "bin_size = 10000\n",
        "bin_size_values = [sum(size_values[bin_size*i: bin_size*(i+1)]) for i in range(len(size_values)//bin_size)]"
      ],
      "execution_count": null,
      "outputs": []
    },
    {
      "cell_type": "code",
      "metadata": {
        "colab": {
          "base_uri": "https://localhost:8080/",
          "height": 282
        },
        "id": "Sf-ZIvAWCJ1Q",
        "outputId": "1add7cec-a910-4e86-d2a2-c53a56f7cba4"
      },
      "source": [
        "plt.bar(range(len(bin_size_values)), bin_size_values)"
      ],
      "execution_count": null,
      "outputs": [
        {
          "output_type": "execute_result",
          "data": {
            "text/plain": [
              "<BarContainer object of 18 artists>"
            ]
          },
          "metadata": {
            "tags": []
          },
          "execution_count": 81
        },
        {
          "output_type": "display_data",
          "data": {
            "image/png": "[encoded data removed]",
            "text/plain": [
              "<Figure size 432x288 with 1 Axes>"
            ]
          },
          "metadata": {
            "tags": [],
            "needs_background": "light"
          }
        }
      ]
    },
    {
      "cell_type": "markdown",
      "metadata": {
        "id": "L7ylLIQxNKMe"
      },
      "source": [
        "#### Defining types of binary values"
      ]
    },
    {
      "cell_type": "code",
      "metadata": {
        "id": "Lp_7R_MuNOZG"
      },
      "source": [
        "def define_binary_type_of_column(scheme):\n",
        "  values = [_v.lower() for _v in scheme['values']]\n",
        "  column = scheme['column'].lower()\n",
        "  values_hash = \"+\".join(sorted(values))\n",
        "  not_binary_words = ['quantity', 'code', 'stages', 'login']\n",
        "  coincidence = any([_w in column for _w in not_binary_words])\n",
        "  \n",
        "  if values_hash in [\"female+male\", \"f+m\", \"f\", \"m\", \"female\", \"male\"] or 'gender' in column or 'sex' in column:\n",
        "    return 'binary-gender'\n",
        "  if values_hash in [\"n+y\", \"no+yes\", \"n\", \"y\", \"no\", \"yes\"] and not coincidence:\n",
        "    return 'binary-yes-no'  \n",
        "  if values_hash in [\"0+1\", \"0\", \"1\"] and not coincidence:\n",
        "    return 'binary-0-1'\n",
        "  if values_hash in [\"false+true\", \"f+t\", \"false\", \"true\"] and not coincidence:\n",
        "    return 'binary-true-false'\n",
        "  antonyms = [\"close+open\", \"cancelled+completed\", \"basic+complex\", \"fail+pass\", \"nominated+won\", \"fall+spring\", \"satisfied+unsatisfied\", \"organizer+participant\", \"private+public\", \"private/methodist+public\" , \"reported+solved\", \"leader+researcher\", \"checking+saving\", \"check+cleaning\", \"full+provisional\", \"bad+good\", \"grade+purity\", \"amenity+security\", \"cytosol+mitochondrion\", \"primary+secondary\", \"fail+success\", \"activitor+inhibitor\", \"accepted+rejected\", \n",
        "              \"purchase+sale\", \"pur+sale\", \"app+reg\", \"research+sponsor\", \"initial application+regular\", \"res+spon\", \"paper+patent\", \"published research paper+research pratent\", \"project researcher+project leader\", \"friendly+tournament\",\n",
        "              \"bill+home\", \"billing+home or residence\", \"l+r\", \"customer+subscriber\", \"billing+shipping\", \"cancel+success\", \"billing+residential\", \"cancelled+delivered\", \"completed+part\", \"no response+order\", \"payment+refund\", \"democratic+republican\"]\n",
        "  single_antonyms = [_a.split('+')[0] for _a in antonyms] + [_a.split('+')[1] for _a in antonyms]\n",
        "  if values_hash in antonyms or len(values) == 1 and values_hash in single_antonyms:\n",
        "    return 'binary-antonyms'\n",
        "  if 'details' in column or 'comments' in column or 'notes' in column or 'none' in values or '' in values or 'ok' in values or 'n/a' in values:\n",
        "    return 'binary-one-many'\n",
        "  if len(values) == 0:\n",
        "    return \"not-binary\"\n",
        "  if len(values) == 1:\n",
        "    return \"not-binary\"\n",
        "  if len(values) == 2:\n",
        "    return 'binary-just-two-values' # ???\n",
        "  return 'binary-other' # ???"
      ],
      "execution_count": null,
      "outputs": []
    },
    {
      "cell_type": "code",
      "metadata": {
        "id": "p33yT0BIN1c2"
      },
      "source": [
        "binary_classification = {}\n",
        "\n",
        "for _scheme in unique_amounts[0]:\n",
        "  binary_type = define_binary_type_of_column(_scheme)\n",
        "  binary_classification[binary_type] = binary_classification.get(binary_type, []) + [_scheme]\n",
        "\n",
        "for _scheme in unique_amounts[1]:\n",
        "  binary_type = define_binary_type_of_column(_scheme)\n",
        "  binary_classification[binary_type] = binary_classification.get(binary_type, []) + [_scheme]\n",
        "\n",
        "for _scheme in unique_amounts[2]:\n",
        "  binary_type = define_binary_type_of_column(_scheme)\n",
        "  binary_classification[binary_type] = binary_classification.get(binary_type, []) + [_scheme]"
      ],
      "execution_count": null,
      "outputs": []
    },
    {
      "cell_type": "code",
      "metadata": {
        "id": "6rYc52lKb4qo"
      },
      "source": [
        "binary_classification"
      ],
      "execution_count": null,
      "outputs": []
    },
    {
      "cell_type": "code",
      "metadata": {
        "id": "9RzGPZxnbBsw"
      },
      "source": [
        "printed_binary_classification = {_t: [\";\".join([f\"{_k}={_v}\" for _k, _v in _s.items()]) for _s in _c] for _t, _c in binary_classification.items()}"
      ],
      "execution_count": null,
      "outputs": []
    },
    {
      "cell_type": "markdown",
      "metadata": {
        "id": "CVCPqem5M0xI"
      },
      "source": [
        "List if not binaries"
      ]
    },
    {
      "cell_type": "code",
      "metadata": {
        "colab": {
          "base_uri": "https://localhost:8080/"
        },
        "id": "Or_wfN4O02-1",
        "outputId": "f50d52d8-8c8b-4fd0-de33-0a2b721274c0"
      },
      "source": [
        "binary_type = 'not-binary'\n",
        "print(len(printed_binary_classification[binary_type]))\n",
        "printed_binary_classification[binary_type]"
      ],
      "execution_count": null,
      "outputs": [
        {
          "output_type": "stream",
          "text": [
            "322\n"
          ],
          "name": "stdout"
        },
        {
          "output_type": "execute_result",
          "data": {
            "text/plain": [
              "['db_id=academic;table=author;column=aid;values=[]',\n",
              " 'db_id=academic;table=author;column=homepage;values=[]',\n",
              " 'db_id=academic;table=author;column=name;values=[]',\n",
              " 'db_id=academic;table=author;column=oid;values=[]',\n",
              " 'db_id=academic;table=conference;column=cid;values=[]',\n",
              " 'db_id=academic;table=conference;column=homepage;values=[]',\n",
              " 'db_id=academic;table=conference;column=name;values=[]',\n",
              " 'db_id=academic;table=domain;column=did;values=[]',\n",
              " 'db_id=academic;table=domain;column=name;values=[]',\n",
              " 'db_id=academic;table=domain_author;column=aid;values=[]',\n",
              " 'db_id=academic;table=domain_author;column=did;values=[]',\n",
              " 'db_id=academic;table=domain_conference;column=cid;values=[]',\n",
              " 'db_id=academic;table=domain_conference;column=did;values=[]',\n",
              " 'db_id=academic;table=journal;column=homepage;values=[]',\n",
              " 'db_id=academic;table=journal;column=jid;values=[]',\n",
              " 'db_id=academic;table=journal;column=name;values=[]',\n",
              " 'db_id=academic;table=domain_journal;column=did;values=[]',\n",
              " 'db_id=academic;table=domain_journal;column=jid;values=[]',\n",
              " 'db_id=academic;table=keyword;column=keyword;values=[]',\n",
              " 'db_id=academic;table=keyword;column=kid;values=[]',\n",
              " 'db_id=academic;table=domain_keyword;column=did;values=[]',\n",
              " 'db_id=academic;table=domain_keyword;column=kid;values=[]',\n",
              " 'db_id=academic;table=publication;column=abstract;values=[]',\n",
              " 'db_id=academic;table=publication;column=cid;values=[]',\n",
              " 'db_id=academic;table=publication;column=citation_num;values=[]',\n",
              " 'db_id=academic;table=publication;column=jid;values=[]',\n",
              " 'db_id=academic;table=publication;column=pid;values=[]',\n",
              " 'db_id=academic;table=publication;column=reference_num;values=[]',\n",
              " 'db_id=academic;table=publication;column=title;values=[]',\n",
              " 'db_id=academic;table=publication;column=year;values=[]',\n",
              " 'db_id=academic;table=domain_publication;column=did;values=[]',\n",
              " 'db_id=academic;table=domain_publication;column=pid;values=[]',\n",
              " 'db_id=academic;table=organization;column=continent;values=[]',\n",
              " 'db_id=academic;table=organization;column=homepage;values=[]',\n",
              " 'db_id=academic;table=organization;column=name;values=[]',\n",
              " 'db_id=academic;table=organization;column=oid;values=[]',\n",
              " 'db_id=academic;table=publication_keyword;column=pid;values=[]',\n",
              " 'db_id=academic;table=publication_keyword;column=kid;values=[]',\n",
              " 'db_id=academic;table=writes;column=aid;values=[]',\n",
              " 'db_id=academic;table=writes;column=pid;values=[]',\n",
              " 'db_id=academic;table=cite;column=cited;values=[]',\n",
              " 'db_id=academic;table=cite;column=citing;values=[]',\n",
              " 'db_id=formula_1;table=pitStops;column=raceId;values=[]',\n",
              " 'db_id=formula_1;table=pitStops;column=driverId;values=[]',\n",
              " 'db_id=formula_1;table=pitStops;column=stop;values=[]',\n",
              " 'db_id=formula_1;table=pitStops;column=lap;values=[]',\n",
              " 'db_id=formula_1;table=pitStops;column=time;values=[]',\n",
              " 'db_id=formula_1;table=pitStops;column=duration;values=[]',\n",
              " 'db_id=formula_1;table=pitStops;column=milliseconds;values=[]',\n",
              " 'db_id=formula_1;table=lapTimes;column=raceId;values=[]',\n",
              " 'db_id=formula_1;table=lapTimes;column=driverId;values=[]',\n",
              " 'db_id=formula_1;table=lapTimes;column=lap;values=[]',\n",
              " 'db_id=formula_1;table=lapTimes;column=position;values=[]',\n",
              " 'db_id=formula_1;table=lapTimes;column=time;values=[]',\n",
              " 'db_id=formula_1;table=lapTimes;column=milliseconds;values=[]',\n",
              " 'db_id=geo;table=state;column=state_name;values=[]',\n",
              " 'db_id=geo;table=state;column=population;values=[]',\n",
              " 'db_id=geo;table=state;column=area;values=[]',\n",
              " 'db_id=geo;table=state;column=country_name;values=[]',\n",
              " 'db_id=geo;table=state;column=capital;values=[]',\n",
              " 'db_id=geo;table=state;column=density;values=[]',\n",
              " 'db_id=geo;table=city;column=city_name;values=[]',\n",
              " 'db_id=geo;table=city;column=population;values=[]',\n",
              " 'db_id=geo;table=city;column=country_name;values=[]',\n",
              " 'db_id=geo;table=city;column=state_name;values=[]',\n",
              " 'db_id=geo;table=border_info;column=state_name;values=[]',\n",
              " 'db_id=geo;table=border_info;column=border;values=[]',\n",
              " 'db_id=geo;table=highlow;column=state_name;values=[]',\n",
              " 'db_id=geo;table=highlow;column=highest_elevation;values=[]',\n",
              " 'db_id=geo;table=highlow;column=lowest_point;values=[]',\n",
              " 'db_id=geo;table=highlow;column=highest_point;values=[]',\n",
              " 'db_id=geo;table=highlow;column=lowest_elevation;values=[]',\n",
              " 'db_id=geo;table=lake;column=lake_name;values=[]',\n",
              " 'db_id=geo;table=lake;column=area;values=[]',\n",
              " 'db_id=geo;table=lake;column=country_name;values=[]',\n",
              " 'db_id=geo;table=lake;column=state_name;values=[]',\n",
              " 'db_id=geo;table=mountain;column=mountain_name;values=[]',\n",
              " 'db_id=geo;table=mountain;column=mountain_altitude;values=[]',\n",
              " 'db_id=geo;table=mountain;column=country_name;values=[]',\n",
              " 'db_id=geo;table=mountain;column=state_name;values=[]',\n",
              " 'db_id=geo;table=river;column=river_name;values=[]',\n",
              " 'db_id=geo;table=river;column=length;values=[]',\n",
              " 'db_id=geo;table=river;column=country_name;values=[]',\n",
              " 'db_id=geo;table=river;column=traverse;values=[]',\n",
              " 'db_id=imdb;table=actor;column=aid;values=[]',\n",
              " 'db_id=imdb;table=actor;column=name;values=[]',\n",
              " 'db_id=imdb;table=actor;column=nationality;values=[]',\n",
              " 'db_id=imdb;table=actor;column=birth_city;values=[]',\n",
              " 'db_id=imdb;table=actor;column=birth_year;values=[]',\n",
              " 'db_id=imdb;table=copyright;column=id;values=[]',\n",
              " 'db_id=imdb;table=copyright;column=msid;values=[]',\n",
              " 'db_id=imdb;table=copyright;column=cid;values=[]',\n",
              " 'db_id=imdb;table=cast;column=id;values=[]',\n",
              " 'db_id=imdb;table=cast;column=msid;values=[]',\n",
              " 'db_id=imdb;table=cast;column=aid;values=[]',\n",
              " 'db_id=imdb;table=cast;column=role;values=[]',\n",
              " 'db_id=imdb;table=genre;column=gid;values=[]',\n",
              " 'db_id=imdb;table=genre;column=genre;values=[]',\n",
              " 'db_id=imdb;table=classification;column=id;values=[]',\n",
              " 'db_id=imdb;table=classification;column=msid;values=[]',\n",
              " 'db_id=imdb;table=classification;column=gid;values=[]',\n",
              " 'db_id=imdb;table=company;column=id;values=[]',\n",
              " 'db_id=imdb;table=company;column=name;values=[]',\n",
              " 'db_id=imdb;table=company;column=country_code;values=[]',\n",
              " 'db_id=imdb;table=director;column=did;values=[]',\n",
              " 'db_id=imdb;table=director;column=name;values=[]',\n",
              " 'db_id=imdb;table=director;column=nationality;values=[]',\n",
              " 'db_id=imdb;table=director;column=birth_city;values=[]',\n",
              " 'db_id=imdb;table=director;column=birth_year;values=[]',\n",
              " 'db_id=imdb;table=producer;column=pid;values=[]',\n",
              " 'db_id=imdb;table=producer;column=name;values=[]',\n",
              " 'db_id=imdb;table=producer;column=nationality;values=[]',\n",
              " 'db_id=imdb;table=producer;column=birth_city;values=[]',\n",
              " 'db_id=imdb;table=producer;column=birth_year;values=[]',\n",
              " 'db_id=imdb;table=directed_by;column=id;values=[]',\n",
              " 'db_id=imdb;table=directed_by;column=msid;values=[]',\n",
              " 'db_id=imdb;table=directed_by;column=did;values=[]',\n",
              " 'db_id=imdb;table=keyword;column=id;values=[]',\n",
              " 'db_id=imdb;table=keyword;column=keyword;values=[]',\n",
              " 'db_id=imdb;table=made_by;column=id;values=[]',\n",
              " 'db_id=imdb;table=made_by;column=msid;values=[]',\n",
              " 'db_id=imdb;table=made_by;column=pid;values=[]',\n",
              " 'db_id=imdb;table=movie;column=mid;values=[]',\n",
              " 'db_id=imdb;table=movie;column=title;values=[]',\n",
              " 'db_id=imdb;table=movie;column=release_year;values=[]',\n",
              " 'db_id=imdb;table=movie;column=title_aka;values=[]',\n",
              " 'db_id=imdb;table=movie;column=budget;values=[]',\n",
              " 'db_id=imdb;table=tags;column=id;values=[]',\n",
              " 'db_id=imdb;table=tags;column=msid;values=[]',\n",
              " 'db_id=imdb;table=tags;column=kid;values=[]',\n",
              " 'db_id=imdb;table=tv_series;column=sid;values=[]',\n",
              " 'db_id=imdb;table=tv_series;column=title;values=[]',\n",
              " 'db_id=imdb;table=tv_series;column=release_year;values=[]',\n",
              " 'db_id=imdb;table=tv_series;column=num_of_seasons;values=[]',\n",
              " 'db_id=imdb;table=tv_series;column=num_of_episodes;values=[]',\n",
              " 'db_id=imdb;table=tv_series;column=title_aka;values=[]',\n",
              " 'db_id=imdb;table=tv_series;column=budget;values=[]',\n",
              " 'db_id=imdb;table=writer;column=wid;values=[]',\n",
              " 'db_id=imdb;table=writer;column=name;values=[]',\n",
              " 'db_id=imdb;table=writer;column=nationality;values=[]',\n",
              " 'db_id=imdb;table=writer;column=num_of_episodes;values=[]',\n",
              " 'db_id=imdb;table=writer;column=birth_city;values=[]',\n",
              " 'db_id=imdb;table=writer;column=birth_year;values=[]',\n",
              " 'db_id=imdb;table=written_by;column=id;values=[]',\n",
              " 'db_id=imdb;table=written_by;column=msid;values=[]',\n",
              " 'db_id=imdb;table=written_by;column=wid;values=[]',\n",
              " 'db_id=music_2;table=Songs;column=SongId;values=[]',\n",
              " 'db_id=music_2;table=Songs;column=Title;values=[]',\n",
              " 'db_id=music_2;table=Albums;column=AId;values=[]',\n",
              " 'db_id=music_2;table=Albums;column=Title;values=[]',\n",
              " 'db_id=music_2;table=Albums;column=Year;values=[]',\n",
              " 'db_id=music_2;table=Albums;column=Label;values=[]',\n",
              " 'db_id=music_2;table=Albums;column=Type;values=[]',\n",
              " 'db_id=music_2;table=Band;column=Id;values=[]',\n",
              " 'db_id=music_2;table=Band;column=Firstname;values=[]',\n",
              " 'db_id=music_2;table=Band;column=Lastname;values=[]',\n",
              " 'db_id=music_2;table=Instruments;column=SongId;values=[]',\n",
              " 'db_id=music_2;table=Instruments;column=BandmateId;values=[]',\n",
              " 'db_id=music_2;table=Instruments;column=Instrument;values=[]',\n",
              " 'db_id=music_2;table=Performance;column=SongId;values=[]',\n",
              " 'db_id=music_2;table=Performance;column=Bandmate;values=[]',\n",
              " 'db_id=music_2;table=Performance;column=StagePosition;values=[]',\n",
              " 'db_id=music_2;table=Tracklists;column=AlbumId;values=[]',\n",
              " 'db_id=music_2;table=Tracklists;column=Position;values=[]',\n",
              " 'db_id=music_2;table=Tracklists;column=SongId;values=[]',\n",
              " 'db_id=music_2;table=Vocals;column=SongId;values=[]',\n",
              " 'db_id=music_2;table=Vocals;column=Bandmate;values=[]',\n",
              " 'db_id=music_2;table=Vocals;column=Type;values=[]',\n",
              " 'db_id=restaurants;table=GEOGRAPHIC;column=CITY_NAME;values=[]',\n",
              " 'db_id=restaurants;table=GEOGRAPHIC;column=COUNTY;values=[]',\n",
              " 'db_id=restaurants;table=GEOGRAPHIC;column=REGION;values=[]',\n",
              " 'db_id=restaurants;table=RESTAURANT;column=ID;values=[]',\n",
              " 'db_id=restaurants;table=RESTAURANT;column=NAME;values=[]',\n",
              " 'db_id=restaurants;table=RESTAURANT;column=FOOD_TYPE;values=[]',\n",
              " 'db_id=restaurants;table=RESTAURANT;column=CITY_NAME;values=[]',\n",
              " 'db_id=restaurants;table=RESTAURANT;column=RATING;values=[]',\n",
              " 'db_id=restaurants;table=LOCATION;column=RESTAURANT_ID;values=[]',\n",
              " 'db_id=restaurants;table=LOCATION;column=HOUSE_NUMBER;values=[]',\n",
              " 'db_id=restaurants;table=LOCATION;column=STREET_NAME;values=[]',\n",
              " 'db_id=restaurants;table=LOCATION;column=CITY_NAME;values=[]',\n",
              " 'db_id=sakila_1;table=film_text;column=film_id;values=[]',\n",
              " 'db_id=sakila_1;table=film_text;column=title;values=[]',\n",
              " 'db_id=sakila_1;table=film_text;column=description;values=[]',\n",
              " 'db_id=sakila_1;table=language;column=language_id;values=[]',\n",
              " 'db_id=sakila_1;table=language;column=name;values=[]',\n",
              " 'db_id=sakila_1;table=language;column=last_update;values=[]',\n",
              " 'db_id=sakila_1;table=staff;column=staff_id;values=[]',\n",
              " 'db_id=sakila_1;table=staff;column=first_name;values=[]',\n",
              " 'db_id=sakila_1;table=staff;column=last_name;values=[]',\n",
              " 'db_id=sakila_1;table=staff;column=address_id;values=[]',\n",
              " 'db_id=sakila_1;table=staff;column=picture;values=[]',\n",
              " 'db_id=sakila_1;table=staff;column=email;values=[]',\n",
              " 'db_id=sakila_1;table=staff;column=store_id;values=[]',\n",
              " 'db_id=sakila_1;table=staff;column=active;values=[]',\n",
              " 'db_id=sakila_1;table=staff;column=username;values=[]',\n",
              " 'db_id=sakila_1;table=staff;column=password;values=[]',\n",
              " 'db_id=sakila_1;table=staff;column=last_update;values=[]',\n",
              " 'db_id=sakila_1;table=store;column=store_id;values=[]',\n",
              " 'db_id=sakila_1;table=store;column=manager_staff_id;values=[]',\n",
              " 'db_id=sakila_1;table=store;column=address_id;values=[]',\n",
              " 'db_id=sakila_1;table=store;column=last_update;values=[]',\n",
              " 'db_id=scholar;table=venue;column=venueId;values=[]',\n",
              " 'db_id=scholar;table=venue;column=venueName;values=[]',\n",
              " 'db_id=scholar;table=author;column=authorId;values=[]',\n",
              " 'db_id=scholar;table=author;column=authorName;values=[]',\n",
              " 'db_id=scholar;table=dataset;column=datasetId;values=[]',\n",
              " 'db_id=scholar;table=dataset;column=datasetName;values=[]',\n",
              " 'db_id=scholar;table=journal;column=journalId;values=[]',\n",
              " 'db_id=scholar;table=journal;column=journalName;values=[]',\n",
              " 'db_id=scholar;table=keyphrase;column=keyphraseId;values=[]',\n",
              " 'db_id=scholar;table=keyphrase;column=keyphraseName;values=[]',\n",
              " 'db_id=scholar;table=paper;column=paperId;values=[]',\n",
              " 'db_id=scholar;table=paper;column=title;values=[]',\n",
              " 'db_id=scholar;table=paper;column=venueId;values=[]',\n",
              " 'db_id=scholar;table=paper;column=year;values=[]',\n",
              " 'db_id=scholar;table=paper;column=numCiting;values=[]',\n",
              " 'db_id=scholar;table=paper;column=numCitedBy;values=[]',\n",
              " 'db_id=scholar;table=paper;column=journalId;values=[]',\n",
              " 'db_id=scholar;table=cite;column=citingPaperId;values=[]',\n",
              " 'db_id=scholar;table=cite;column=citedPaperId;values=[]',\n",
              " 'db_id=scholar;table=paperDataset;column=paperId;values=[]',\n",
              " 'db_id=scholar;table=paperDataset;column=datasetId;values=[]',\n",
              " 'db_id=scholar;table=paperKeyphrase;column=paperId;values=[]',\n",
              " 'db_id=scholar;table=paperKeyphrase;column=keyphraseId;values=[]',\n",
              " 'db_id=scholar;table=writes;column=paperId;values=[]',\n",
              " 'db_id=scholar;table=writes;column=authorId;values=[]',\n",
              " 'db_id=yelp;table=business;column=bid;values=[]',\n",
              " 'db_id=yelp;table=business;column=business_id;values=[]',\n",
              " 'db_id=yelp;table=business;column=name;values=[]',\n",
              " 'db_id=yelp;table=business;column=full_address;values=[]',\n",
              " 'db_id=yelp;table=business;column=city;values=[]',\n",
              " 'db_id=yelp;table=business;column=latitude;values=[]',\n",
              " 'db_id=yelp;table=business;column=longitude;values=[]',\n",
              " 'db_id=yelp;table=business;column=review_count;values=[]',\n",
              " 'db_id=yelp;table=business;column=is_open;values=[]',\n",
              " 'db_id=yelp;table=business;column=rating;values=[]',\n",
              " 'db_id=yelp;table=business;column=state;values=[]',\n",
              " 'db_id=yelp;table=category;column=id;values=[]',\n",
              " 'db_id=yelp;table=category;column=business_id;values=[]',\n",
              " 'db_id=yelp;table=category;column=category_name;values=[]',\n",
              " 'db_id=yelp;table=user;column=uid;values=[]',\n",
              " 'db_id=yelp;table=user;column=user_id;values=[]',\n",
              " 'db_id=yelp;table=user;column=name;values=[]',\n",
              " 'db_id=yelp;table=checkin;column=cid;values=[]',\n",
              " 'db_id=yelp;table=checkin;column=business_id;values=[]',\n",
              " 'db_id=yelp;table=checkin;column=count;values=[]',\n",
              " 'db_id=yelp;table=checkin;column=day;values=[]',\n",
              " 'db_id=yelp;table=neighbourhood;column=id;values=[]',\n",
              " 'db_id=yelp;table=neighbourhood;column=business_id;values=[]',\n",
              " 'db_id=yelp;table=neighbourhood;column=neighbourhood_name;values=[]',\n",
              " 'db_id=yelp;table=review;column=rid;values=[]',\n",
              " 'db_id=yelp;table=review;column=business_id;values=[]',\n",
              " 'db_id=yelp;table=review;column=user_id;values=[]',\n",
              " 'db_id=yelp;table=review;column=rating;values=[]',\n",
              " 'db_id=yelp;table=review;column=text;values=[]',\n",
              " 'db_id=yelp;table=review;column=year;values=[]',\n",
              " 'db_id=yelp;table=review;column=month;values=[]',\n",
              " 'db_id=yelp;table=tip;column=tip_id;values=[]',\n",
              " 'db_id=yelp;table=tip;column=business_id;values=[]',\n",
              " 'db_id=yelp;table=tip;column=text;values=[]',\n",
              " 'db_id=yelp;table=tip;column=user_id;values=[]',\n",
              " 'db_id=yelp;table=tip;column=likes;values=[]',\n",
              " 'db_id=yelp;table=tip;column=year;values=[]',\n",
              " 'db_id=yelp;table=tip;column=month;values=[]',\n",
              " \"db_id=baseball_1;table=college;column=country;values=['USA']\",\n",
              " \"db_id=baseball_1;table=team_half;column=year;values=['1981']\",\n",
              " \"db_id=behavior_monitoring;table=Addresses;column=country;values=['USA']\",\n",
              " \"db_id=chinook_1;table=Employee;column=State;values=['AB']\",\n",
              " \"db_id=chinook_1;table=Employee;column=Country;values=['Canada']\",\n",
              " \"db_id=chinook_1;table=InvoiceLine;column=Quantity;values=['1']\",\n",
              " \"db_id=cre_Drama_Workshop_Groups;table=Ref_Service_Types;column=Parent_Service_Type_Code;values=['1']\",\n",
              " \"db_id=cre_Theme_park;table=Ref_Hotel_Star_Ratings;column=star_rating_description;values=['star']\",\n",
              " \"db_id=csu_1;table=discipline_enrollments;column=Year;values=['2004']\",\n",
              " \"db_id=customer_deliveries;table=Addresses;column=country;values=['USA']\",\n",
              " \"db_id=customers_and_addresses;table=Addresses;column=country;values=['USA']\",\n",
              " \"db_id=customers_and_invoices;table=Customers;column=country;values=['USA']\",\n",
              " \"db_id=customers_and_invoices;table=Invoice_Line_Items;column=product_title;values=['prod_name']\",\n",
              " \"db_id=customers_and_products_contacts;table=Addresses;column=country;values=['USA']\",\n",
              " \"db_id=customers_campaigns_ecommerce;table=Customer_Orders;column=order_delivered_datetime;values=['2018-03-20 12:00:00']\",\n",
              " \"db_id=department_store;table=Department_Stores;column=store_name;values=['store_name']\",\n",
              " \"db_id=document_management;table=Functional_Areas;column=parent_functional_area_code;values=['8']\",\n",
              " \"db_id=driving_school;table=Addresses;column=country;values=['USA']\",\n",
              " \"db_id=e_government;table=Addresses;column=country;values=['USA']\",\n",
              " \"db_id=entertainment_awards;table=festival_detail;column=Location;values=['United States']\",\n",
              " \"db_id=flight_2;table=airlines;column=Country;values=['USA']\",\n",
              " \"db_id=flight_2;table=airports;column=Country;values=['United States ']\",\n",
              " \"db_id=game_injury;table=stadium;column=Home_Games;values=['8']\",\n",
              " \"db_id=game_injury;table=injury_accident;column=Source;values=['inter.it']\",\n",
              " \"db_id=hospital_1;table=Room;column=RoomType;values=['Single']\",\n",
              " \"db_id=machine_repair;table=machine;column=Class;values=['125cc']\",\n",
              " \"db_id=machine_repair;table=machine;column=Machine_series;values=['RS125']\",\n",
              " \"db_id=music_4;table=music_festival;column=Date_of_ceremony;values=['18 February 2011']\",\n",
              " \"db_id=musical;table=musical;column=Year;values=['1986']\",\n",
              " \"db_id=product_catalog;table=Attribute_Definitions;column=attribute_data_type;values=['Bool']\",\n",
              " \"db_id=roller_coaster;table=roller_coaster;column=Status;values=['Operating']\",\n",
              " \"db_id=sakila_1;table=actor;column=last_update;values=['2006-02-15 04:34:33']\",\n",
              " \"db_id=sakila_1;table=address;column=last_update;values=['2006-02-15 04:45:30']\",\n",
              " \"db_id=sakila_1;table=category;column=last_update;values=['2006-02-15 04:46:27']\",\n",
              " \"db_id=sakila_1;table=city;column=last_update;values=['2006-02-15 04:45:25']\",\n",
              " \"db_id=sakila_1;table=country;column=last_update;values=['2006-02-15 04:44:00']\",\n",
              " \"db_id=sakila_1;table=customer;column=last_update;values=['2006-02-15 04:57:20']\",\n",
              " \"db_id=sakila_1;table=film;column=release_year;values=['2006']\",\n",
              " \"db_id=sakila_1;table=film;column=last_update;values=['2006-02-15 05:03:42']\",\n",
              " \"db_id=sakila_1;table=film_actor;column=last_update;values=['2006-02-15 05:05:03']\",\n",
              " \"db_id=sakila_1;table=film_category;column=last_update;values=['2006-02-15 05:07:09']\",\n",
              " \"db_id=sakila_1;table=inventory;column=last_update;values=['2006-02-15 05:09:17']\",\n",
              " \"db_id=school_player;table=school_details;column=League;values=['DSHA']\",\n",
              " \"db_id=store_1;table=employees;column=state;values=['AB']\",\n",
              " \"db_id=store_1;table=employees;column=country;values=['Canada']\",\n",
              " \"db_id=store_1;table=invoice_lines;column=quantity;values=['1']\",\n",
              " \"db_id=store_product;table=product;column=dpi;values=['600.0']\",\n",
              " \"db_id=store_product;table=product;column=interface;values=['USB 2.0']\",\n",
              " \"db_id=student_assessment;table=Addresses;column=country;values=['USA']\",\n",
              " \"db_id=world_1;table=sqlite_sequence;column=name;values=['city']\",\n",
              " \"db_id=world_1;table=sqlite_sequence;column=seq;values=['4079']\",\n",
              " \"db_id=ship_1;table=Ship;column=Type;values=['Panamax']\",\n",
              " \"db_id=tvshow;table=TV_Channel;column=Content;values=['music']\",\n",
              " \"db_id=train_station;table=train;column=Service;values=['Daily']\",\n",
              " \"db_id=wta_1;table=matches;column=best_of;values=['3']\",\n",
              " \"db_id=station_weather;table=train;column=interval;values=['Daily']\",\n",
              " \"db_id=wine_1;table=appellations;column=State;values=['California']\",\n",
              " \"db_id=wine_1;table=wine;column=State;values=['California']\"]"
            ]
          },
          "metadata": {
            "tags": []
          },
          "execution_count": 164
        }
      ]
    },
    {
      "cell_type": "markdown",
      "metadata": {
        "id": "wwv8PuZDM5Jl"
      },
      "source": [
        "Gender"
      ]
    },
    {
      "cell_type": "code",
      "metadata": {
        "colab": {
          "base_uri": "https://localhost:8080/"
        },
        "id": "oldMtUSAcamQ",
        "outputId": "7f731bcc-e43c-4dd3-82a4-4a1bc752ccb9"
      },
      "source": [
        "binary_type = 'binary-gender'\n",
        "print(len(printed_binary_classification[binary_type]))\n",
        "printed_binary_classification[binary_type]"
      ],
      "execution_count": null,
      "outputs": [
        {
          "output_type": "stream",
          "text": [
            "33\n"
          ],
          "name": "stdout"
        },
        {
          "output_type": "execute_result",
          "data": {
            "text/plain": [
              "['db_id=imdb;table=actor;column=gender;values=[]',\n",
              " 'db_id=imdb;table=director;column=gender;values=[]',\n",
              " 'db_id=imdb;table=producer;column=gender;values=[]',\n",
              " 'db_id=imdb;table=writer;column=gender;values=[]',\n",
              " \"db_id=activity_1;table=Student;column=Sex;values=['F', 'M']\",\n",
              " \"db_id=activity_1;table=Faculty;column=Sex;values=['F', 'M']\",\n",
              " \"db_id=allergy_1;table=Student;column=Sex;values=['F', 'M']\",\n",
              " \"db_id=architecture;table=architect;column=gender;values=['female', 'male']\",\n",
              " \"db_id=assets_maintenance;table=Staff;column=gender;values=['0', '1']\",\n",
              " \"db_id=behavior_monitoring;table=Teachers;column=gender;values=['0', '1']\",\n",
              " \"db_id=candidate_poll;table=people;column=Sex;values=['F', 'M']\",\n",
              " \"db_id=club_1;table=Student;column=Sex;values=['F', 'M']\",\n",
              " \"db_id=college_3;table=Student;column=Sex;values=['F', 'M']\",\n",
              " \"db_id=college_3;table=Faculty;column=Sex;values=['F', 'M']\",\n",
              " \"db_id=company_1;table=employee;column=Sex;values=['F', 'M']\",\n",
              " \"db_id=company_1;table=dependent;column=Sex;values=['F', 'M']\",\n",
              " \"db_id=cre_Doc_Tracking_DB;table=Employees;column=Gender_MFU;values=['', '1']\",\n",
              " \"db_id=customer_complaints;table=Staff;column=gender;values=['0', '1']\",\n",
              " \"db_id=customers_and_invoices;table=Customers;column=gender;values=['0', '1']\",\n",
              " \"db_id=customers_and_products_contacts;table=Contacts;column=gender;values=['female', 'male']\",\n",
              " \"db_id=department_store;table=Staff;column=staff_gender;values=['0', '1']\",\n",
              " \"db_id=dog_kennels;table=Dogs;column=gender;values=['0', '1']\",\n",
              " \"db_id=dorm_1;table=Student;column=Sex;values=['F', 'M']\",\n",
              " \"db_id=e_learning;table=Course_Authors_and_Tutors;column=gender_mf;values=['0', '1']\",\n",
              " \"db_id=game_1;table=Student;column=Sex;values=['F', 'M']\",\n",
              " \"db_id=music_1;table=artist;column=gender;values=['Female', 'Male']\",\n",
              " \"db_id=network_2;table=Person;column=gender;values=['female', 'male']\",\n",
              " \"db_id=pets_1;table=Student;column=Sex;values=['F', 'M']\",\n",
              " \"db_id=products_for_hire;table=Customers;column=gender_mf;values=['0', '1']\",\n",
              " \"db_id=restaurant_1;table=Student;column=Sex;values=['F', 'M']\",\n",
              " \"db_id=riding_club;table=player;column=Gender;values=['F', 'M']\",\n",
              " \"db_id=riding_club;table=coach;column=Gender;values=['F', 'M']\",\n",
              " \"db_id=voter_2;table=Student;column=Sex;values=['F', 'M']\"]"
            ]
          },
          "metadata": {
            "tags": []
          },
          "execution_count": 152
        }
      ]
    },
    {
      "cell_type": "markdown",
      "metadata": {
        "id": "qgY1fvVcM69o"
      },
      "source": [
        "Yes-No"
      ]
    },
    {
      "cell_type": "code",
      "metadata": {
        "colab": {
          "base_uri": "https://localhost:8080/"
        },
        "id": "JLujiCQecjHH",
        "outputId": "651be71e-d1f8-4d09-abc0-09280680444a"
      },
      "source": [
        "binary_type = 'binary-yes-no'\n",
        "print(len(printed_binary_classification[binary_type]))\n",
        "printed_binary_classification[binary_type]"
      ],
      "execution_count": null,
      "outputs": [
        {
          "output_type": "stream",
          "text": [
            "12\n"
          ],
          "name": "stdout"
        },
        {
          "output_type": "execute_result",
          "data": {
            "text/plain": [
              "[\"db_id=baseball_1;table=team_half;column=div_win;values=['N']\",\n",
              " \"db_id=tvshow;table=TV_Channel;column=Pay_per_view_PPV;values=['no']\",\n",
              " \"db_id=baseball_1;table=hall_of_fame;column=inducted;values=['N', 'Y']\",\n",
              " \"db_id=baseball_1;table=manager;column=plyr_mgr;values=['N', 'Y']\",\n",
              " \"db_id=department_management;table=management;column=temporary_acting;values=['Yes', 'No']\",\n",
              " \"db_id=flight_4;table=airlines;column=active;values=['N', 'Y']\",\n",
              " \"db_id=game_1;table=SportsInfo;column=OnScholarship;values=['N', 'Y']\",\n",
              " \"db_id=medicine_enzyme_interaction;table=medicine;column=FDA_approved;values=['Yes', 'No']\",\n",
              " \"db_id=soccer_2;table=Player;column=yCard;values=['yes', 'no']\",\n",
              " \"db_id=soccer_2;table=Tryout;column=decision;values=['yes', 'no']\",\n",
              " \"db_id=tvshow;table=TV_Channel;column=Hight_definition_TV;values=['yes', 'no']\",\n",
              " \"db_id=wine_1;table=appellations;column=isAVA;values=['Yes', 'No']\"]"
            ]
          },
          "metadata": {
            "tags": []
          },
          "execution_count": 165
        }
      ]
    },
    {
      "cell_type": "markdown",
      "metadata": {
        "id": "4tRwQFDPM9BG"
      },
      "source": [
        "True-False"
      ]
    },
    {
      "cell_type": "code",
      "metadata": {
        "colab": {
          "base_uri": "https://localhost:8080/"
        },
        "id": "Qw8GOWSrwFOI",
        "outputId": "2da0fb0c-c7cd-4290-fefc-4f1123447272"
      },
      "source": [
        "binary_type = 'binary-true-false'\n",
        "print(len(printed_binary_classification[binary_type]))\n",
        "printed_binary_classification[binary_type]"
      ],
      "execution_count": null,
      "outputs": [
        {
          "output_type": "stream",
          "text": [
            "8\n"
          ],
          "name": "stdout"
        },
        {
          "output_type": "execute_result",
          "data": {
            "text/plain": [
              "[\"db_id=concert_singer;table=singer;column=Is_male;values=['T', 'F']\",\n",
              " \"db_id=debate;table=debate_people;column=If_Affirmative_Win;values=['T', 'F']\",\n",
              " \"db_id=employee_hire_evaluation;table=hiring;column=Is_full_time;values=['T', 'F']\",\n",
              " \"db_id=orchestra;table=show;column=Result;values=['T', 'F']\",\n",
              " \"db_id=party_host;table=party_host;column=Is_Main_in_Charge;values=['T', 'F']\",\n",
              " \"db_id=world_1;table=countrylanguage;column=IsOfficial;values=['T', 'F']\",\n",
              " \"db_id=school_bus;table=school_bus;column=If_full_time;values=['T', 'F']\",\n",
              " \"db_id=wedding;table=people;column=Is_Male;values=['T', 'F']\"]"
            ]
          },
          "metadata": {
            "tags": []
          },
          "execution_count": 154
        }
      ]
    },
    {
      "cell_type": "markdown",
      "metadata": {
        "id": "fjB8tMCpM_9w"
      },
      "source": [
        "0-1"
      ]
    },
    {
      "cell_type": "code",
      "metadata": {
        "colab": {
          "base_uri": "https://localhost:8080/"
        },
        "id": "i6azNhF7wvWy",
        "outputId": "643c12f5-075b-436b-e370-390f66fa43cd"
      },
      "source": [
        "binary_type = 'binary-0-1'\n",
        "print(len(printed_binary_classification[binary_type]))\n",
        "printed_binary_classification[binary_type]"
      ],
      "execution_count": null,
      "outputs": [
        {
          "output_type": "stream",
          "text": [
            "19\n"
          ],
          "name": "stdout"
        },
        {
          "output_type": "execute_result",
          "data": {
            "text/plain": [
              "[\"db_id=hospital_1;table=On_Call;column=BlockFloor;values=['1']\",\n",
              " \"db_id=insurance_and_eClaims;table=Claims_Processing_Stages;column=Next_Claim_Stage_ID;values=['1']\",\n",
              " \"db_id=products_for_hire;table=Products_Booked;column=returned_yn;values=['1']\",\n",
              " \"db_id=sakila_1;table=film;column=language_id;values=['1']\",\n",
              " \"db_id=apartment_rentals;table=View_Unit_Status;column=available_yn;values=['0', '1']\",\n",
              " \"db_id=assets_maintenance;table=Parts;column=chargeable_yn;values=['0', '1']\",\n",
              " \"db_id=baseball_1;table=fielding_postseason;column=tp;values=['0', '1']\",\n",
              " \"db_id=baseball_1;table=postseason;column=ties;values=['0', '1']\",\n",
              " \"db_id=college_1;table=STUDENT;column=STU_TRANSFER;values=['0', '1']\",\n",
              " \"db_id=dog_kennels;table=Dogs;column=abandoned_yn;values=['0', '1']\",\n",
              " \"db_id=hospital_1;table=Affiliated_With;column=PrimaryAffiliation;values=['0', '1']\",\n",
              " \"db_id=hospital_1;table=Nurse;column=Registered;values=['0', '1']\",\n",
              " \"db_id=hospital_1;table=Room;column=Unavailable;values=['0', '1']\",\n",
              " \"db_id=product_catalog;table=Catalog_Contents_Additional_Attributes;column=attribute_value;values=['0', '1']\",\n",
              " \"db_id=products_for_hire;table=Bookings;column=returned_damaged_yn;values=['0', '1']\",\n",
              " \"db_id=products_for_hire;table=Payments;column=amount_paid_in_full_yn;values=['0', '1']\",\n",
              " \"db_id=products_for_hire;table=Products_Booked;column=returned_late_yn;values=['0', '1']\",\n",
              " \"db_id=products_for_hire;table=View_Product_Availability;column=available_yn;values=['0', '1']\",\n",
              " \"db_id=sakila_1;table=customer;column=active;values=['0', '1']\"]"
            ]
          },
          "metadata": {
            "tags": []
          },
          "execution_count": 155
        }
      ]
    },
    {
      "cell_type": "markdown",
      "metadata": {
        "id": "w-PNWrAmNBTJ"
      },
      "source": [
        "Antonyms"
      ]
    },
    {
      "cell_type": "code",
      "metadata": {
        "colab": {
          "base_uri": "https://localhost:8080/"
        },
        "id": "LZt_kMCq5Hsp",
        "outputId": "20238404-b118-4bab-b74c-2976e00a5dca"
      },
      "source": [
        "binary_type = 'binary-antonyms'\n",
        "print(len(printed_binary_classification[binary_type]))\n",
        "printed_binary_classification[binary_type]"
      ],
      "execution_count": null,
      "outputs": [
        {
          "output_type": "stream",
          "text": [
            "62\n"
          ],
          "name": "stdout"
        },
        {
          "output_type": "execute_result",
          "data": {
            "text/plain": [
              "[\"db_id=customers_campaigns_ecommerce;table=Order_Items;column=item_status_code;values=['good']\",\n",
              " \"db_id=behavior_monitoring;table=Ref_Address_Types;column=address_type_code;values=['BILL', 'HOME']\",\n",
              " \"db_id=behavior_monitoring;table=Ref_Address_Types;column=address_type_description;values=['Billing', 'Home or Residence']\",\n",
              " \"db_id=bike_1;table=trip;column=subscription_type;values=['Customer', 'Subscriber']\",\n",
              " \"db_id=college_2;table=section;column=semester;values=['Spring', 'Fall']\",\n",
              " \"db_id=college_2;table=teaches;column=semester;values=['Spring', 'Fall']\",\n",
              " \"db_id=college_2;table=takes;column=semester;values=['Spring', 'Fall']\",\n",
              " \"db_id=college_3;table=Member_of;column=Appt_Type;values=['Secondary', 'Primary']\",\n",
              " \"db_id=customer_deliveries;table=Actual_Orders;column=order_status_code;values=['Cancel', 'Success']\",\n",
              " \"db_id=customers_and_addresses;table=Customer_Addresses;column=address_type;values=['Billing', 'Residential']\",\n",
              " \"db_id=customers_and_addresses;table=Customer_Orders;column=order_status;values=['Delivered', 'Cancelled']\",\n",
              " \"db_id=customers_and_invoices;table=Financial_Transactions;column=transaction_type;values=['Payment', 'Refund']\",\n",
              " \"db_id=customers_and_products_contacts;table=Customer_Orders;column=order_status_code;values=['Completed', 'Part']\",\n",
              " \"db_id=customers_campaigns_ecommerce;table=Customer_Addresses;column=address_type_code;values=['Billing', 'Shipping']\",\n",
              " \"db_id=customers_campaigns_ecommerce;table=Mailshot_Customers;column=outcome_code;values=['No Response', 'Order']\",\n",
              " \"db_id=customers_card_transactions;table=Financial_Transactions;column=transaction_type;values=['Payment', 'Refund']\",\n",
              " \"db_id=driving_school;table=Lessons;column=lesson_status_code;values=['Completed', 'Cancelled']\",\n",
              " \"db_id=e_government;table=Forms;column=form_type_code;values=['Basic', 'Complex']\",\n",
              " \"db_id=e_learning;table=Student_Tests_Taken;column=test_result;values=['Pass', 'Fail']\",\n",
              " \"db_id=election_representative;table=representative;column=Party;values=['Democratic', 'Republican']\",\n",
              " \"db_id=entertainment_awards;table=nomination;column=Result;values=['Nominated', 'Won']\",\n",
              " \"db_id=insurance_and_eClaims;table=Claims_Processing_Stages;column=Claim_Status_Name;values=['Open', 'Close']\",\n",
              " \"db_id=loan_1;table=customer;column=acc_type;values=['checking', 'saving']\",\n",
              " \"db_id=local_govt_and_lot;table=Services;column=service_details;values=['Unsatisfied', 'Satisfied']\",\n",
              " \"db_id=local_govt_and_lot;table=Residents_Services;column=other_details;values=['Unsatisfied', 'Satisfied']\",\n",
              " \"db_id=local_govt_and_lot;table=Things;column=service_details;values=['Unsatisfied', 'Satisfied']\",\n",
              " \"db_id=local_govt_in_alabama;table=Participants;column=Participant_Type_Code;values=['Participant', 'Organizer']\",\n",
              " \"db_id=local_govt_in_alabama;table=Events;column=Event_Details;values=['Success', 'Fail']\",\n",
              " \"db_id=medicine_enzyme_interaction;table=enzyme;column=Location;values=['Cytosol', 'Mitochondrion']\",\n",
              " \"db_id=medicine_enzyme_interaction;table=medicine_enzyme_interaction;column=interaction_type;values=['activitor', 'inhibitor']\",\n",
              " \"db_id=musical;table=musical;column=Result;values=['Nominated', 'Won']\",\n",
              " \"db_id=phone_1;table=phone;column=Accreditation_type;values=['Full', 'Provisional']\",\n",
              " \"db_id=products_for_hire;table=Customers;column=good_or_bad_customer;values=['good', 'bad']\",\n",
              " \"db_id=products_gen_characteristics;table=Ref_Characteristic_Types;column=characteristic_type_code;values=['Purity', 'Grade']\",\n",
              " \"db_id=products_gen_characteristics;table=Ref_Characteristic_Types;column=characteristic_type_description;values=['Purity', 'Grade']\",\n",
              " \"db_id=products_gen_characteristics;table=Characteristics;column=characteristic_type_code;values=['Purity', 'Grade']\",\n",
              " \"db_id=real_estate_properties;table=Ref_Feature_Types;column=feature_type_code;values=['Amenity', 'Security']\",\n",
              " \"db_id=real_estate_properties;table=Other_Available_Features;column=feature_type_code;values=['Amenity', 'Security']\",\n",
              " \"db_id=workshop_paper;table=Acceptance;column=Result;values=['Rejected', 'Accepted']\",\n",
              " \"db_id=student_assessment;table=Candidate_Assessments;column=asessment_outcome_code;values=['Pass', 'Fail']\",\n",
              " \"db_id=tracking_share_transactions;table=Ref_Transaction_Types;column=transaction_type_code;values=['PUR', 'SALE']\",\n",
              " \"db_id=tracking_share_transactions;table=Ref_Transaction_Types;column=transaction_type_description;values=['Purchase', 'Sale']\",\n",
              " \"db_id=tracking_share_transactions;table=Transactions;column=transaction_type_code;values=['PUR', 'SALE']\",\n",
              " \"db_id=voter_2;table=Voting_record;column=Election_Cycle;values=['Spring', 'Fall']\",\n",
              " \"db_id=tracking_grants_for_research;table=Document_Types;column=document_type_code;values=['REG', 'APP']\",\n",
              " \"db_id=tracking_grants_for_research;table=Document_Types;column=document_description;values=['Regular', 'Initial Application']\",\n",
              " \"db_id=tracking_grants_for_research;table=Documents;column=document_type_code;values=['REG', 'APP']\",\n",
              " \"db_id=tracking_grants_for_research;table=Organisation_Types;column=organisation_type;values=['SPON', 'RES']\",\n",
              " \"db_id=tracking_grants_for_research;table=Organisation_Types;column=organisation_type_description;values=['Research', 'Sponsor']\",\n",
              " \"db_id=tracking_grants_for_research;table=Organisations;column=organisation_type;values=['SPON', 'RES']\",\n",
              " \"db_id=tracking_grants_for_research;table=Project_Outcomes;column=outcome_code;values=['Paper', 'Patent']\",\n",
              " \"db_id=tracking_grants_for_research;table=Project_Staff;column=role_code;values=['researcher', 'leader']\",\n",
              " \"db_id=tracking_grants_for_research;table=Research_Outcomes;column=outcome_code;values=['Paper', 'Patent']\",\n",
              " \"db_id=tracking_grants_for_research;table=Staff_Roles;column=role_code;values=['researcher', 'leader']\",\n",
              " \"db_id=solvency_ii;table=Parties_in_Events;column=Role_Code;values=['Participant', 'Organizer']\",\n",
              " \"db_id=tracking_software_problems;table=Problem_Log;column=problem_status_code;values=['Reported', 'Solved']\",\n",
              " \"db_id=tracking_software_problems;table=Problem_Status_Codes;column=problem_status_code;values=['Reported', 'Solved']\",\n",
              " \"db_id=tracking_software_problems;table=Problem_Status_Codes;column=problem_status_description;values=['Reported', 'Solved']\",\n",
              " \"db_id=university_basketball;table=university;column=Affiliation;values=['Private/Methodist', 'Public']\",\n",
              " \"db_id=wta_1;table=matches;column=loser_hand;values=['L', 'R']\",\n",
              " \"db_id=wta_1;table=matches;column=winner_hand;values=['L', 'R']\",\n",
              " \"db_id=sports_competition;table=competition;column=Competition_type;values=['Friendly', 'Tournament']\"]"
            ]
          },
          "metadata": {
            "tags": []
          },
          "execution_count": 166
        }
      ]
    },
    {
      "cell_type": "markdown",
      "metadata": {
        "id": "wWX9Bhn1NDeO"
      },
      "source": [
        "Just-two-values"
      ]
    },
    {
      "cell_type": "code",
      "metadata": {
        "colab": {
          "base_uri": "https://localhost:8080/"
        },
        "id": "5TjEwaGawvkr",
        "outputId": "6b17a030-d04d-4866-d2b6-08a0aeffecac"
      },
      "source": [
        "binary_type = 'binary-just-two-values'\n",
        "print(len(printed_binary_classification[binary_type]))\n",
        "printed_binary_classification[binary_type]"
      ],
      "execution_count": null,
      "outputs": [
        {
          "output_type": "stream",
          "text": [
            "189\n"
          ],
          "name": "stdout"
        },
        {
          "output_type": "execute_result",
          "data": {
            "text/plain": [
              "[\"db_id=apartment_rentals;table=Apartment_Bookings;column=booking_status_code;values=['Confirmed', 'Provisional']\",\n",
              " \"db_id=architecture;table=mill;column=type;values=['Bergmolen', 'Grondzeiler']\",\n",
              " \"db_id=assets_maintenance;table=Third_Party_Companies;column=company_type;values=['Maintenance Contractor', 'Supplier']\",\n",
              " \"db_id=assets_maintenance;table=Parts;column=chargeable_amount;values=['9', '4']\",\n",
              " \"db_id=assets_maintenance;table=Fault_Log;column=fault_description;values=['system error', 'failed parts']\",\n",
              " \"db_id=baseball_1;table=all_star;column=league_id;values=['AL', 'NL']\",\n",
              " \"db_id=baseball_1;table=manager_award;column=award_id;values=['TSN Manager of the Year', 'BBWAA Manager of the year']\",\n",
              " \"db_id=baseball_1;table=manager_award_vote;column=award_id;values=['Mgr of the year', 'Mgr of the Year']\",\n",
              " \"db_id=baseball_1;table=manager_award_vote;column=league_id;values=['AL', 'NL']\",\n",
              " \"db_id=baseball_1;table=fielding_postseason;column=league_id;values=['AL', 'NL']\",\n",
              " \"db_id=baseball_1;table=manager_half;column=year;values=['1892', '1981']\",\n",
              " \"db_id=baseball_1;table=manager_half;column=league_id;values=['AL', 'NL']\",\n",
              " \"db_id=baseball_1;table=manager_half;column=half;values=['2', '1']\",\n",
              " \"db_id=baseball_1;table=salary;column=league_id;values=['AL', 'NL']\",\n",
              " \"db_id=baseball_1;table=team_half;column=league_id;values=['AL', 'NL']\",\n",
              " \"db_id=baseball_1;table=team_half;column=half;values=['2', '1']\",\n",
              " \"db_id=baseball_1;table=team_half;column=div_id;values=['E', 'W']\",\n",
              " \"db_id=behavior_monitoring;table=Ref_Address_Types;column=address_type_code;values=['BILL', 'HOME']\",\n",
              " \"db_id=behavior_monitoring;table=Ref_Address_Types;column=address_type_description;values=['Billing', 'Home or Residence']\",\n",
              " \"db_id=bike_1;table=trip;column=subscription_type;values=['Customer', 'Subscriber']\",\n",
              " \"db_id=chinook_1;table=InvoiceLine;column=UnitPrice;values=['0.99', '1.99']\",\n",
              " \"db_id=chinook_1;table=Track;column=UnitPrice;values=['0.99', '1.99']\",\n",
              " \"db_id=cinema;table=film;column=Directed_by;values=['Jesus Salvador Treviño', 'Bill Schreiner']\",\n",
              " \"db_id=city_record;table=match;column=Venue;values=['Estadio Rigoberto López , Managua , Nicaragua', 'Estadio Cuscatlán , San Salvador , El Salvador']\",\n",
              " \"db_id=club_1;table=Club;column=ClubLocation;values=['HHH', 'AKW']\",\n",
              " \"db_id=coffee_shop;table=member;column=Membership_card;values=['Black', 'White']\",\n",
              " \"db_id=college_1;table=COURSE;column=DEPT_CODE;values=['CIS', 'ACCT']\",\n",
              " \"db_id=college_1;table=COURSE;column=CRS_CREDIT;values=['3.0', '4.0']\",\n",
              " \"db_id=college_1;table=DEPARTMENT;column=SCHOOL_CODE;values=['BUS', 'A&SCI']\",\n",
              " \"db_id=college_1;table=ENROLL;column=STU_NUM;values=['321452', '324257']\",\n",
              " \"db_id=college_2;table=course;column=credits;values=['3', '4']\",\n",
              " \"db_id=college_2;table=time_slot;column=start_min;values=['0', '30']\",\n",
              " \"db_id=college_3;table=Department;column=Division;values=['AS', 'EN']\",\n",
              " \"db_id=company_employee;table=people;column=Nationality;values=['United Kindom', 'United States']\",\n",
              " \"db_id=company_office;table=buildings;column=City;values=['Mexico City', 'Monterrey']\",\n",
              " \"db_id=concert_singer;table=concert;column=Year;values=['2014', '2015']\",\n",
              " \"db_id=cre_Docs_and_Epenses;table=Statements;column=Statement_ID;values=['192', '57']\",\n",
              " \"db_id=cre_Docs_and_Epenses;table=Accounts;column=Statement_ID;values=['192', '57']\",\n",
              " \"db_id=cre_Drama_Workshop_Groups;table=Drama_Workshop_Groups;column=Currency_Code;values=['USD', 'EU']\",\n",
              " \"db_id=cre_Drama_Workshop_Groups;table=Bookings;column=Status_Code;values=['stop', 'good']\",\n",
              " \"db_id=cre_Drama_Workshop_Groups;table=Order_Items;column=Order_Quantity;values=['2', '1']\",\n",
              " \"db_id=cre_Drama_Workshop_Groups;table=Invoices;column=Order_Quantity;values=['2', '1']\",\n",
              " \"db_id=cre_Drama_Workshop_Groups;table=Invoice_Items;column=Invoice_Item_ID;values=['2', '1']\",\n",
              " \"db_id=cre_Drama_Workshop_Groups;table=Invoice_Items;column=Invoice_ID;values=['128', '162']\",\n",
              " \"db_id=cre_Drama_Workshop_Groups;table=Invoice_Items;column=Order_ID;values=['1', '4']\",\n",
              " \"db_id=cre_Drama_Workshop_Groups;table=Invoice_Items;column=Order_Item_ID;values=['5', '6']\",\n",
              " \"db_id=cre_Drama_Workshop_Groups;table=Invoice_Items;column=Product_ID;values=['396', '191']\",\n",
              " \"db_id=cre_Drama_Workshop_Groups;table=Invoice_Items;column=Order_Quantity;values=['2', '6']\",\n",
              " \"db_id=cre_Theme_park;table=Street_Markets;column=Market_ID;values=['6852', '7067']\",\n",
              " \"db_id=cre_Theme_park;table=Royal_Family;column=Royal_Family_ID;values=['9561', '9919']\",\n",
              " \"db_id=csu_1;table=csu_fees;column=Year;values=['2003', '1996']\",\n",
              " \"db_id=culture_company;table=book_club;column=Year;values=['1990', '1989']\",\n",
              " \"db_id=culture_company;table=culture_company;column=Incorporated_in;values=['Hong Kong', 'China']\",\n",
              " \"db_id=customer_complaints;table=Customers;column=customer_type_code;values=['Defaults on payments', 'Good Credit Rating']\",\n",
              " \"db_id=customer_complaints;table=Complaints;column=complaint_type_code;values=['Product Failure', 'Product Unusable']\",\n",
              " \"db_id=customer_deliveries;table=Actual_Orders;column=order_status_code;values=['Cancel', 'Success']\",\n",
              " \"db_id=customers_and_addresses;table=Customer_Addresses;column=address_type;values=['Billing', 'Residential']\",\n",
              " \"db_id=customers_and_addresses;table=Customer_Orders;column=order_status;values=['Delivered', 'Cancelled']\",\n",
              " \"db_id=customers_and_invoices;table=Financial_Transactions;column=transaction_type;values=['Payment', 'Refund']\",\n",
              " \"db_id=customers_and_products_contacts;table=Products;column=product_type_code;values=['Clothes', 'Hardware']\",\n",
              " \"db_id=customers_and_products_contacts;table=Customers;column=payment_method_code;values=['Direct Debit', 'Credit Card']\",\n",
              " \"db_id=customers_and_products_contacts;table=Customer_Orders;column=order_status_code;values=['Completed', 'Part']\",\n",
              " \"db_id=customers_campaigns_ecommerce;table=Customers;column=payment_method;values=['Direct Debit', 'Credit Card']\",\n",
              " \"db_id=customers_campaigns_ecommerce;table=Mailshot_Campaigns;column=product_category;values=['food', 'clothes']\",\n",
              " \"db_id=customers_campaigns_ecommerce;table=Customer_Addresses;column=address_type_code;values=['Billing', 'Shipping']\",\n",
              " \"db_id=customers_campaigns_ecommerce;table=Mailshot_Customers;column=outcome_code;values=['No Response', 'Order']\",\n",
              " \"db_id=customers_card_transactions;table=Customers_Cards;column=card_type_code;values=['Credit', 'Debit']\",\n",
              " \"db_id=customers_card_transactions;table=Financial_Transactions;column=transaction_type;values=['Payment', 'Refund']\",\n",
              " \"db_id=decoration_competition;table=member;column=Country;values=['Canada', 'United States']\",\n",
              " \"db_id=decoration_competition;table=round;column=Round_ID;values=['2', '1']\",\n",
              " \"db_id=department_store;table=Customers;column=payment_method_code;values=['Direct Debit', 'Credit Card']\",\n",
              " \"db_id=department_store;table=Products;column=product_type_code;values=['Clothes', 'Hardware']\",\n",
              " \"db_id=device;table=device;column=Software_Platform;values=['Android', 'iOS']\",\n",
              " \"db_id=device;table=stock;column=Device_ID;values=['4', '6']\",\n",
              " \"db_id=document_management;table=Roles;column=role_code;values=['PROJ-MGR', 'DBA']\",\n",
              " \"db_id=document_management;table=Roles;column=role_description;values=['Project Manager', 'Database Administrator']\",\n",
              " \"db_id=document_management;table=Users;column=role_code;values=['PROJ-MGR', 'DBA']\",\n",
              " \"db_id=document_management;table=Users;column=user_login;values=['0', '1']\",\n",
              " \"db_id=document_management;table=Document_Sections;column=section_title;values=['after', 'before']\",\n",
              " \"db_id=dog_kennels;table=Professionals;column=role_code;values=['Veterenarian', 'Employee']\",\n",
              " \"db_id=driving_school;table=Customers;column=customer_status_code;values=['Good Customer', 'Bad Customer']\",\n",
              " \"db_id=driving_school;table=Customer_Payments;column=payment_method_code;values=['Direct Debit', 'Credit Card']\",\n",
              " \"db_id=election_representative;table=representative;column=Party;values=['Democratic', 'Republican']\",\n",
              " \"db_id=epinions_1;table=review;column=u_id;values=['2', '1']\",\n",
              " \"db_id=farm;table=city;column=Status;values=['Village', 'Town']\",\n",
              " \"db_id=flight_1;table=flight;column=origin;values=['Chicago', 'Los Angeles']\",\n",
              " \"db_id=flight_2;table=airports;column=CountryAbbrev;values=['US', 'US ']\",\n",
              " \"db_id=flight_company;table=flight;column=Pilot;values=['Peterson', 'Thompson']\",\n",
              " \"db_id=flight_company;table=flight;column=Velocity;values=['240.0', '135.0']\",\n",
              " \"db_id=flight_company;table=flight;column=Altitude;values=['0.0', '3650.0']\",\n",
              " \"db_id=formula_1;table=constructorResults;column=status;values=['D', 'NULL']\",\n",
              " \"db_id=hospital_1;table=Trained_In;column=CertificationDate;values=['2007-01-01', '2008-01-01']\",\n",
              " \"db_id=hospital_1;table=Trained_In;column=CertificationExpires;values=['2008-12-31', '2007-12-31']\",\n",
              " \"db_id=hospital_1;table=Nurse;column=Position;values=['Nurse', 'Head Nurse']\",\n",
              " \"db_id=hospital_1;table=Prescribes;column=Physician;values=['9', '1']\",\n",
              " \"db_id=hospital_1;table=Prescribes;column=Patient;values=['100000001', '100000004']\",\n",
              " \"db_id=hospital_1;table=Prescribes;column=Medication;values=['2', '1']\",\n",
              " \"db_id=hospital_1;table=Prescribes;column=Dose;values=['10', '5']\",\n",
              " \"db_id=hospital_1;table=On_Call;column=OnCallStart;values=['2008-11-04 19:00', '2008-11-04 11:00']\",\n",
              " \"db_id=hospital_1;table=On_Call;column=OnCallEnd;values=['2008-11-04 19:00', '2008-11-05 03:00']\",\n",
              " \"db_id=hospital_1;table=Undergoes;column=Patient;values=['100000001', '100000004']\",\n",
              " \"db_id=hospital_1;table=Undergoes;column=Stay;values=['3217', '3215']\",\n",
              " \"db_id=inn_1;table=Rooms;column=beds;values=['2', '1']\",\n",
              " \"db_id=inn_1;table=Rooms;column=maxOccupancy;values=['2', '4']\",\n",
              " \"db_id=insurance_and_eClaims;table=Claims_Processing_Stages;column=Claim_Stage_ID;values=['1', '3']\",\n",
              " \"db_id=insurance_and_eClaims;table=Claims_Processing_Stages;column=Claim_Status_Description;values=['Close a claim', 'Open a new claim']\",\n",
              " \"db_id=insurance_and_eClaims;table=Claims_Processing;column=Claim_Stage_ID;values=['1', '3']\",\n",
              " \"db_id=loan_1;table=loan;column=cust_ID;values=['1', '3']\",\n",
              " \"db_id=local_govt_and_lot;table=Organizations;column=parent_organization_id;values=['8', '7']\",\n",
              " \"db_id=local_govt_and_lot;table=Things;column=service_type_code;values=['Check', 'Cleanning']\",\n",
              " \"db_id=local_govt_and_lot;table=Customer_Events;column=date_moved_in;values=['2015-03-27 12:00:00', '2016-09-27 12:00:00']\",\n",
              " \"db_id=local_govt_and_lot;table=Customer_Event_Notes;column=service_type_code;values=['Check', 'Cleanning']\",\n",
              " \"db_id=local_govt_mdm;table=Parking_Fines;column=council_tax_id;values=['9', '10']\",\n",
              " \"db_id=local_govt_mdm;table=Parking_Fines;column=cmi_cross_ref_id;values=['81', '4']\",\n",
              " \"db_id=mountain_photos;table=photos;column=color;values=['RBG', 'Black/White']\",\n",
              " \"db_id=music_1;table=files;column=formats;values=['mp4', 'mp3']\",\n",
              " \"db_id=music_1;table=song;column=languages;values=['bangla', 'english']\",\n",
              " \"db_id=music_4;table=music_festival;column=Result;values=['Awarded', 'Nominated']\",\n",
              " \"db_id=musical;table=musical;column=Award;values=['Drama Desk Award', 'Tony Award']\",\n",
              " \"db_id=musical;table=musical;column=Nominee;values=['Cleavant Derricks', 'Bob Fosse']\",\n",
              " \"db_id=pets_1;table=Has_Pet;column=StuID;values=['1002', '1001']\",\n",
              " \"db_id=pets_1;table=Pets;column=PetType;values=['cat', 'dog']\",\n",
              " \"db_id=phone_1;table=chip_model;column=RAM_MiB;values=['64.0', '32.0']\",\n",
              " \"db_id=phone_1;table=chip_model;column=Slots;values=['1SD', '1CFII,1SD']\",\n",
              " \"db_id=phone_1;table=chip_model;column=WiFi;values=['802.11b', 'No']\",\n",
              " \"db_id=phone_1;table=screen_mode;column=Type;values=['Text', 'Graphics']\",\n",
              " \"db_id=phone_1;table=phone;column=Accreditation_level;values=['joyn Hot Fixes', 'joyn']\",\n",
              " \"db_id=phone_market;table=phone;column=Carrier;values=['TMobile', 'Sprint']\",\n",
              " \"db_id=pilot_record;table=aircraft;column=Manufacturer;values=['NFI', 'Gillig']\",\n",
              " \"db_id=poker_player;table=people;column=Nationality;values=['Russia', 'Bulgaria']\",\n",
              " \"db_id=products_for_hire;table=Bookings;column=booking_status_code;values=['Confirmed', 'Provisional']\",\n",
              " \"db_id=products_for_hire;table=Products_for_Hire;column=product_type_code;values=['Din_Plates', 'Cutlery']\",\n",
              " \"db_id=products_for_hire;table=View_Product_Availability;column=booking_id;values=['11', '5']\",\n",
              " \"db_id=products_gen_characteristics;table=Ref_Product_Categories;column=unit_of_measure;values=['Weight - pound,kilo.', 'Handful             ']\",\n",
              " \"db_id=race_track;table=race;column=Class;values=['GT', 'DP/GT']\",\n",
              " \"db_id=real_estate_properties;table=Ref_Feature_Types;column=feature_type_name;values=['Securiyt, eg Burglar Alarm.', 'Amenity, eg Pool.']\",\n",
              " \"db_id=restaurant_1;table=Restaurant;column=ResID;values=['2', '1']\",\n",
              " \"db_id=restaurant_1;table=Restaurant;column=ResName;values=['Subway', 'Honeygrow']\",\n",
              " \"db_id=restaurant_1;table=Restaurant;column=Address;values=['3233 St Paul St, Baltimore, MD 21218', '3212 St Paul St, Baltimore, MD 21218']\",\n",
              " \"db_id=restaurant_1;table=Restaurant;column=Rating;values=['4', '3']\",\n",
              " \"db_id=restaurant_1;table=Type_Of_Restaurant;column=ResID;values=['2', '1']\",\n",
              " \"db_id=restaurant_1;table=Type_Of_Restaurant;column=ResTypeID;values=['2', '1']\",\n",
              " \"db_id=restaurant_1;table=Restaurant_Type;column=ResTypeID;values=['2', '1']\",\n",
              " \"db_id=restaurant_1;table=Restaurant_Type;column=ResTypeName;values=['Sandwich', 'Stir-fry']\",\n",
              " \"db_id=restaurant_1;table=Restaurant_Type;column=ResTypeDescription;values=['Simplest there is.', 'Classic Chinese cooking.']\",\n",
              " \"db_id=restaurant_1;table=Visits_Restaurant;column=StuID;values=['1032', '1001']\",\n",
              " \"db_id=restaurant_1;table=Visits_Restaurant;column=ResID;values=['2', '1']\",\n",
              " \"db_id=restaurant_1;table=Visits_Restaurant;column=Time;values=['2017-10-08 13:00:30', '2017-10-09 18:15:00']\",\n",
              " \"db_id=restaurant_1;table=Visits_Restaurant;column=Spent;values=['13.2', '6.53']\",\n",
              " \"db_id=riding_club;table=coach;column=Club_ID;values=['1', '3']\",\n",
              " \"db_id=sakila_1;table=customer;column=store_id;values=['2', '1']\",\n",
              " \"db_id=sakila_1;table=customer;column=create_date;values=['2006-02-14 22:04:37', '2006-02-14 22:04:36']\",\n",
              " \"db_id=sakila_1;table=inventory;column=store_id;values=['2', '1']\",\n",
              " \"db_id=sakila_1;table=payment;column=staff_id;values=['2', '1']\",\n",
              " \"db_id=sakila_1;table=rental;column=staff_id;values=['2', '1']\",\n",
              " \"db_id=sakila_1;table=rental;column=last_update;values=['2006-02-15 21:30:53', '2006-02-23 04:12:08']\",\n",
              " \"db_id=school_player;table=school;column=Boys_or_Girls;values=['Boys', 'Boys only to Yr 9 Co-ed Year 10 to 12']\",\n",
              " \"db_id=school_player;table=school;column=Day_or_Boarding;values=['Day & Boarding', 'Day']\",\n",
              " \"db_id=school_player;table=school;column=Year_Entered_Competition;values=['1929.0', '1944.0']\",\n",
              " \"db_id=store_1;table=tracks;column=unit_price;values=['0.99', '1.99']\",\n",
              " \"db_id=store_1;table=invoice_lines;column=unit_price;values=['0.99', '1.99']\",\n",
              " \"db_id=soccer_1;table=Team_Attributes;column=buildUpPlayPositioningClass;values=['Free Form', 'Organised']\",\n",
              " \"db_id=soccer_1;table=Team_Attributes;column=chanceCreationPositioningClass;values=['Free Form', 'Organised']\",\n",
              " \"db_id=soccer_1;table=Team_Attributes;column=defenceDefenderLineClass;values=['Offside Trap', 'Cover']\",\n",
              " \"db_id=store_product;table=store;column=Type;values=['Village Store', 'City Mall']\",\n",
              " \"db_id=wrestler;table=wrestler;column=Reign;values=['2', '1']\",\n",
              " \"db_id=wrestler;table=wrestler;column=Event;values=['Wrestling World 1997', 'Live event']\",\n",
              " \"db_id=wrestler;table=Elimination;column=Team;values=['Team Batista', 'Team Orton']\",\n",
              " \"db_id=ship_mission;table=ship;column=Type;values=['Battle ship', 'Cargo ship']\",\n",
              " \"db_id=ship_mission;table=ship;column=Nationality;values=['United Kingdom', 'United States']\",\n",
              " \"db_id=shop_membership;table=branch;column=City;values=['London', 'Oxford']\",\n",
              " \"db_id=shop_membership;table=membership_register_branch;column=Register_Year;values=['2017', '2016']\",\n",
              " \"db_id=shop_membership;table=purchase;column=Year;values=['2017', '2018']\",\n",
              " \"db_id=voter_2;table=Voting_record;column=Vice_President_Vote;values=['1007', '1017']\",\n",
              " \"db_id=voter_2;table=Voting_record;column=Treasurer_Vote;values=['1025', '1035']\",\n",
              " \"db_id=voter_2;table=Voting_record;column=Class_Senator_Vote;values=['1028', '1018']\",\n",
              " \"db_id=tracking_grants_for_research;table=Research_Outcomes;column=outcome_description;values=['Published Research Paper', 'Research Patent']\",\n",
              " \"db_id=tracking_grants_for_research;table=Staff_Roles;column=role_description;values=['Project Researcher', 'Project Leader']\",\n",
              " \"db_id=singer;table=song;column=Highest_Position;values=['3.0', '1.0']\",\n",
              " \"db_id=ship_1;table=Ship;column=Built_Year;values=['1997.0', '1998.0']\",\n",
              " \"db_id=ship_1;table=Ship;column=Class;values=['GL', 'KR']\",\n",
              " \"db_id=ship_1;table=Ship;column=Flag;values=['Malta', 'Panama']\",\n",
              " \"db_id=school_bus;table=driver;column=Party;values=['Dem', 'Rep']\",\n",
              " \"db_id=tvshow;table=TV_Channel;column=Language;values=['Italian', 'English']\",\n",
              " \"db_id=university_basketball;table=basketball_match;column=ACC_Home;values=['6–2', '7–1']\",\n",
              " \"db_id=wta_1;table=matches;column=loser_hand;values=['L', 'R']\",\n",
              " \"db_id=wta_1;table=matches;column=winner_hand;values=['L', 'R']\",\n",
              " \"db_id=sports_competition;table=competition;column=Year;values=['2006.0', '2007.0']\",\n",
              " \"db_id=wine_1;table=grapes;column=Color;values=['White', 'Red']\"]"
            ]
          },
          "metadata": {
            "tags": []
          },
          "execution_count": 160
        }
      ]
    },
    {
      "cell_type": "code",
      "metadata": {
        "colab": {
          "base_uri": "https://localhost:8080/"
        },
        "id": "C90f3r5LAHz-",
        "outputId": "125e273b-7b50-4c46-ac6b-7d359ca8300a"
      },
      "source": [
        "binary_type = 'binary-one-many'\n",
        "print(len(printed_binary_classification[binary_type]))\n",
        "printed_binary_classification[binary_type]"
      ],
      "execution_count": null,
      "outputs": [
        {
          "output_type": "stream",
          "text": [
            "118\n"
          ],
          "name": "stdout"
        }
      ]
    },
    {
      "cell_type": "code",
      "metadata": {
        "id": "_Bf5ueWpw0xg"
      },
      "source": [
        "binary_type = 'binary-other'\n",
        "print(len(printed_binary_classification[binary_type]))"
      ],
      "execution_count": null,
      "outputs": []
    },
    {
      "cell_type": "code",
      "metadata": {
        "id": "vd6SM6QzCa3J"
      },
      "source": [
        "del binary_classification['not-binary']"
      ],
      "execution_count": null,
      "outputs": []
    },
    {
      "cell_type": "code",
      "metadata": {
        "id": "QcGn4FYDCrYW"
      },
      "source": [
        "del printed_binary_classification['not-binary']"
      ],
      "execution_count": null,
      "outputs": []
    },
    {
      "cell_type": "code",
      "metadata": {
        "colab": {
          "base_uri": "https://localhost:8080/"
        },
        "id": "9qphsOuFChHo",
        "outputId": "edd5925f-5059-4119-d0dd-5f0c96af2277"
      },
      "source": [
        "binary_classification.keys()"
      ],
      "execution_count": null,
      "outputs": [
        {
          "output_type": "execute_result",
          "data": {
            "text/plain": [
              "dict_keys(['binary-gender', 'binary-one-many', 'binary-yes-no', 'binary-antonyms', 'binary-0-1', 'binary-just-two-values', 'binary-true-false'])"
            ]
          },
          "metadata": {
            "tags": []
          },
          "execution_count": 168
        }
      ]
    },
    {
      "cell_type": "markdown",
      "metadata": {
        "id": "gU6paCRMUAtL"
      },
      "source": [
        "### ReJSONing"
      ]
    },
    {
      "cell_type": "code",
      "metadata": {
        "colab": {
          "base_uri": "https://localhost:8080/"
        },
        "id": "gZy3HDjXUFC2",
        "outputId": "ec64bd8c-9719-4695-fc74-b285954137c7"
      },
      "source": [
        "binary_classification['binary-0-1'][0]"
      ],
      "execution_count": null,
      "outputs": [
        {
          "output_type": "execute_result",
          "data": {
            "text/plain": [
              "{'column': 'BlockFloor',\n",
              " 'db_id': 'hospital_1',\n",
              " 'table': 'On_Call',\n",
              " 'values': ['1']}"
            ]
          },
          "metadata": {
            "tags": []
          },
          "execution_count": 8
        }
      ]
    },
    {
      "cell_type": "code",
      "metadata": {
        "id": "gH3qja5NUI2-"
      },
      "source": [
        "binary_values = {}\n",
        "for _binary_type, _schemes in binary_classification.items():\n",
        "  for _scheme in _schemes: \n",
        "    db_id = _scheme['db_id'] \n",
        "    table = _scheme['table']  \n",
        "    column = _scheme['column']  \n",
        "    binary_values.setdefault(db_id, {})\n",
        "    binary_values[db_id].setdefault(table, {})\n",
        "    binary_values[db_id][table][column] = _binary_type"
      ],
      "execution_count": null,
      "outputs": []
    },
    {
      "cell_type": "markdown",
      "metadata": {
        "id": "yt98nsEVOQ9K"
      },
      "source": [
        "### Saving"
      ]
    },
    {
      "cell_type": "markdown",
      "metadata": {
        "id": "vZo7VnMYC_3m"
      },
      "source": [
        "Не уникальные"
      ]
    },
    {
      "cell_type": "code",
      "metadata": {
        "id": "hOdSsJhdOQvx"
      },
      "source": [
        "with open('datasets/spider/by_amount_of_values/all.json', 'w') as json_file:\n",
        "    json.dump(amounts, json_file)"
      ],
      "execution_count": null,
      "outputs": []
    },
    {
      "cell_type": "code",
      "metadata": {
        "id": "B3Xf1xhaq3SN"
      },
      "source": [
        "with open('datasets/spider/by_amount_of_values/just_amounts.json', 'w') as json_file:\n",
        "    json.dump(just_amounts, json_file)"
      ],
      "execution_count": null,
      "outputs": []
    },
    {
      "cell_type": "code",
      "metadata": {
        "id": "UfgUHLvHPiAE"
      },
      "source": [
        "for _size, _requests in amounts.items():\n",
        "  with open(f'datasets/spider/by_amount_of_values/{str(_size).zfill(6)}.json', 'w') as json_file:\n",
        "    json.dump(_requests, json_file)"
      ],
      "execution_count": null,
      "outputs": []
    },
    {
      "cell_type": "markdown",
      "metadata": {
        "id": "KKqKu1eMC_XG"
      },
      "source": [
        "Уникальные"
      ]
    },
    {
      "cell_type": "code",
      "metadata": {
        "id": "jr6UHpBXC1UO"
      },
      "source": [
        "with open('datasets/spider/by_amount_of_unique_values/all.json', 'w') as json_file:\n",
        "    json.dump(unique_amounts, json_file)"
      ],
      "execution_count": null,
      "outputs": []
    },
    {
      "cell_type": "code",
      "metadata": {
        "id": "uusRQN9qC1m2"
      },
      "source": [
        "with open('datasets/spider/by_amount_of_unique_values/just_amounts.json', 'w') as json_file:\n",
        "    json.dump(just_unique_amounts, json_file)"
      ],
      "execution_count": null,
      "outputs": []
    },
    {
      "cell_type": "code",
      "metadata": {
        "id": "_VDBewyXC8Qu"
      },
      "source": [
        "for _size, _requests in unique_amounts.items():\n",
        "  with open(f'datasets/spider/by_amount_of_unique_values/{str(_size).zfill(6)}.json', 'w') as json_file:\n",
        "    json.dump(_requests, json_file)"
      ],
      "execution_count": null,
      "outputs": []
    },
    {
      "cell_type": "markdown",
      "metadata": {
        "id": "e-ohB9dKCwoR"
      },
      "source": [
        "По типам"
      ]
    },
    {
      "cell_type": "code",
      "metadata": {
        "id": "sRyk3yzhCx8J"
      },
      "source": [
        "with open('datasets/araneae/spider_binary.json', 'w') as json_file:\n",
        "    json.dump(binary_classification, json_file)"
      ],
      "execution_count": null,
      "outputs": []
    },
    {
      "cell_type": "code",
      "metadata": {
        "id": "iJZ4wTD0DTl4"
      },
      "source": [
        "with open('datasets/araneae/spider_binary_printable.json', 'w') as json_file:\n",
        "    json.dump(printed_binary_classification, json_file)"
      ],
      "execution_count": null,
      "outputs": []
    },
    {
      "cell_type": "code",
      "metadata": {
        "id": "_MdeiMHeWgVG"
      },
      "source": [
        "with open('datasets/araneae/binary_values.json', 'w') as json_file:\n",
        "    json.dump(binary_values, json_file)"
      ],
      "execution_count": null,
      "outputs": []
    },
    {
      "cell_type": "markdown",
      "metadata": {
        "id": "S2YzhPVGTVhO"
      },
      "source": [
        "### Reading"
      ]
    },
    {
      "cell_type": "code",
      "metadata": {
        "id": "WyxM4wxSTTiS"
      },
      "source": [
        "with open('datasets/araneae/spider_binary.json') as table_file:\n",
        "  binary_classification = json.load(table_file)"
      ],
      "execution_count": null,
      "outputs": []
    },
    {
      "cell_type": "markdown",
      "metadata": {
        "id": "DJEkPdajXoIj"
      },
      "source": [
        "### Zone of tests"
      ]
    },
    {
      "cell_type": "code",
      "metadata": {
        "colab": {
          "base_uri": "https://localhost:8080/"
        },
        "id": "lEE08N_PXXVr",
        "outputId": "86ba6010-fc12-4642-d7fb-38dee2244ec1"
      },
      "source": [
        "sql = \"SELECT count( * ) FROM singer WHERE singer.Is_male = 1\"\n",
        "db_id = \"concert_singer\"\n",
        "execute_request(db_id, sql)"
      ],
      "execution_count": null,
      "outputs": [
        {
          "output_type": "execute_result",
          "data": {
            "text/plain": [
              "[(0,)]"
            ]
          },
          "metadata": {
            "tags": []
          },
          "execution_count": 21
        }
      ]
    },
    {
      "cell_type": "code",
      "metadata": {
        "colab": {
          "base_uri": "https://localhost:8080/"
        },
        "id": "vyZfr0lwbL4M",
        "outputId": "0dabc1fd-b306-49dd-8c14-7c55f69c910d"
      },
      "source": [
        "res = get_values(\"perpetrator\", \"people\", \"Home Town\")\n",
        "res"
      ],
      "execution_count": null,
      "outputs": [
        {
          "output_type": "execute_result",
          "data": {
            "text/plain": [
              "['Los Angeles, CA',\n",
              " 'Baton Rouge, LA',\n",
              " 'Placentia, CA',\n",
              " 'Westport, CT',\n",
              " 'Beaver Dam, KY',\n",
              " 'San Antonio, TX',\n",
              " 'Denton, TX',\n",
              " 'Los Angeles, CA',\n",
              " 'Indianapolis, IN',\n",
              " 'Altoona, PA',\n",
              " 'Austin, TX']"
            ]
          },
          "metadata": {
            "tags": []
          },
          "execution_count": 23
        }
      ]
    },
    {
      "cell_type": "code",
      "metadata": {
        "colab": {
          "base_uri": "https://localhost:8080/"
        },
        "id": "cFtSIg4Rf1lE",
        "outputId": "fedf53c4-7627-438b-8b27-cc1e1759eeb7"
      },
      "source": [
        "tables = get_db_tables(\"perpetrator\")\n",
        "tables"
      ],
      "execution_count": null,
      "outputs": [
        {
          "output_type": "execute_result",
          "data": {
            "text/plain": [
              "['perpetrator', 'people']"
            ]
          },
          "metadata": {
            "tags": []
          },
          "execution_count": 31
        }
      ]
    },
    {
      "cell_type": "code",
      "metadata": {
        "colab": {
          "base_uri": "https://localhost:8080/"
        },
        "id": "TTlGPgrTj0Yz",
        "outputId": "da1ed8b8-5373-428b-eadf-046117d57bf5"
      },
      "source": [
        "columns = get_db_columns(\"perpetrator\", \"people\")\n",
        "columns"
      ],
      "execution_count": null,
      "outputs": [
        {
          "output_type": "execute_result",
          "data": {
            "text/plain": [
              "['People_ID', 'Name', 'Height', 'Weight', 'Home Town']"
            ]
          },
          "metadata": {
            "tags": []
          },
          "execution_count": 41
        }
      ]
    }
  ]
}