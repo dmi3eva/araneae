{
  "nbformat": 4,
  "nbformat_minor": 0,
  "metadata": {
    "colab": {
      "name": "00_NL_length.ipynb",
      "provenance": [],
      "collapsed_sections": [],
      "authorship_tag": "ABX9TyPD5e1qUjJs2Bfyr/HwM8Cg",
      "include_colab_link": true
    },
    "kernelspec": {
      "name": "python3",
      "display_name": "Python 3"
    },
    "language_info": {
      "name": "python"
    }
  },
  "cells": [
    {
      "cell_type": "markdown",
      "metadata": {
        "id": "view-in-github",
        "colab_type": "text"
      },
      "source": [
        "<a href=\"https://colab.research.google.com/github/dmi3eva/araneae/blob/main/p1_spider_analysis/01_NL_length.ipynb\" target=\"_parent\"><img src=\"https://colab.research.google.com/assets/colab-badge.svg\" alt=\"Open In Colab\"/></a>"
      ]
    },
    {
      "cell_type": "markdown",
      "metadata": {
        "id": "6Lwr7bc8ihwO"
      },
      "source": [
        "### Mounting"
      ]
    },
    {
      "cell_type": "code",
      "metadata": {
        "colab": {
          "base_uri": "https://localhost:8080/"
        },
        "id": "lPDmK35SiMLH",
        "outputId": "a2fbc0bc-3319-48e8-fb1d-b63c2f7e177a"
      },
      "source": [
        "from google.colab import drive\n",
        "drive.mount('/content/drive')"
      ],
      "execution_count": 24,
      "outputs": [
        {
          "output_type": "stream",
          "text": [
            "Drive already mounted at /content/drive; to attempt to forcibly remount, call drive.mount(\"/content/drive\", force_remount=True).\n"
          ],
          "name": "stdout"
        }
      ]
    },
    {
      "cell_type": "code",
      "metadata": {
        "colab": {
          "base_uri": "https://localhost:8080/"
        },
        "id": "3y3ip_JMiviH",
        "outputId": "40305d23-d169-4701-927b-353b9e9b9144"
      },
      "source": [
        "%cd /content\n",
        "%cd drive\n",
        "%cd My\\ Drive\n",
        "%cd PhD\n",
        "%cd Paper_01"
      ],
      "execution_count": 25,
      "outputs": [
        {
          "output_type": "stream",
          "text": [
            "/content\n",
            "/content/drive\n",
            "/content/drive/My Drive\n",
            "/content/drive/My Drive/PhD\n",
            "/content/drive/My Drive/PhD/Paper_01\n"
          ],
          "name": "stdout"
        }
      ]
    },
    {
      "cell_type": "code",
      "metadata": {
        "colab": {
          "base_uri": "https://localhost:8080/"
        },
        "id": "liqPUIS_i0iE",
        "outputId": "5fbaf73a-9f86-44d9-c87c-64e767bb8398"
      },
      "source": [
        "%cd datasets\n",
        "%cd araneae"
      ],
      "execution_count": 26,
      "outputs": [
        {
          "output_type": "stream",
          "text": [
            "/content/drive/My Drive/PhD/Paper_01/datasets\n",
            "/content/drive/My Drive/PhD/Paper_01/datasets/araneae\n"
          ],
          "name": "stdout"
        }
      ]
    },
    {
      "cell_type": "markdown",
      "metadata": {
        "id": "tf2U6wwzioCK"
      },
      "source": [
        "### Loading"
      ]
    },
    {
      "cell_type": "code",
      "metadata": {
        "id": "0vkV3CzEjWnp"
      },
      "source": [
        "import json"
      ],
      "execution_count": 27,
      "outputs": []
    },
    {
      "cell_type": "code",
      "metadata": {
        "id": "Pqw538xLinaq"
      },
      "source": [
        "with open('araneae_basic.json') as json_file:\n",
        "  araneae_basic = json.load(json_file)"
      ],
      "execution_count": 28,
      "outputs": []
    },
    {
      "cell_type": "code",
      "metadata": {
        "colab": {
          "base_uri": "https://localhost:8080/"
        },
        "id": "etj4a3adkgmq",
        "outputId": "4a90bf73-63e9-4800-9a93-409b77029fa8"
      },
      "source": [
        "len(araneae_basic)"
      ],
      "execution_count": 29,
      "outputs": [
        {
          "output_type": "execute_result",
          "data": {
            "text/plain": [
              "9693"
            ]
          },
          "metadata": {
            "tags": []
          },
          "execution_count": 29
        }
      ]
    },
    {
      "cell_type": "code",
      "metadata": {
        "id": "NLR2VXDGkpsB",
        "colab": {
          "base_uri": "https://localhost:8080/"
        },
        "outputId": "9c52dd73-f165-40b0-a80d-c12373945f68"
      },
      "source": [
        "araneae_basic[0]"
      ],
      "execution_count": 30,
      "outputs": [
        {
          "output_type": "execute_result",
          "data": {
            "text/plain": [
              "{'db_id': 'concert_singer',\n",
              " 'query': 'SELECT count(*) FROM singer',\n",
              " 'query_toks': ['SELECT', 'count', '(', '*', ')', 'FROM', 'singer'],\n",
              " 'query_toks_no_value': ['select', 'count', '(', '*', ')', 'from', 'singer'],\n",
              " 'question': 'How many singers do we have?',\n",
              " 'question_toks': ['How', 'many', 'singers', 'do', 'we', 'have', '?'],\n",
              " 'source': 'spider-dev',\n",
              " 'sql': {'except': None,\n",
              "  'from': {'conds': [], 'table_units': [['table_unit', 1]]},\n",
              "  'groupBy': [],\n",
              "  'having': [],\n",
              "  'intersect': None,\n",
              "  'limit': None,\n",
              "  'orderBy': [],\n",
              "  'select': [False, [[3, [0, [0, 0, False], None]]]],\n",
              "  'union': None,\n",
              "  'where': []}}"
            ]
          },
          "metadata": {
            "tags": []
          },
          "execution_count": 30
        }
      ]
    },
    {
      "cell_type": "markdown",
      "metadata": {
        "id": "-19FLj8LvFuR"
      },
      "source": [
        "### Analysis"
      ]
    },
    {
      "cell_type": "code",
      "metadata": {
        "id": "QxQ-DpKTvKfJ"
      },
      "source": [
        "import collections\n",
        "import matplotlib.pyplot as plt"
      ],
      "execution_count": 31,
      "outputs": []
    },
    {
      "cell_type": "code",
      "metadata": {
        "id": "q7sMy77ewYZp"
      },
      "source": [
        "%matplotlib inline "
      ],
      "execution_count": 33,
      "outputs": []
    },
    {
      "cell_type": "code",
      "metadata": {
        "id": "63K2F-fyvx3Z"
      },
      "source": [
        "all_length = [len(_sample['question_toks']) for _sample in araneae_basic]"
      ],
      "execution_count": 32,
      "outputs": []
    },
    {
      "cell_type": "code",
      "metadata": {
        "id": "jnIsRgz1vyIJ"
      },
      "source": [
        "length_frequency = collections.Counter(all_length)"
      ],
      "execution_count": 34,
      "outputs": []
    },
    {
      "cell_type": "code",
      "metadata": {
        "colab": {
          "base_uri": "https://localhost:8080/"
        },
        "id": "JEfasvrBwrdi",
        "outputId": "bc5f1af1-4345-4fc5-cc95-49aa07de66e1"
      },
      "source": [
        "length_frequency"
      ],
      "execution_count": 35,
      "outputs": [
        {
          "output_type": "execute_result",
          "data": {
            "text/plain": [
              "Counter({1: 1,\n",
              "         2: 5,\n",
              "         3: 27,\n",
              "         4: 62,\n",
              "         5: 130,\n",
              "         6: 386,\n",
              "         7: 425,\n",
              "         8: 561,\n",
              "         9: 682,\n",
              "         10: 687,\n",
              "         11: 725,\n",
              "         12: 853,\n",
              "         13: 798,\n",
              "         14: 723,\n",
              "         15: 709,\n",
              "         16: 632,\n",
              "         17: 499,\n",
              "         18: 441,\n",
              "         19: 367,\n",
              "         20: 277,\n",
              "         21: 191,\n",
              "         22: 153,\n",
              "         23: 86,\n",
              "         24: 71,\n",
              "         25: 61,\n",
              "         26: 41,\n",
              "         27: 42,\n",
              "         28: 11,\n",
              "         29: 10,\n",
              "         30: 12,\n",
              "         31: 4,\n",
              "         32: 3,\n",
              "         33: 4,\n",
              "         34: 2,\n",
              "         35: 3,\n",
              "         36: 1,\n",
              "         37: 1,\n",
              "         39: 2,\n",
              "         40: 1,\n",
              "         41: 1,\n",
              "         42: 1,\n",
              "         43: 1,\n",
              "         44: 1})"
            ]
          },
          "metadata": {
            "tags": []
          },
          "execution_count": 35
        }
      ]
    },
    {
      "cell_type": "code",
      "metadata": {
        "colab": {
          "base_uri": "https://localhost:8080/",
          "height": 282
        },
        "id": "WSahq46AwpaD",
        "outputId": "fbe670d5-c634-4cfa-f15e-95693e30bfbe"
      },
      "source": [
        "plt.bar(length_frequency.keys(), length_frequency.values())"
      ],
      "execution_count": 36,
      "outputs": [
        {
          "output_type": "execute_result",
          "data": {
            "text/plain": [
              "<BarContainer object of 43 artists>"
            ]
          },
          "metadata": {
            "tags": []
          },
          "execution_count": 36
        },
        {
          "output_type": "display_data",
          "data": {
            "image/png": "[encoded data removed]",
            "text/plain": [
              "<Figure size 432x288 with 1 Axes>"
            ]
          },
          "metadata": {
            "tags": [],
            "needs_background": "light"
          }
        }
      ]
    },
    {
      "cell_type": "code",
      "metadata": {
        "id": "fmq86BmnxK4h"
      },
      "source": [
        "bin_size = len(araneae_basic) // 3"
      ],
      "execution_count": 37,
      "outputs": []
    },
    {
      "cell_type": "markdown",
      "metadata": {
        "id": "HxLnTEP7yZZa"
      },
      "source": [
        "Defining length of short requests"
      ]
    },
    {
      "cell_type": "code",
      "metadata": {
        "colab": {
          "base_uri": "https://localhost:8080/"
        },
        "id": "yXs5jq3exYgq",
        "outputId": "75132665-4c51-4e31-db6c-f3a8be4c114e"
      },
      "source": [
        "short_bin = 0\n",
        "\n",
        "for _len, _short_amount in length_frequency.items():\n",
        "  short_bin += _short_amount  \n",
        "  if short_bin >= bin_size:\n",
        "    short_length = _len\n",
        "    break \n",
        "\n",
        "short_length"
      ],
      "execution_count": 38,
      "outputs": [
        {
          "output_type": "stream",
          "text": [
            "13\n"
          ],
          "name": "stdout"
        }
      ]
    },
    {
      "cell_type": "code",
      "metadata": {
        "colab": {
          "base_uri": "https://localhost:8080/"
        },
        "id": "tZ39nf1xykwh",
        "outputId": "9ad8ccff-9c06-4370-b475-a87dd11f435e"
      },
      "source": [
        "avg_bin = 0\n",
        "\n",
        "for _len, _avg_amount in length_frequency.items():\n",
        "  if _len <= short_length:\n",
        "    continue\n",
        "  avg_bin += _avg_amount  \n",
        "  if avg_bin >= bin_size:\n",
        "    avg_length = _len\n",
        "    break \n",
        "\n",
        "avg_length"
      ],
      "execution_count": 39,
      "outputs": [
        {
          "output_type": "execute_result",
          "data": {
            "text/plain": [
              "17"
            ]
          },
          "metadata": {
            "tags": []
          },
          "execution_count": 39
        }
      ]
    },
    {
      "cell_type": "markdown",
      "metadata": {
        "id": "8NJTyMU532s6"
      },
      "source": [
        "### Length rules:\n",
        "$$Short NL \\leq 13$$\n",
        "$$14 \\leq AvgNL \\leq 17$$\n",
        "$$18 \\leq LongNl$$\n",
        "\n"
      ]
    },
    {
      "cell_type": "markdown",
      "metadata": {
        "id": "S7oa8tP7vNGx"
      },
      "source": [
        "### Detecting of length type"
      ]
    },
    {
      "cell_type": "code",
      "metadata": {
        "id": "xgs0yH665b4K"
      },
      "source": [
        "from copy import deepcopy"
      ],
      "execution_count": 41,
      "outputs": []
    },
    {
      "cell_type": "code",
      "metadata": {
        "id": "EoPLlp3yvR2x"
      },
      "source": [
        "araneae_with_NL = []\n",
        "for _sample in araneae_basic:\n",
        "  nl_sample = deepcopy(_sample)\n",
        "  tag = None\n",
        "  if len(nl_sample['question_toks']) <= 13:\n",
        "    tag = \"NL-short\"\n",
        "  elif len(nl_sample['question_toks']) <= 17:\n",
        "    tag = \"NL-avg\"\n",
        "  else:\n",
        "    tag = \"NL-long\"\n",
        "  nl_sample['tags'] = nl_sample.get('tags', []) + [tag]\n",
        "  nl_sample.setdefault('description', {})['NL-length'] = tag\n",
        "  araneae_with_NL.append(nl_sample)"
      ],
      "execution_count": 46,
      "outputs": []
    },
    {
      "cell_type": "code",
      "metadata": {
        "colab": {
          "base_uri": "https://localhost:8080/"
        },
        "id": "veDiMuRn7gla",
        "outputId": "77cd3b72-5703-40fd-9919-f35bfdd1810e"
      },
      "source": [
        "araneae_with_NL[0]"
      ],
      "execution_count": 47,
      "outputs": [
        {
          "output_type": "execute_result",
          "data": {
            "text/plain": [
              "{'db_id': 'concert_singer',\n",
              " 'description': {'NL-length': 'NL-short'},\n",
              " 'query': 'SELECT count(*) FROM singer',\n",
              " 'query_toks': ['SELECT', 'count', '(', '*', ')', 'FROM', 'singer'],\n",
              " 'query_toks_no_value': ['select', 'count', '(', '*', ')', 'from', 'singer'],\n",
              " 'question': 'How many singers do we have?',\n",
              " 'question_toks': ['How', 'many', 'singers', 'do', 'we', 'have', '?'],\n",
              " 'source': 'spider-dev',\n",
              " 'sql': {'except': None,\n",
              "  'from': {'conds': [], 'table_units': [['table_unit', 1]]},\n",
              "  'groupBy': [],\n",
              "  'having': [],\n",
              "  'intersect': None,\n",
              "  'limit': None,\n",
              "  'orderBy': [],\n",
              "  'select': [False, [[3, [0, [0, 0, False], None]]]],\n",
              "  'union': None,\n",
              "  'where': []},\n",
              " 'tags': ['NL-short']}"
            ]
          },
          "metadata": {
            "tags": []
          },
          "execution_count": 47
        }
      ]
    },
    {
      "cell_type": "markdown",
      "metadata": {
        "id": "s8Pn7LO75g-x"
      },
      "source": [
        "### Saving"
      ]
    },
    {
      "cell_type": "code",
      "metadata": {
        "id": "VadE5eED5juq"
      },
      "source": [
        "with open('araneae.json', 'w') as json_file:\n",
        "    json.dump(araneae_with_NL, json_file)"
      ],
      "execution_count": 48,
      "outputs": []
    }
  ]
}