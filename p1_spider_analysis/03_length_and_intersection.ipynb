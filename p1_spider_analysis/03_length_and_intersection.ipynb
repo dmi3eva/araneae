{
  "nbformat": 4,
  "nbformat_minor": 0,
  "metadata": {
    "colab": {
      "name": "03_length_and_intersection.ipynb",
      "provenance": [],
      "collapsed_sections": [],
      "authorship_tag": "ABX9TyNg2dr0PJDZHO8VE4UgXg+L",
      "include_colab_link": true
    },
    "kernelspec": {
      "name": "python3",
      "display_name": "Python 3"
    },
    "language_info": {
      "name": "python"
    }
  },
  "cells": [
    {
      "cell_type": "markdown",
      "metadata": {
        "id": "view-in-github",
        "colab_type": "text"
      },
      "source": [
        "<a href=\"https://colab.research.google.com/github/dmi3eva/araneae/blob/main/p1_spider_analysis/03_length_and_intersection.ipynb\" target=\"_parent\"><img src=\"https://colab.research.google.com/assets/colab-badge.svg\" alt=\"Open In Colab\"/></a>"
      ]
    },
    {
      "cell_type": "markdown",
      "metadata": {
        "id": "UfXLgGO457bc"
      },
      "source": [
        "### Mounting"
      ]
    },
    {
      "cell_type": "code",
      "metadata": {
        "colab": {
          "base_uri": "https://localhost:8080/"
        },
        "id": "hKLQ_M5H5w6q",
        "outputId": "79190726-d915-4b4d-cb7d-26773736468a"
      },
      "source": [
        "from google.colab import drive\n",
        "drive.mount('/content/drive')"
      ],
      "execution_count": 1,
      "outputs": [
        {
          "output_type": "stream",
          "name": "stdout",
          "text": [
            "Mounted at /content/drive\n"
          ]
        }
      ]
    },
    {
      "cell_type": "code",
      "metadata": {
        "colab": {
          "base_uri": "https://localhost:8080/"
        },
        "id": "VC1_Z6235917",
        "outputId": "3b773f32-a2e6-429b-8871-c415339b4272"
      },
      "source": [
        "%cd /content\n",
        "%cd drive\n",
        "%cd My\\ Drive\n",
        "%cd PhD\n",
        "%cd Paper_01"
      ],
      "execution_count": 2,
      "outputs": [
        {
          "output_type": "stream",
          "name": "stdout",
          "text": [
            "/content\n",
            "/content/drive\n",
            "/content/drive/My Drive\n",
            "/content/drive/My Drive/PhD\n",
            "/content/drive/My Drive/PhD/Paper_01\n"
          ]
        }
      ]
    },
    {
      "cell_type": "code",
      "metadata": {
        "id": "G_KqaeUL6BWd"
      },
      "source": [
        "DB_PATH = \"datasets/spider/database\"\n",
        "SCHEMES_PATH = \"datasets/spider/tables.json\""
      ],
      "execution_count": 3,
      "outputs": []
    },
    {
      "cell_type": "markdown",
      "metadata": {
        "id": "BhB-w6Ng6Vvf"
      },
      "source": [
        "### Loading"
      ]
    },
    {
      "cell_type": "code",
      "metadata": {
        "id": "1DleaEL_6WfC"
      },
      "source": [
        "import json\n",
        "import collections\n",
        "import matplotlib.pyplot as plt\n",
        "import sqlite3\n",
        "import os"
      ],
      "execution_count": 4,
      "outputs": []
    },
    {
      "cell_type": "code",
      "metadata": {
        "id": "rVi-z_8o6W0e"
      },
      "source": [
        "%matplotlib inline "
      ],
      "execution_count": 5,
      "outputs": []
    },
    {
      "cell_type": "markdown",
      "metadata": {
        "id": "vWEqfggr6gPB"
      },
      "source": [
        "## Utils"
      ]
    },
    {
      "cell_type": "code",
      "metadata": {
        "id": "kjfZJ1DI6XEJ"
      },
      "source": [
        "def execute_request(db_id, sql):\n",
        "    db = os.path.join(DB_PATH, db_id, db_id + \".sqlite\")\n",
        "    conn = sqlite3.connect(db)\n",
        "    conn.text_factory = lambda b: b.decode(errors = 'ignore')\n",
        "    cursor = conn.cursor()   \n",
        "    try:\n",
        "        cursor.execute(sql)\n",
        "        res = cursor.fetchall()\n",
        "        return res\n",
        "    except:\n",
        "        raise ValueError"
      ],
      "execution_count": 6,
      "outputs": []
    },
    {
      "cell_type": "code",
      "metadata": {
        "id": "-j6MAHOHAZe1",
        "colab": {
          "base_uri": "https://localhost:8080/"
        },
        "outputId": "56aab08d-db81-4d32-c250-a8991e841d81"
      },
      "source": [
        "db_ids = os.listdir(DB_PATH)\n",
        "db_ids"
      ],
      "execution_count": 13,
      "outputs": [
        {
          "output_type": "execute_result",
          "data": {
            "text/plain": [
              "['academic',\n",
              " 'activity_1',\n",
              " 'aircraft',\n",
              " 'allergy_1',\n",
              " 'apartment_rentals',\n",
              " 'architecture',\n",
              " 'assets_maintenance',\n",
              " 'baseball_1',\n",
              " 'battle_death',\n",
              " 'behavior_monitoring',\n",
              " 'bike_1',\n",
              " 'body_builder',\n",
              " 'book_2',\n",
              " 'browser_web',\n",
              " 'candidate_poll',\n",
              " 'car_1',\n",
              " 'chinook_1',\n",
              " 'cinema',\n",
              " 'city_record',\n",
              " 'climbing',\n",
              " 'club_1',\n",
              " 'coffee_shop',\n",
              " 'college_1',\n",
              " 'college_2',\n",
              " 'college_3',\n",
              " 'company_1',\n",
              " 'company_employee',\n",
              " 'company_office',\n",
              " 'concert_singer',\n",
              " 'county_public_safety',\n",
              " 'course_teach',\n",
              " 'cre_Doc_Control_Systems',\n",
              " 'cre_Doc_Template_Mgt',\n",
              " 'cre_Doc_Tracking_DB',\n",
              " 'cre_Docs_and_Epenses',\n",
              " 'cre_Drama_Workshop_Groups',\n",
              " 'cre_Theme_park',\n",
              " 'csu_1',\n",
              " 'culture_company',\n",
              " 'customer_complaints',\n",
              " 'customer_deliveries',\n",
              " 'customers_and_addresses',\n",
              " 'customers_and_invoices',\n",
              " 'customers_and_products_contacts',\n",
              " 'customers_campaigns_ecommerce',\n",
              " 'customers_card_transactions',\n",
              " 'debate',\n",
              " 'decoration_competition',\n",
              " 'department_management',\n",
              " 'department_store',\n",
              " 'device',\n",
              " 'document_management',\n",
              " 'dog_kennels',\n",
              " 'dorm_1',\n",
              " 'driving_school',\n",
              " 'e_government',\n",
              " 'e_learning',\n",
              " 'election',\n",
              " 'election_representative',\n",
              " 'employee_hire_evaluation',\n",
              " 'entertainment_awards',\n",
              " 'entrepreneur',\n",
              " 'epinions_1',\n",
              " 'farm',\n",
              " 'film_rank',\n",
              " 'flight_1',\n",
              " 'flight_2',\n",
              " 'flight_4',\n",
              " 'flight_company',\n",
              " 'formula_1',\n",
              " 'game_1',\n",
              " 'game_injury',\n",
              " 'gas_company',\n",
              " 'geo',\n",
              " 'gymnast',\n",
              " 'hospital_1',\n",
              " 'hr_1',\n",
              " 'icfp_1',\n",
              " 'imdb',\n",
              " 'inn_1',\n",
              " 'insurance_and_eClaims',\n",
              " 'insurance_fnol',\n",
              " 'insurance_policies',\n",
              " 'journal_committee',\n",
              " 'loan_1',\n",
              " 'local_govt_and_lot',\n",
              " 'local_govt_in_alabama',\n",
              " 'local_govt_mdm',\n",
              " 'machine_repair',\n",
              " 'manufactory_1',\n",
              " 'manufacturer',\n",
              " 'match_season',\n",
              " 'medicine_enzyme_interaction',\n",
              " 'mountain_photos',\n",
              " 'movie_1',\n",
              " 'museum_visit',\n",
              " 'music_1',\n",
              " 'music_2',\n",
              " 'music_4',\n",
              " 'musical',\n",
              " 'network_1',\n",
              " 'network_2',\n",
              " 'news_report',\n",
              " 'orchestra',\n",
              " 'party_host',\n",
              " 'party_people',\n",
              " 'performance_attendance',\n",
              " 'perpetrator',\n",
              " 'pets_1',\n",
              " 'phone_1',\n",
              " 'phone_market',\n",
              " 'pilot_record',\n",
              " 'poker_player',\n",
              " 'product_catalog',\n",
              " 'products_for_hire',\n",
              " 'products_gen_characteristics',\n",
              " 'program_share',\n",
              " 'protein_institute',\n",
              " 'race_track',\n",
              " 'railway',\n",
              " 'real_estate_properties',\n",
              " 'restaurant_1',\n",
              " 'restaurants',\n",
              " 'riding_club',\n",
              " 'roller_coaster',\n",
              " 'sakila_1',\n",
              " 'scholar',\n",
              " 'voter_1',\n",
              " 'school_player',\n",
              " 'scientist_1',\n",
              " 'student_transcripts_tracking',\n",
              " 'store_1',\n",
              " 'soccer_1',\n",
              " 'soccer_2',\n",
              " 'tracking_orders',\n",
              " 'workshop_paper',\n",
              " 'storm_record',\n",
              " 'store_product',\n",
              " 'student_assessment',\n",
              " 'wrestler',\n",
              " 'ship_mission',\n",
              " 'shop_membership',\n",
              " 'tracking_share_transactions',\n",
              " 'voter_2',\n",
              " 'tracking_grants_for_research',\n",
              " 'singer',\n",
              " 'school_finance',\n",
              " 'twitter_1',\n",
              " 'world_1',\n",
              " 'solvency_ii',\n",
              " 'ship_1',\n",
              " 'yelp',\n",
              " 'tracking_software_problems',\n",
              " 'school_bus',\n",
              " 'theme_gallery',\n",
              " 'tvshow',\n",
              " 'university_basketball',\n",
              " 'wedding',\n",
              " 'student_1',\n",
              " 'train_station',\n",
              " 'wta_1',\n",
              " 'station_weather',\n",
              " 'small_bank_1',\n",
              " 'swimming',\n",
              " 'sports_competition',\n",
              " 'wine_1']"
            ]
          },
          "metadata": {},
          "execution_count": 13
        }
      ]
    },
    {
      "cell_type": "code",
      "metadata": {
        "id": "R3vGcMFY9nAt"
      },
      "source": [
        "with open(SCHEMES_PATH) as table_file:\n",
        "  schemes = json.load(table_file)\n",
        "\n",
        "tables = {_s['db_id']: _s['table_names_original'] for _s in schemes}\n",
        "\n",
        "columns = {\n",
        "    _s['db_id']: {\n",
        "        _table: [] for _table in _s['table_names_original']\n",
        "    } for _s in schemes\n",
        "}\n",
        "for _scheme in schemes:\n",
        "  db_id = _scheme['db_id']\n",
        "  table_names = _scheme['table_names_original']\n",
        "  for _column in _scheme[\"column_names_original\"]:\n",
        "    column_name = _column[1]\n",
        "    table_name = table_names[_column[0]]\n",
        "    if column_name == '*':\n",
        "      continue\n",
        "    columns[db_id][table_name].append(column_name)"
      ],
      "execution_count": 23,
      "outputs": []
    },
    {
      "cell_type": "code",
      "metadata": {
        "id": "v4vBnExF8Q_b"
      },
      "source": [
        "def get_db_tables(db):\n",
        "  return tables[db]"
      ],
      "execution_count": 24,
      "outputs": []
    },
    {
      "cell_type": "code",
      "metadata": {
        "id": "fQV3fVgs8Ryx"
      },
      "source": [
        "def get_db_columns(db, table):\n",
        "  return columns[db][table]"
      ],
      "execution_count": 25,
      "outputs": []
    },
    {
      "cell_type": "code",
      "metadata": {
        "id": "T2BMLlDYAQub"
      },
      "source": [
        "REQUEST_MASK = \"\"\"SELECT \\\"{column}\\\" FROM \\\"{table}\\\"\"\"\" \n",
        "def get_db_values(db, table, column):\n",
        "  # Возвращает значения из столбца данной таблицы\n",
        "  aim_request = REQUEST_MASK.format(table=table, column=column)\n",
        "  try:\n",
        "    response = execute_request(db, aim_request)\n",
        "    values = [str(_v[0]) for _v in list(response)]\n",
        "    return values\n",
        "  except ValueError:\n",
        "    print()\n",
        "    print(f\"Problem with {column} in {table} (db = {db}). Request: {aim_request}\")\n",
        "    return []"
      ],
      "execution_count": 43,
      "outputs": []
    },
    {
      "cell_type": "markdown",
      "metadata": {
        "id": "Qybj_ct7ASvZ"
      },
      "source": [
        "## Envestigation"
      ]
    },
    {
      "cell_type": "code",
      "metadata": {
        "id": "b3pU6NbN6Af6"
      },
      "source": [
        "from collections import Counter"
      ],
      "execution_count": 8,
      "outputs": []
    },
    {
      "cell_type": "markdown",
      "metadata": {
        "id": "fA7WV5E46ETJ"
      },
      "source": [
        "### DB's exploring"
      ]
    },
    {
      "cell_type": "markdown",
      "metadata": {
        "id": "MDjmo8o46usc"
      },
      "source": [
        "Длины слов"
      ]
    },
    {
      "cell_type": "code",
      "metadata": {
        "id": "OeLxHuFoAxF_"
      },
      "source": [
        "db_lens = [len(_db) for _db in db_ids] \n",
        "db_cnt = Counter(db_lens)"
      ],
      "execution_count": 11,
      "outputs": []
    },
    {
      "cell_type": "code",
      "metadata": {
        "colab": {
          "base_uri": "https://localhost:8080/"
        },
        "id": "LjGK3ap56ms9",
        "outputId": "0aa0be73-99e7-4d2f-b74c-1eeb6b2679b0"
      },
      "source": [
        "db_cnt"
      ],
      "execution_count": 12,
      "outputs": [
        {
          "output_type": "execute_result",
          "data": {
            "text/plain": [
              "Counter({3: 1,\n",
              "         4: 4,\n",
              "         5: 4,\n",
              "         6: 15,\n",
              "         7: 14,\n",
              "         8: 12,\n",
              "         9: 13,\n",
              "         10: 8,\n",
              "         11: 12,\n",
              "         12: 17,\n",
              "         13: 6,\n",
              "         14: 12,\n",
              "         15: 6,\n",
              "         16: 2,\n",
              "         17: 4,\n",
              "         18: 5,\n",
              "         19: 5,\n",
              "         20: 4,\n",
              "         21: 4,\n",
              "         22: 4,\n",
              "         23: 3,\n",
              "         24: 1,\n",
              "         25: 1,\n",
              "         26: 1,\n",
              "         27: 3,\n",
              "         28: 3,\n",
              "         29: 1,\n",
              "         31: 1})"
            ]
          },
          "metadata": {},
          "execution_count": 12
        }
      ]
    },
    {
      "cell_type": "code",
      "metadata": {
        "id": "npQJLGlw7E52"
      },
      "source": [
        "db_x = sorted(list(db_cnt.keys()))\n",
        "db_y = [db_cnt[_x] for _x in db_x] "
      ],
      "execution_count": 14,
      "outputs": []
    },
    {
      "cell_type": "code",
      "metadata": {
        "colab": {
          "base_uri": "https://localhost:8080/",
          "height": 282
        },
        "id": "R6AAFSe168GO",
        "outputId": "37b158e2-8b05-4d2e-87d4-d43a633319cf"
      },
      "source": [
        "plt.bar(db_x, db_y, color='green')"
      ],
      "execution_count": 16,
      "outputs": [
        {
          "output_type": "execute_result",
          "data": {
            "text/plain": [
              "<BarContainer object of 28 artists>"
            ]
          },
          "metadata": {},
          "execution_count": 16
        },
        {
          "output_type": "display_data",
          "data": {
            "image/png": "[encoded data removed]",
            "text/plain": [
              "<Figure size 432x288 with 1 Axes>"
            ]
          },
          "metadata": {
            "needs_background": "light"
          }
        }
      ]
    },
    {
      "cell_type": "markdown",
      "metadata": {
        "id": "jHi6Gd_u7ikt"
      },
      "source": [
        "Количества слов"
      ]
    },
    {
      "cell_type": "code",
      "metadata": {
        "colab": {
          "base_uri": "https://localhost:8080/",
          "height": 282
        },
        "id": "_QzLjOrg7kfp",
        "outputId": "7f6c476b-1c88-4e49-ee23-cf6285f3d697"
      },
      "source": [
        "db_tokens_lens = [len(_db.replace('_1', '').replace('_2', '').replace('_3', '').replace('_4', '').split('_')) for _db in db_ids] \n",
        "db_tokens_cnt = Counter(db_tokens_lens)\n",
        "db_tokens_x = sorted(list(db_tokens_cnt.keys()))\n",
        "db_tokens_y = [db_tokens_cnt[_x] for _x in db_tokens_x] \n",
        "plt.bar(db_tokens_x, db_tokens_y, color='green')"
      ],
      "execution_count": 52,
      "outputs": [
        {
          "output_type": "execute_result",
          "data": {
            "text/plain": [
              "<BarContainer object of 4 artists>"
            ]
          },
          "metadata": {},
          "execution_count": 52
        },
        {
          "output_type": "display_data",
          "data": {
            "image/png": "[encoded data removed]",
            "text/plain": [
              "<Figure size 432x288 with 1 Axes>"
            ]
          },
          "metadata": {
            "needs_background": "light"
          }
        }
      ]
    },
    {
      "cell_type": "markdown",
      "metadata": {
        "id": "1uyBufMV8Cmw"
      },
      "source": [
        "### Tables research"
      ]
    },
    {
      "cell_type": "code",
      "metadata": {
        "colab": {
          "base_uri": "https://localhost:8080/"
        },
        "id": "N0eZI1569UwI",
        "outputId": "b9211b33-294d-4280-e146-dd2755c3b38f"
      },
      "source": [
        "db_tables = get_db_tables(\"store_product\")\n",
        "db_tables"
      ],
      "execution_count": 26,
      "outputs": [
        {
          "output_type": "execute_result",
          "data": {
            "text/plain": [
              "['product', 'store', 'district', 'store_product', 'store_district']"
            ]
          },
          "metadata": {},
          "execution_count": 26
        }
      ]
    },
    {
      "cell_type": "code",
      "metadata": {
        "colab": {
          "base_uri": "https://localhost:8080/"
        },
        "id": "IoAiUZmn8F-C",
        "outputId": "7a9db443-191a-49b0-f4d0-b1d6bac95d6b"
      },
      "source": [
        "tables_tokens_lens = []\n",
        "for _db in db_ids:\n",
        "  db_tables = get_db_tables(_db)\n",
        "  print(db_tables)\n",
        "  table_tokens = [len(_t.split('_')) for _t in db_tables] \n",
        "  tables_tokens_lens += table_tokens"
      ],
      "execution_count": 31,
      "outputs": [
        {
          "output_type": "stream",
          "name": "stdout",
          "text": [
            "['author', 'conference', 'domain', 'domain_author', 'domain_conference', 'journal', 'domain_journal', 'keyword', 'domain_keyword', 'publication', 'domain_publication', 'organization', 'publication_keyword', 'writes', 'cite']\n",
            "['Activity', 'Participates_in', 'Faculty_Participates_in', 'Student', 'Faculty']\n",
            "['pilot', 'aircraft', 'match', 'airport', 'airport_aircraft']\n",
            "['Allergy_Type', 'Has_Allergy', 'Student']\n",
            "['Apartment_Buildings', 'Apartments', 'Apartment_Facilities', 'Guests', 'Apartment_Bookings', 'View_Unit_Status']\n",
            "['architect', 'bridge', 'mill']\n",
            "['Third_Party_Companies', 'Maintenance_Contracts', 'Parts', 'Skills', 'Staff', 'Assets', 'Asset_Parts', 'Maintenance_Engineers', 'Engineer_Skills', 'Fault_Log', 'Engineer_Visits', 'Part_Faults', 'Fault_Log_Parts', 'Skills_Required_To_Fix']\n",
            "['all_star', 'appearances', 'manager_award', 'player_award', 'manager_award_vote', 'player_award_vote', 'batting', 'batting_postseason', 'player_college', 'fielding', 'fielding_outfield', 'fielding_postseason', 'hall_of_fame', 'home_game', 'manager', 'manager_half', 'player', 'park', 'pitching', 'pitching_postseason', 'salary', 'college', 'postseason', 'team', 'team_franchise', 'team_half']\n",
            "['battle', 'ship', 'death']\n",
            "['Ref_Address_Types', 'Ref_Detention_Type', 'Ref_Incident_Type', 'Addresses', 'Students', 'Teachers', 'Assessment_Notes', 'Behavior_Incident', 'Detention', 'Student_Addresses', 'Students_in_Detention']\n",
            "['station', 'status', 'trip', 'weather']\n",
            "['body_builder', 'people']\n",
            "['publication', 'book']\n",
            "['Web_client_accelerator', 'browser', 'accelerator_compatible_browser']\n",
            "['candidate', 'people']\n",
            "['continents', 'countries', 'car_makers', 'model_list', 'car_names', 'cars_data']\n",
            "['Album', 'Artist', 'Customer', 'Employee', 'Genre', 'Invoice', 'InvoiceLine', 'MediaType', 'Playlist', 'PlaylistTrack', 'Track']\n",
            "['film', 'cinema', 'schedule']\n",
            "['city', 'match', 'temperature', 'hosting_city']\n",
            "['mountain', 'climber']\n",
            "['Student', 'Club', 'Member_of_club']\n",
            "['shop', 'member', 'happy_hour', 'happy_hour_member']\n",
            "['CLASS', 'COURSE', 'DEPARTMENT', 'EMPLOYEE', 'ENROLL', 'PROFESSOR', 'STUDENT']\n",
            "['classroom', 'department', 'course', 'instructor', 'section', 'teaches', 'student', 'takes', 'advisor', 'time_slot', 'prereq']\n",
            "['Student', 'Faculty', 'Department', 'Member_of', 'Course', 'Minor_in', 'Enrolled_in', 'Gradeconversion']\n",
            "['works_on', 'employee', 'department', 'project', 'dependent', 'dept_locations']\n",
            "['people', 'company', 'employment']\n",
            "['buildings', 'Companies', 'Office_locations']\n",
            "['stadium', 'singer', 'concert', 'singer_in_concert']\n",
            "['county_public_safety', 'city']\n",
            "['course', 'teacher', 'course_arrange']\n",
            "['Ref_Document_Types', 'Roles', 'Addresses', 'Ref_Document_Status', 'Ref_Shipping_Agents', 'Documents', 'Employees', 'Document_Drafts', 'Draft_Copies', 'Circulation_History', 'Documents_Mailed']\n",
            "['Ref_Template_Types', 'Templates', 'Documents', 'Paragraphs']\n",
            "['Ref_Document_Types', 'Ref_Calendar', 'Ref_Locations', 'Roles', 'All_Documents', 'Employees', 'Document_Locations', 'Documents_to_be_Destroyed']\n",
            "['Ref_Document_Types', 'Ref_Budget_Codes', 'Projects', 'Documents', 'Statements', 'Documents_with_Expenses', 'Accounts']\n",
            "['Ref_Payment_Methods', 'Ref_Service_Types', 'Addresses', 'Products', 'Marketing_Regions', 'Clients', 'Drama_Workshop_Groups', 'Performers', 'Customers', 'Stores', 'Bookings', 'Performers_in_Bookings', 'Customer_Orders', 'Order_Items', 'Invoices', 'Services', 'Bookings_Services', 'Invoice_Items']\n",
            "['Ref_Hotel_Star_Ratings', 'Locations', 'Ref_Attraction_Types', 'Visitors', 'Features', 'Hotels', 'Tourist_Attractions', 'Street_Markets', 'Shops', 'Museums', 'Royal_Family', 'Theme_Parks', 'Visits', 'Photos', 'Staff', 'Tourist_Attraction_Features']\n",
            "['Campuses', 'csu_fees', 'degrees', 'discipline_enrollments', 'enrollments', 'faculty']\n",
            "['book_club', 'movie', 'culture_company']\n",
            "['Staff', 'Customers', 'Products', 'Complaints']\n",
            "['Products', 'Addresses', 'Customers', 'Regular_Orders', 'Regular_Order_Products', 'Actual_Orders', 'Actual_Order_Products', 'Customer_Addresses', 'Delivery_Routes', 'Delivery_Route_Locations', 'Trucks', 'Employees', 'Order_Deliveries']\n",
            "['Addresses', 'Products', 'Customers', 'Customer_Addresses', 'Customer_Contact_Channels', 'Customer_Orders', 'Order_Items']\n",
            "['Customers', 'Orders', 'Invoices', 'Accounts', 'Product_Categories', 'Products', 'Financial_Transactions', 'Order_Items', 'Invoice_Line_Items']\n",
            "['Addresses', 'Products', 'Customers', 'Contacts', 'Customer_Address_History', 'Customer_Orders', 'Order_Items']\n",
            "['Premises', 'Products', 'Customers', 'Mailshot_Campaigns', 'Customer_Addresses', 'Customer_Orders', 'Mailshot_Customers', 'Order_Items']\n",
            "['Accounts', 'Customers', 'Customers_Cards', 'Financial_Transactions']\n",
            "['people', 'debate', 'debate_people']\n",
            "['college', 'member', 'round']\n",
            "['department', 'head', 'management']\n",
            "['Addresses', 'Staff', 'Suppliers', 'Department_Store_Chain', 'Customers', 'Products', 'Supplier_Addresses', 'Customer_Addresses', 'Customer_Orders', 'Department_Stores', 'Departments', 'Order_Items', 'Product_Suppliers', 'Staff_Department_Assignments']\n",
            "['device', 'shop', 'stock']\n",
            "['Roles', 'Users', 'Document_Structures', 'Functional_Areas', 'Images', 'Documents', 'Document_Functional_Areas', 'Document_Sections', 'Document_Sections_Images']\n",
            "['Breeds', 'Charges', 'Sizes', 'Treatment_Types', 'Owners', 'Dogs', 'Professionals', 'Treatments']\n",
            "['Student', 'Dorm', 'Dorm_amenity', 'Has_amenity', 'Lives_in']\n",
            "['Addresses', 'Staff', 'Vehicles', 'Customers', 'Customer_Payments', 'Lessons']\n",
            "['Addresses', 'Services', 'Forms', 'Individuals', 'Organizations', 'Parties', 'Organization_Contact_Individuals', 'Party_Addresses', 'Party_Forms', 'Party_Services']\n",
            "['Course_Authors_and_Tutors', 'Students', 'Subjects', 'Courses', 'Student_Course_Enrolment', 'Student_Tests_Taken']\n",
            "['county', 'party', 'election']\n",
            "['election', 'representative']\n",
            "['employee', 'shop', 'hiring', 'evaluation']\n",
            "['festival_detail', 'artwork', 'nomination']\n",
            "['entrepreneur', 'people']\n",
            "['item', 'review', 'useracct', 'trust']\n",
            "['city', 'farm', 'farm_competition', 'competition_record']\n",
            "['film', 'market', 'film_market_estimation']\n",
            "['flight', 'aircraft', 'employee', 'certificate']\n",
            "['airlines', 'airports', 'flights']\n",
            "['routes', 'airports', 'airlines']\n",
            "['airport', 'operate_company', 'flight']\n",
            "['circuits', 'races', 'drivers', 'status', 'seasons', 'constructors', 'constructorStandings', 'results', 'driverStandings', 'constructorResults', 'qualifying', 'pitStops', 'lapTimes']\n",
            "['Student', 'Video_Games', 'Plays_Games', 'SportsInfo']\n",
            "['stadium', 'game', 'injury_accident']\n",
            "['company', 'gas_station', 'station_company']\n",
            "['state', 'city', 'border_info', 'highlow', 'lake', 'mountain', 'river']\n",
            "['gymnast', 'people']\n",
            "['Physician', 'Department', 'Affiliated_With', 'Procedures', 'Trained_In', 'Patient', 'Nurse', 'Appointment', 'Medication', 'Prescribes', 'Block', 'Room', 'On_Call', 'Stay', 'Undergoes']\n",
            "['regions', 'countries', 'departments', 'jobs', 'employees', 'job_history', 'locations']\n",
            "['Inst', 'Authors', 'Papers', 'Authorship']\n",
            "['actor', 'copyright', 'cast', 'genre', 'classification', 'company', 'director', 'producer', 'directed_by', 'keyword', 'made_by', 'movie', 'tags', 'tv_series', 'writer', 'written_by']\n",
            "['Rooms', 'Reservations']\n",
            "['Customers', 'Staff', 'Policies', 'Claim_Headers', 'Claims_Documents', 'Claims_Processing_Stages', 'Claims_Processing']\n",
            "['Customers', 'Services', 'Available_Policies', 'Customers_Policies', 'First_Notification_of_Loss', 'Claims', 'Settlements']\n",
            "['Customers', 'Customer_Policies', 'Claims', 'Settlements', 'Payments']\n",
            "['journal', 'editor', 'journal_committee']\n",
            "['bank', 'customer', 'loan']\n",
            "['Customers', 'Properties', 'Residents', 'Organizations', 'Services', 'Residents_Services', 'Things', 'Customer_Events', 'Customer_Event_Notes', 'Timed_Status_of_Things', 'Timed_Locations_of_Things']\n",
            "['Services', 'Participants', 'Events', 'Participants_in_Events']\n",
            "['Customer_Master_Index', 'CMI_Cross_References', 'Council_Tax', 'Business_Rates', 'Benefits_Overpayments', 'Parking_Fines', 'Rent_Arrears', 'Electoral_Register']\n",
            "['repair', 'machine', 'technician', 'repair_assignment']\n",
            "['Manufacturers', 'Products']\n",
            "['manufacturer', 'furniture', 'furniture_manufacte']\n",
            "['country', 'team', 'match_season', 'player']\n",
            "['medicine', 'enzyme', 'medicine_enzyme_interaction']\n",
            "['mountain', 'camera_lens', 'photos']\n",
            "['Movie', 'Reviewer', 'Rating']\n",
            "['museum', 'visitor', 'visit']\n",
            "['genre', 'artist', 'files', 'song']\n",
            "['Songs', 'Albums', 'Band', 'Instruments', 'Performance', 'Tracklists', 'Vocals']\n",
            "['artist', 'volume', 'music_festival']\n",
            "['musical', 'actor']\n",
            "['Highschooler', 'Friend', 'Likes']\n",
            "['Person', 'PersonFriend']\n",
            "['event', 'journalist', 'news_report']\n",
            "['conductor', 'orchestra', 'performance', 'show']\n",
            "['party', 'host', 'party_host']\n",
            "['region', 'party', 'member', 'party_events']\n",
            "['member', 'performance', 'member_attendance']\n",
            "['perpetrator', 'people']\n",
            "['Student', 'Has_Pet', 'Pets']\n",
            "['chip_model', 'screen_mode', 'phone']\n",
            "['phone', 'market', 'phone_market']\n",
            "['aircraft', 'pilot', 'pilot_record']\n",
            "['poker_player', 'people']\n",
            "['Attribute_Definitions', 'Catalogs', 'Catalog_Structure', 'Catalog_Contents', 'Catalog_Contents_Additional_Attributes']\n",
            "['Discount_Coupons', 'Customers', 'Bookings', 'Products_for_Hire', 'Payments', 'Products_Booked', 'View_Product_Availability']\n",
            "['Ref_Characteristic_Types', 'Ref_Colors', 'Ref_Product_Categories', 'Characteristics', 'Products', 'Product_Characteristics']\n",
            "['program', 'channel', 'broadcast', 'broadcast_share']\n",
            "['building', 'Institution', 'protein']\n",
            "['race', 'track']\n",
            "['railway', 'train', 'manager', 'railway_manage']\n",
            "['Ref_Feature_Types', 'Ref_Property_Types', 'Other_Available_Features', 'Properties', 'Other_Property_Features']\n",
            "['Student', 'Restaurant', 'Type_Of_Restaurant', 'Restaurant_Type', 'Visits_Restaurant']\n",
            "['GEOGRAPHIC', 'RESTAURANT', 'LOCATION']\n",
            "['player', 'club', 'coach', 'player_coach', 'match_result']\n",
            "['roller_coaster', 'country']\n",
            "['actor', 'address', 'category', 'city', 'country', 'customer', 'film', 'film_actor', 'film_category', 'film_text', 'inventory', 'language', 'payment', 'rental', 'staff', 'store']\n",
            "['venue', 'author', 'dataset', 'journal', 'keyphrase', 'paper', 'cite', 'paperDataset', 'paperKeyphrase', 'writes']\n",
            "['AREA_CODE_STATE', 'CONTESTANTS', 'VOTES']\n",
            "['school', 'school_details', 'school_performance', 'player']\n",
            "['Scientists', 'Projects', 'AssignedTo']\n",
            "['Addresses', 'Courses', 'Departments', 'Degree_Programs', 'Sections', 'Semesters', 'Students', 'Student_Enrolment', 'Student_Enrolment_Courses', 'Transcripts', 'Transcript_Contents']\n",
            "['artists', 'sqlite_sequence', 'albums', 'employees', 'customers', 'genres', 'invoices', 'media_types', 'tracks', 'invoice_lines', 'playlists', 'playlist_tracks']\n",
            "['Player_Attributes', 'sqlite_sequence', 'Player', 'League', 'Country', 'Team', 'Team_Attributes']\n",
            "['College', 'Player', 'Tryout']\n",
            "['Customers', 'Invoices', 'Orders', 'Products', 'Order_Items', 'Shipments', 'Shipment_Items']\n",
            "['workshop', 'submission', 'Acceptance']\n",
            "['storm', 'region', 'affected_region']\n",
            "['product', 'store', 'district', 'store_product', 'store_district']\n",
            "['Addresses', 'People', 'Students', 'Courses', 'People_Addresses', 'Student_Course_Registrations', 'Student_Course_Attendance', 'Candidates', 'Candidate_Assessments']\n",
            "['wrestler', 'Elimination']\n",
            "['mission', 'ship']\n",
            "['member', 'branch', 'membership_register_branch', 'purchase']\n",
            "['Investors', 'Lots', 'Ref_Transaction_Types', 'Transactions', 'Sales', 'Purchases', 'Transactions_Lots']\n",
            "['Student', 'Voting_record']\n",
            "['Document_Types', 'Documents', 'Grants', 'Organisation_Types', 'Organisations', 'Project_Outcomes', 'Project_Staff', 'Projects', 'Research_Outcomes', 'Research_Staff', 'Staff_Roles', 'Tasks']\n",
            "['singer', 'song']\n",
            "['School', 'budget', 'endowment']\n",
            "['follows', 'tweets', 'user_profiles']\n",
            "['city', 'sqlite_sequence', 'country', 'countrylanguage']\n",
            "['Addresses', 'Locations', 'Products', 'Parties', 'Assets', 'Channels', 'Finances', 'Events', 'Products_in_Events', 'Parties_in_Events', 'Agreements', 'Assets_in_Events']\n",
            "['captain', 'Ship']\n",
            "['business', 'category', 'user', 'checkin', 'neighbourhood', 'review', 'tip']\n",
            "['Problem_Category_Codes', 'Problem_Log', 'Problem_Status_Codes', 'Product', 'Staff', 'Problems']\n",
            "['driver', 'school', 'school_bus']\n",
            "['artist', 'exhibition', 'exhibition_record']\n",
            "['TV_Channel', 'TV_series', 'Cartoon']\n",
            "['basketball_match', 'university']\n",
            "['people', 'church', 'wedding']\n",
            "['list', 'teachers']\n",
            "['station', 'train', 'train_station']\n",
            "['players', 'matches', 'rankings']\n",
            "['train', 'station', 'route', 'weekly_weather']\n",
            "['ACCOUNTS', 'SAVINGS', 'CHECKING']\n",
            "['swimmer', 'stadium', 'event', 'record']\n",
            "['club', 'club_rank', 'player', 'competition', 'competition_result']\n",
            "['grapes', 'appellations', 'wine']\n"
          ]
        }
      ]
    },
    {
      "cell_type": "code",
      "metadata": {
        "id": "rn9zDxR5-GKv"
      },
      "source": [
        "table_tokens_cnt = Counter(tables_tokens_lens)  "
      ],
      "execution_count": 33,
      "outputs": []
    },
    {
      "cell_type": "code",
      "metadata": {
        "colab": {
          "base_uri": "https://localhost:8080/",
          "height": 282
        },
        "id": "duHFiRMo-J-3",
        "outputId": "c6e5947c-8634-4c6e-8b71-bf74cdb853e2"
      },
      "source": [
        "table_tokens_x = sorted(list(table_tokens_cnt.keys()))\n",
        "table_tokens_y = [table_tokens_cnt[_x] for _x in table_tokens_x] \n",
        "plt.bar(table_tokens_x, table_tokens_y, color='green')"
      ],
      "execution_count": 34,
      "outputs": [
        {
          "output_type": "execute_result",
          "data": {
            "text/plain": [
              "<BarContainer object of 4 artists>"
            ]
          },
          "metadata": {},
          "execution_count": 34
        },
        {
          "output_type": "display_data",
          "data": {
            "image/png": "[encoded data removed]",
            "text/plain": [
              "<Figure size 432x288 with 1 Axes>"
            ]
          },
          "metadata": {
            "needs_background": "light"
          }
        }
      ]
    },
    {
      "cell_type": "markdown",
      "metadata": {
        "id": "GhnBSykA-mDz"
      },
      "source": [
        "### Колонки"
      ]
    },
    {
      "cell_type": "code",
      "metadata": {
        "colab": {
          "base_uri": "https://localhost:8080/"
        },
        "id": "mu4_tLxf-qJk",
        "outputId": "47df91d1-0cb3-4a67-9a8c-488671e8d706"
      },
      "source": [
        "columns_example = get_db_columns(\"store_product\", \"store\")\n",
        "columns_example"
      ],
      "execution_count": 36,
      "outputs": [
        {
          "output_type": "execute_result",
          "data": {
            "text/plain": [
              "['Store_ID',\n",
              " 'Store_Name',\n",
              " 'Type',\n",
              " 'Area_size',\n",
              " 'Number_of_product_category',\n",
              " 'Ranking']"
            ]
          },
          "metadata": {},
          "execution_count": 36
        }
      ]
    },
    {
      "cell_type": "code",
      "metadata": {
        "id": "87FZ3D2M_FBj"
      },
      "source": [
        "columns_tokens_lens = []\n",
        "for _db in db_ids:\n",
        "  db_tables = get_db_tables(_db)\n",
        "  for _table in db_tables:\n",
        "    db_columns = get_db_columns(_db, _table)\n",
        "    columns_tokens = [len(_t.split('_')) for _t in db_columns] \n",
        "    columns_tokens_lens += columns_tokens"
      ],
      "execution_count": 37,
      "outputs": []
    },
    {
      "cell_type": "code",
      "metadata": {
        "id": "_MHsXmIe_FYX"
      },
      "source": [
        "columns_tokens_cnt = Counter(columns_tokens_lens)  \n",
        "columns_tokens_x = sorted(list(columns_tokens_cnt.keys()))\n",
        "columns_tokens_y = [columns_tokens_cnt[_x] for _x in columns_tokens_x] "
      ],
      "execution_count": 38,
      "outputs": []
    },
    {
      "cell_type": "code",
      "metadata": {
        "colab": {
          "base_uri": "https://localhost:8080/",
          "height": 282
        },
        "id": "N7k5Eppy_GEc",
        "outputId": "6833021a-4a3b-4f39-bd59-74c76fa313cf"
      },
      "source": [
        "plt.bar(columns_tokens_x, columns_tokens_y, color='green')"
      ],
      "execution_count": 39,
      "outputs": [
        {
          "output_type": "execute_result",
          "data": {
            "text/plain": [
              "<BarContainer object of 5 artists>"
            ]
          },
          "metadata": {},
          "execution_count": 39
        },
        {
          "output_type": "display_data",
          "data": {
            "image/png": "[encoded data removed]",
            "text/plain": [
              "<Figure size 432x288 with 1 Axes>"
            ]
          },
          "metadata": {
            "needs_background": "light"
          }
        }
      ]
    },
    {
      "cell_type": "markdown",
      "metadata": {
        "id": "qOJr0K-f-qhx"
      },
      "source": [
        "### Значения"
      ]
    },
    {
      "cell_type": "code",
      "metadata": {
        "colab": {
          "base_uri": "https://localhost:8080/"
        },
        "id": "e0PgIxs2-sP3",
        "outputId": "6f18b507-48d2-459d-d6cd-9176ff9a94b0"
      },
      "source": [
        "values_example = get_db_values(\"store_product\", \"store\", 'Store_Name')\n",
        "values_example"
      ],
      "execution_count": 41,
      "outputs": [
        {
          "output_type": "execute_result",
          "data": {
            "text/plain": [
              "['Miramichi', 'Neguac', 'Rogersville', 'Blackville', 'Doaktown']"
            ]
          },
          "metadata": {},
          "execution_count": 41
        }
      ]
    },
    {
      "cell_type": "code",
      "metadata": {
        "colab": {
          "base_uri": "https://localhost:8080/"
        },
        "id": "1G7PLxLDA2Ks",
        "outputId": "adbfb449-3468-4da0-9d3f-6095af8a15f8"
      },
      "source": [
        "values_example = get_db_values(\"store_product\", \"store\", 'Area_size')\n",
        "values_example"
      ],
      "execution_count": 42,
      "outputs": [
        {
          "output_type": "execute_result",
          "data": {
            "text/plain": [
              "['179.84', '26.69', '7.23', '21.73', '28.74']"
            ]
          },
          "metadata": {},
          "execution_count": 42
        }
      ]
    },
    {
      "cell_type": "code",
      "metadata": {
        "id": "Z2kwKNGz__PP"
      },
      "source": [
        "values_tokens_lens = []\n",
        "for _db in db_ids:\n",
        "  db_tables = get_db_tables(_db)\n",
        "  for _table in db_tables:\n",
        "    db_columns = get_db_columns(_db, _table)\n",
        "    for _column in db_columns:\n",
        "      db_values = get_db_values(_db, _table, _column)\n",
        "      values_tokens = [len(_t.split('_')) for _t in db_values] \n",
        "      values_tokens_lens += values_tokens\n"
      ],
      "execution_count": 44,
      "outputs": []
    },
    {
      "cell_type": "code",
      "metadata": {
        "colab": {
          "base_uri": "https://localhost:8080/"
        },
        "id": "XtwGbi6xByph",
        "outputId": "2fe633c9-be86-4518-d167-34a6a98b6818"
      },
      "source": [
        "print(len(values_tokens_lens))"
      ],
      "execution_count": 47,
      "outputs": [
        {
          "output_type": "stream",
          "name": "stdout",
          "text": [
            "23435505\n"
          ]
        }
      ]
    },
    {
      "cell_type": "code",
      "metadata": {
        "id": "Od6dSIqCAB1T"
      },
      "source": [
        "values_tokens_cnt = Counter(values_tokens_lens)  \n",
        "values_tokens_x = sorted(list(values_tokens_cnt.keys()))\n",
        "values_tokens_y = [values_tokens_cnt[_x] for _x in values_tokens_x] "
      ],
      "execution_count": 45,
      "outputs": []
    },
    {
      "cell_type": "code",
      "metadata": {
        "colab": {
          "base_uri": "https://localhost:8080/"
        },
        "id": "PtZEP8CIB31a",
        "outputId": "6f7b08e1-fa24-46e9-f177-88879fda0e6e"
      },
      "source": [
        "values_tokens_cnt.keys()"
      ],
      "execution_count": 48,
      "outputs": [
        {
          "output_type": "execute_result",
          "data": {
            "text/plain": [
              "dict_keys([1, 2, 3, 4, 5, 6])"
            ]
          },
          "metadata": {},
          "execution_count": 48
        }
      ]
    },
    {
      "cell_type": "code",
      "metadata": {
        "colab": {
          "base_uri": "https://localhost:8080/"
        },
        "id": "bBXftimHB8Xq",
        "outputId": "f33adfc9-c7bf-464c-9c97-992b915b6ad5"
      },
      "source": [
        "values_tokens_cnt"
      ],
      "execution_count": 51,
      "outputs": [
        {
          "output_type": "execute_result",
          "data": {
            "text/plain": [
              "Counter({1: 23430681, 2: 3520, 3: 148, 4: 1038, 5: 109, 6: 9})"
            ]
          },
          "metadata": {},
          "execution_count": 51
        }
      ]
    },
    {
      "cell_type": "code",
      "metadata": {
        "colab": {
          "base_uri": "https://localhost:8080/",
          "height": 293
        },
        "id": "zObq4c7-ADF1",
        "outputId": "7b81d5aa-b225-4727-86bf-7b1c17b9fb0e"
      },
      "source": [
        "plt.bar(values_tokens_x, values_tokens_y, color='green')"
      ],
      "execution_count": 46,
      "outputs": [
        {
          "output_type": "execute_result",
          "data": {
            "text/plain": [
              "<BarContainer object of 6 artists>"
            ]
          },
          "metadata": {},
          "execution_count": 46
        },
        {
          "output_type": "display_data",
          "data": {
            "image/png": "[encoded data removed]",
            "text/plain": [
              "<Figure size 432x288 with 1 Axes>"
            ]
          },
          "metadata": {
            "needs_background": "light"
          }
        }
      ]
    },
    {
      "cell_type": "markdown",
      "metadata": {
        "id": "-6kK_avuBXKx"
      },
      "source": [
        "### All entities without values"
      ]
    },
    {
      "cell_type": "code",
      "metadata": {
        "colab": {
          "base_uri": "https://localhost:8080/",
          "height": 282
        },
        "id": "Kd6lL3x8BZJo",
        "outputId": "b83be768-6163-4253-8565-55b8a3e1d9bc"
      },
      "source": [
        "service_tokens_lens = db_tokens_lens + tables_tokens_lens + columns_tokens_lens\n",
        "service_tokens_cnt = Counter(service_tokens_lens)  \n",
        "service_tokens_x = sorted(list(service_tokens_cnt.keys()))\n",
        "service_tokens_y = [service_tokens_cnt[_x] for _x in service_tokens_x] \n",
        "plt.bar(service_tokens_x, service_tokens_y, color='maroon')"
      ],
      "execution_count": 53,
      "outputs": [
        {
          "output_type": "execute_result",
          "data": {
            "text/plain": [
              "<BarContainer object of 5 artists>"
            ]
          },
          "metadata": {},
          "execution_count": 53
        },
        {
          "output_type": "display_data",
          "data": {
            "image/png": "[encoded data removed]",
            "text/plain": [
              "<Figure size 432x288 with 1 Axes>"
            ]
          },
          "metadata": {
            "needs_background": "light"
          }
        }
      ]
    },
    {
      "cell_type": "code",
      "metadata": {
        "colab": {
          "base_uri": "https://localhost:8080/",
          "height": 282
        },
        "id": "4Tk6ifQ_Ck_A",
        "outputId": "60101c8d-db21-49bd-bc9a-67e2d4211085"
      },
      "source": [
        "plt.bar(service_tokens_x, service_tokens_y, color='maroon')"
      ],
      "execution_count": 54,
      "outputs": [
        {
          "output_type": "execute_result",
          "data": {
            "text/plain": [
              "<BarContainer object of 5 artists>"
            ]
          },
          "metadata": {},
          "execution_count": 54
        },
        {
          "output_type": "display_data",
          "data": {
            "image/png": "[encoded data removed]",
            "text/plain": [
              "<Figure size 432x288 with 1 Axes>"
            ]
          },
          "metadata": {
            "needs_background": "light"
          }
        }
      ]
    },
    {
      "cell_type": "code",
      "metadata": {
        "colab": {
          "base_uri": "https://localhost:8080/"
        },
        "id": "Z9SSCg6qC1Fp",
        "outputId": "da75866e-1790-4bbe-f198-daf1bfe57b45"
      },
      "source": [
        "sum(service_tokens_lens) / len(service_tokens_lens)"
      ],
      "execution_count": 56,
      "outputs": [
        {
          "output_type": "execute_result",
          "data": {
            "text/plain": [
              "1.7062218214607754"
            ]
          },
          "metadata": {},
          "execution_count": 56
        }
      ]
    },
    {
      "cell_type": "markdown",
      "metadata": {
        "id": "5Stc0mW2CoVO"
      },
      "source": [
        "### All"
      ]
    },
    {
      "cell_type": "code",
      "metadata": {
        "colab": {
          "base_uri": "https://localhost:8080/",
          "height": 293
        },
        "id": "JTtvwM5tCiVP",
        "outputId": "b3fc678e-cc8f-4da7-8ca9-becd8fb6e306"
      },
      "source": [
        "all_tokens_lens = db_tokens_lens + tables_tokens_lens + columns_tokens_lens + values_tokens_lens\n",
        "all_tokens_cnt = Counter(all_tokens_lens)  \n",
        "all_tokens_x = sorted(list(all_tokens_cnt.keys()))\n",
        "all_tokens_y = [all_tokens_cnt[_x] for _x in all_tokens_x] \n",
        "plt.bar(all_tokens_x, all_tokens_y, color='maroon')"
      ],
      "execution_count": 55,
      "outputs": [
        {
          "output_type": "execute_result",
          "data": {
            "text/plain": [
              "<BarContainer object of 6 artists>"
            ]
          },
          "metadata": {},
          "execution_count": 55
        },
        {
          "output_type": "display_data",
          "data": {
            "image/png": "[encoded data removed]",
            "text/plain": [
              "<Figure size 432x288 with 1 Axes>"
            ]
          },
          "metadata": {
            "needs_background": "light"
          }
        }
      ]
    },
    {
      "cell_type": "code",
      "metadata": {
        "colab": {
          "base_uri": "https://localhost:8080/"
        },
        "id": "9GgyZQrLC9CZ",
        "outputId": "7c066b94-05c3-4c81-c5b2-7f9145c7937d"
      },
      "source": [
        "sum(all_tokens_lens) / len(all_tokens_lens)"
      ],
      "execution_count": 57,
      "outputs": [
        {
          "output_type": "execute_result",
          "data": {
            "text/plain": [
              "1.0004832121428007"
            ]
          },
          "metadata": {},
          "execution_count": 57
        }
      ]
    }
  ]
}