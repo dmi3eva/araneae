{
 "cells": [
  {
   "cell_type": "code",
   "execution_count": 2,
   "id": "b335339a",
   "metadata": {},
   "outputs": [],
   "source": [
    "import sys  \n",
    "sys.path.insert(0, 'C:\\\\Users\\\\forka\\\\PycharmProjects\\\\araneae')\n",
    "\n",
    "from utils.spider_connectors import *\n",
    "from configure import ROOT_PATH\n",
    "from typing import *\n",
    "\n",
    "import pandas as pd"
   ]
  },
  {
   "cell_type": "code",
   "execution_count": null,
   "id": "3c355437",
   "metadata": {},
   "outputs": [],
   "source": [
    "to_check_1 = path.join(ROOT_PATH, \"resources\", \"datasets\", \"additional\", \"empty_done.csv\")\n",
    "to_check_2 = path.join(ROOT_PATH, \"resources\", \"datasets\", \"additional\", \"long_done.csv\")"
   ]
  },
  {
   "cell_type": "code",
   "execution_count": null,
   "id": "ea95766d",
   "metadata": {},
   "outputs": [],
   "source": [
    "def check(filename: str):\n",
    "    en_spider = EnSpiderDB()\n",
    "    ru_spider = RuSpiderDB()\n",
    "    data = pd.read_csv(filename)\n",
    "    for ind, sample in data.iterrows():\n",
    "        print(f\"{sample[\"id\"]}\")\n",
    "        print(f\"{sample[\"en\"]}\")\n",
    "        en_result = en_spider.execute_request(sample[\"sql_en\"])\n",
    "        print(en_result)\n",
    "        print(f\"{sample[\"ru\"]}\")\n",
    "        ru_result = ru_spider.execute_request(sample[\"sql_ru\"])\n",
    "        print(ru_result)        "
   ]
  },
  {
   "cell_type": "code",
   "execution_count": null,
   "id": "a5b8fcbf",
   "metadata": {},
   "outputs": [],
   "source": [
    "check(to_check_1)"
   ]
  },
  {
   "cell_type": "code",
   "execution_count": null,
   "id": "7d11908f",
   "metadata": {},
   "outputs": [],
   "source": [
    "check(to_check_2)"
   ]
  }
 ],
 "metadata": {
  "kernelspec": {
   "display_name": "araneae",
   "language": "python",
   "name": "araneae"
  },
  "language_info": {
   "codemirror_mode": {
    "name": "ipython",
    "version": 3
   },
   "file_extension": ".py",
   "mimetype": "text/x-python",
   "name": "python",
   "nbconvert_exporter": "python",
   "pygments_lexer": "ipython3",
   "version": "3.8.8"
  }
 },
 "nbformat": 4,
 "nbformat_minor": 5
}
