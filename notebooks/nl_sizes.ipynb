{
 "cells": [
  {
   "cell_type": "code",
   "execution_count": 1,
   "id": "26e9ec9f",
   "metadata": {},
   "outputs": [
    {
     "name": "stdout",
     "output_type": "stream",
     "text": [
      "Longest english, tokens:\n",
      " display the employee number , name ( first name and last name ) , and salary for all employees who earn more than the average salary and who work in a department with any employee with a 'J ' in their first name . (44)\n",
      "Longest russian, tokens:\n",
      " Для каждого режиссера показать имя режиссера вместе с названием фильма , который они сняли , получившим наивысший рейтинг среди всех их фильмов , и значение этого рейтинга . Игнорировать фильмы , режиссер которых — NULL . (36)\n",
      "Longest english, symbols:\n",
      " For each director, return the director's name together with the title of the movie they directed that received the highest rating among all of their movies, and the value of that rating. Ignore movies whose director is NULL. (224)\n",
      "Longest russian, symbols:\n",
      " Для каждого режиссера показать имя режиссера вместе с названием фильма, который они сняли, получившим наивысший рейтинг среди всех их фильмов, и значение этого рейтинга. Игнорировать фильмы, режиссер которых — NULL. (215)\n",
      "Average english, symbols:\n",
      " 66.74785927989271\n",
      "Average russian, symbols:\n",
      " 63.99360363148664\n",
      "Average english, tokens:\n",
      " 13.287217579696689\n",
      "Average russian, tokens:\n",
      " 10.647787062828845\n"
     ]
    }
   ],
   "source": [
    "import sys  \n",
    "sys.path.insert(0, 'C:\\\\Users\\\\forka\\\\PycharmProjects\\\\araneae')\n",
    "\n",
    "import matplotlib.pyplot as plt\n",
    "\n",
    "from utils.spider_connectors import *\n",
    "from spider_analysis.nl.questions_sizes import *\n",
    "\n",
    "from araneae.wrapper import Araneae"
   ]
  },
  {
   "cell_type": "code",
   "execution_count": 2,
   "id": "d2965f06",
   "metadata": {},
   "outputs": [],
   "source": [
    "araneae = Araneae()\n",
    "araneae.load()"
   ]
  },
  {
   "cell_type": "code",
   "execution_count": 3,
   "id": "20d0b109",
   "metadata": {},
   "outputs": [
    {
     "name": "stdout",
     "output_type": "stream",
     "text": [
      "Longest english, tokens:\n",
      " display the employee number , name ( first name and last name ) , and salary for all employees who earn more than the average salary and who work in a department with any employee with a 'J ' in their first name . (44)\n",
      "Longest russian, tokens:\n",
      " Для каждого режиссера показать имя режиссера вместе с названием фильма , который они сняли , получившим наивысший рейтинг среди всех их фильмов , и значение этого рейтинга . Игнорировать фильмы , режиссер которых — NULL . (36)\n",
      "Longest english, symbols:\n",
      " For each director, return the director's name together with the title of the movie they directed that received the highest rating among all of their movies, and the value of that rating. Ignore movies whose director is NULL. (224)\n",
      "Longest russian, symbols:\n",
      " Для каждого режиссера показать имя режиссера вместе с названием фильма, который они сняли, получившим наивысший рейтинг среди всех их фильмов, и значение этого рейтинга. Игнорировать фильмы, режиссер которых — NULL. (215)\n",
      "Average english, symbols:\n",
      " 66.74785927989271\n",
      "Average russian, symbols:\n",
      " 63.99360363148664\n",
      "Average english, tokens:\n",
      " 13.287217579696689\n",
      "Average russian, tokens:\n",
      " 10.647787062828845\n"
     ]
    }
   ],
   "source": [
    "en_symbols, ru_symbols, en_tokens, ru_tokens = get_nl_sizes_statistics(araneae)"
   ]
  },
  {
   "cell_type": "code",
   "execution_count": 4,
   "id": "bbe4be54",
   "metadata": {},
   "outputs": [
    {
     "name": "stdout",
     "output_type": "stream",
     "text": [
      "Different values amount: 43\n",
      "Min is 1\n",
      "Max is 44\n",
      "Most frequent is 12 (853)\n"
     ]
    },
    {
     "data": {
      "image/png": "[encoded data removed]",
      "text/plain": [
       "<Figure size 432x288 with 1 Axes>"
      ]
     },
     "metadata": {
      "needs_background": "light"
     },
     "output_type": "display_data"
    }
   ],
   "source": [
    "x_values = en_tokens.get_x()\n",
    "y_values = en_tokens.get_y()\n",
    "\n",
    "\n",
    "print(f\"Different values amount: {len(x_values)}\")\n",
    "print(f\"Min is {x_values[0]}\")\n",
    "print(f\"Max is {x_values[-1]}\")\n",
    "print(f\"Most frequent is {x_values[y_values.index(max(y_values))]} ({max(y_values)})\")\n",
    "\n",
    "\n",
    "left = 0\n",
    "right = len(x_values)\n",
    "plt.bar(x_values[left:right], y_values[left:right], label=f'English, tokens', color=\"grey\", width=0.8)\n",
    "plt.legend(loc='upper right')\n",
    "plt.legend(loc='upper right')\n",
    "plt.xlabel(\"Size\")\n",
    "plt.ylabel(\"Amount\")\n",
    "plt.show()"
   ]
  },
  {
   "cell_type": "code",
   "execution_count": 5,
   "id": "7d69e440",
   "metadata": {},
   "outputs": [
    {
     "name": "stdout",
     "output_type": "stream",
     "text": [
      "Different values amount: 34\n",
      "Min is 2\n",
      "Max is 36\n",
      "Most frequent is 10 (1006)\n"
     ]
    },
    {
     "data": {
      "image/png": "[encoded data removed]",
      "text/plain": [
       "<Figure size 432x288 with 1 Axes>"
      ]
     },
     "metadata": {
      "needs_background": "light"
     },
     "output_type": "display_data"
    }
   ],
   "source": [
    "x_values = ru_tokens.get_x()\n",
    "y_values = ru_tokens.get_y()\n",
    "\n",
    "\n",
    "\n",
    "print(f\"Different values amount: {len(x_values)}\")\n",
    "print(f\"Min is {x_values[0]}\")\n",
    "print(f\"Max is {x_values[-1]}\")\n",
    "print(f\"Most frequent is {x_values[y_values.index(max(y_values))]} ({max(y_values)})\")\n",
    "\n",
    "\n",
    "left = 0\n",
    "right = len(x_values)\n",
    "plt.bar(x_values[left:right], y_values[left:right], label=f'Russian, tokens', color=\"grey\", width=0.8)\n",
    "plt.legend(loc='upper right')\n",
    "plt.legend(loc='upper right')\n",
    "plt.xlabel(\"Size\")\n",
    "plt.ylabel(\"Amount\")\n",
    "plt.show()"
   ]
  },
  {
   "cell_type": "code",
   "execution_count": 6,
   "id": "0203a62e",
   "metadata": {},
   "outputs": [
    {
     "name": "stdout",
     "output_type": "stream",
     "text": [
      "Different values amount: 159\n",
      "Min is 3\n",
      "Max is 224\n",
      "Most frequent is 61 (193)\n"
     ]
    },
    {
     "data": {
      "image/png": "[encoded data removed]",
      "text/plain": [
       "<Figure size 432x288 with 1 Axes>"
      ]
     },
     "metadata": {
      "needs_background": "light"
     },
     "output_type": "display_data"
    }
   ],
   "source": [
    "x_values = en_symbols.get_x()\n",
    "y_values = en_symbols.get_y()\n",
    "\n",
    "\n",
    "\n",
    "print(f\"Different values amount: {len(x_values)}\")\n",
    "print(f\"Min is {x_values[0]}\")\n",
    "print(f\"Max is {x_values[-1]}\")\n",
    "print(f\"Most frequent is {x_values[y_values.index(max(y_values))]} ({max(y_values)})\")\n",
    "\n",
    "\n",
    "left = 0\n",
    "right = len(x_values)\n",
    "plt.bar(x_values[left:right], y_values[left:right], label=f'English, symbols', color=\"grey\", width=0.8)\n",
    "plt.legend(loc='upper right')\n",
    "plt.legend(loc='upper right')\n",
    "plt.xlabel(\"Size\")\n",
    "plt.ylabel(\"Amount\")\n",
    "plt.show()"
   ]
  },
  {
   "cell_type": "code",
   "execution_count": 7,
   "id": "dea4ea86",
   "metadata": {},
   "outputs": [
    {
     "name": "stdout",
     "output_type": "stream",
     "text": [
      "Different values amount: 162\n",
      "Min is 11\n",
      "Max is 215\n",
      "Most frequent is 49 (186)\n"
     ]
    },
    {
     "data": {
      "image/png": "[encoded data removed]",
      "text/plain": [
       "<Figure size 432x288 with 1 Axes>"
      ]
     },
     "metadata": {
      "needs_background": "light"
     },
     "output_type": "display_data"
    }
   ],
   "source": [
    "x_values = ru_symbols.get_x()\n",
    "y_values = ru_symbols.get_y()\n",
    "\n",
    "\n",
    "\n",
    "print(f\"Different values amount: {len(x_values)}\")\n",
    "print(f\"Min is {x_values[0]}\")\n",
    "print(f\"Max is {x_values[-1]}\")\n",
    "print(f\"Most frequent is {x_values[y_values.index(max(y_values))]} ({max(y_values)})\")\n",
    "\n",
    "\n",
    "left = 0\n",
    "right = len(x_values)\n",
    "plt.bar(x_values[left:right], y_values[left:right], label=f'Russian, symbols', color=\"grey\", width=0.8)\n",
    "plt.legend(loc='upper right')\n",
    "plt.xlabel(\"Size\")\n",
    "plt.ylabel(\"Amount\")\n",
    "plt.show()"
   ]
  },
  {
   "cell_type": "code",
   "execution_count": null,
   "id": "c05b6f7d",
   "metadata": {},
   "outputs": [],
   "source": []
  }
 ],
 "metadata": {
  "kernelspec": {
   "display_name": "araneae",
   "language": "python",
   "name": "araneae"
  },
  "language_info": {
   "codemirror_mode": {
    "name": "ipython",
    "version": 3
   },
   "file_extension": ".py",
   "mimetype": "text/x-python",
   "name": "python",
   "nbconvert_exporter": "python",
   "pygments_lexer": "ipython3",
   "version": "3.8.8"
  }
 },
 "nbformat": 4,
 "nbformat_minor": 5
}
