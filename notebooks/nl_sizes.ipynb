{
 "cells": [
  {
   "cell_type": "code",
   "execution_count": 1,
   "id": "71b2d1f9",
   "metadata": {},
   "outputs": [],
   "source": [
    "import sys  \n",
    "sys.path.insert(0, 'C:\\\\Users\\\\forka\\\\PycharmProjects\\\\araneae')\n",
    "\n",
    "import matplotlib.pyplot as plt\n",
    "\n",
    "from utils.spider_connectors import *\n",
    "from spider_analysis.db.tables_sizes import *"
   ]
  },
  {
   "cell_type": "code",
   "execution_count": null,
   "id": "946c6ac8",
   "metadata": {},
   "outputs": [],
   "source": [
    "araneae = Araneae()\n",
    "araneae.load()"
   ]
  }
 ],
 "metadata": {
  "kernelspec": {
   "display_name": "araneae",
   "language": "python",
   "name": "araneae"
  },
  "language_info": {
   "codemirror_mode": {
    "name": "ipython",
    "version": 3
   },
   "file_extension": ".py",
   "mimetype": "text/x-python",
   "name": "python",
   "nbconvert_exporter": "python",
   "pygments_lexer": "ipython3",
   "version": "3.8.8"
  }
 },
 "nbformat": 4,
 "nbformat_minor": 5
}
