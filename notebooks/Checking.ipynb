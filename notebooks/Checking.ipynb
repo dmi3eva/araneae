{
 "cells": [
  {
   "cell_type": "code",
   "execution_count": 2,
   "id": "66859b4a",
   "metadata": {},
   "outputs": [],
   "source": [
    "import sys  \n",
    "sys.path.insert(0, 'C:\\\\Users\\\\forka\\\\PycharmProjects\\\\araneae')\n",
    "\n",
    "import matplotlib.pyplot as plt\n",
    "\n",
    "from utils.spider_connectors import *\n",
    "from spider_analysis.db.tables_sizes import *"
   ]
  },
  {
   "cell_type": "code",
   "execution_count": 3,
   "id": "bb64433f",
   "metadata": {},
   "outputs": [],
   "source": [
    "ru_spider = RuSpiderDB()"
   ]
  },
  {
   "cell_type": "code",
   "execution_count": 12,
   "id": "fa51d21a",
   "metadata": {},
   "outputs": [
    {
     "data": {
      "text/plain": [
       "[(None,)]"
      ]
     },
     "execution_count": 12,
     "metadata": {},
     "output_type": "execute_result"
    }
   ],
   "source": [
    "db = \"csu_1\"\n",
    "query = \"SELECT avg(campusfee) FROM csu_fees WHERE YEAR = 2005\"\n",
    "result = ru_spider.execute_request(db, query)\n",
    "result"
   ]
  }
 ],
 "metadata": {
  "kernelspec": {
   "display_name": "araneae",
   "language": "python",
   "name": "araneae"
  },
  "language_info": {
   "codemirror_mode": {
    "name": "ipython",
    "version": 3
   },
   "file_extension": ".py",
   "mimetype": "text/x-python",
   "name": "python",
   "nbconvert_exporter": "python",
   "pygments_lexer": "ipython3",
   "version": "3.8.8"
  }
 },
 "nbformat": 4,
 "nbformat_minor": 5
}
