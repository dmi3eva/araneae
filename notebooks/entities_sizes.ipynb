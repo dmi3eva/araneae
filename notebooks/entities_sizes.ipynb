{
 "cells": [
  {
   "cell_type": "code",
   "execution_count": 1,
   "id": "e5aa80d4",
   "metadata": {},
   "outputs": [],
   "source": [
    "import sys  \n",
    "sys.path.insert(0, 'C:\\\\Users\\\\forka\\\\PycharmProjects\\\\araneae')\n",
    "\n",
    "import matplotlib.pyplot as plt\n",
    "\n",
    "from utils.spider_connectors import *\n",
    "from spider_analysis.db.tables_sizes import *"
   ]
  },
  {
   "cell_type": "code",
   "execution_count": 2,
   "id": "50f0f4ce",
   "metadata": {},
   "outputs": [],
   "source": [
    "en_spider = EnSpiderDB()\n",
    "ru_spider_old = RuSpiderDBOld()\n",
    "ru_spider_new = RuSpiderDB()"
   ]
  },
  {
   "cell_type": "code",
   "execution_count": null,
   "id": "d0d98d92",
   "metadata": {},
   "outputs": [],
   "source": [
    "en_all_table_sizes, en_unique_table_sizes = get_tables_sizes_statistics(en_spider)"
   ]
  },
  {
   "cell_type": "code",
   "execution_count": null,
   "id": "2f5706b1",
   "metadata": {},
   "outputs": [],
   "source": [
    "runew_all_table_sizes, runew_unique_table_sizes = get_tables_sizes_statistics(ru_spider_new)"
   ]
  },
  {
   "cell_type": "code",
   "execution_count": null,
   "id": "6cafdeab",
   "metadata": {},
   "outputs": [],
   "source": []
  }
 ],
 "metadata": {
  "kernelspec": {
   "display_name": "araneae",
   "language": "python",
   "name": "araneae"
  },
  "language_info": {
   "codemirror_mode": {
    "name": "ipython",
    "version": 3
   },
   "file_extension": ".py",
   "mimetype": "text/x-python",
   "name": "python",
   "nbconvert_exporter": "python",
   "pygments_lexer": "ipython3",
   "version": "3.8.8"
  }
 },
 "nbformat": 4,
 "nbformat_minor": 5
}
