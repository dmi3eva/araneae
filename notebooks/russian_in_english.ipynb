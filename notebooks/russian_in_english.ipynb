{
 "cells": [
  {
   "cell_type": "code",
   "execution_count": 1,
   "id": "a58b28dd",
   "metadata": {},
   "outputs": [],
   "source": [
    "import sys  \n",
    "sys.path.insert(0, 'C:\\\\Users\\\\forka\\\\PycharmProjects\\\\araneae')\n",
    "\n",
    "import matplotlib.pyplot as plt\n",
    "\n",
    "from utils.spider_connectors import *\n",
    "from spider_analysis.db.tables_sizes import *"
   ]
  },
  {
   "cell_type": "code",
   "execution_count": 2,
   "id": "ef7ce42a",
   "metadata": {},
   "outputs": [],
   "source": [
    "en_spider = EnSpiderDB()"
   ]
  },
  {
   "cell_type": "code",
   "execution_count": 3,
   "id": "3a147de7",
   "metadata": {},
   "outputs": [
    {
     "name": "stdout",
     "output_type": "stream",
     "text": [
      "0 / 4503\n",
      "500 / 4503\n",
      "1000 / 4503\n",
      "1500 / 4503\n",
      "2000 / 4503\n",
      "2500 / 4503\n",
      "3000 / 4503\n",
      "3500 / 4503\n",
      "4000 / 4503\n",
      "4500 / 4503\n"
     ]
    }
   ],
   "source": [
    "russian_fours = extract_russians(en_spider)"
   ]
  },
  {
   "cell_type": "code",
   "execution_count": 4,
   "id": "e42d5396",
   "metadata": {},
   "outputs": [
    {
     "data": {
      "text/plain": [
       "[('flight_4', 'airlines', 'name', ['Катэкавиа', 'Псковавиа', 'Аэросервис'])]"
      ]
     },
     "execution_count": 4,
     "metadata": {},
     "output_type": "execute_result"
    }
   ],
   "source": [
    "russian_fours"
   ]
  }
 ],
 "metadata": {
  "kernelspec": {
   "display_name": "araneae",
   "language": "python",
   "name": "araneae"
  },
  "language_info": {
   "codemirror_mode": {
    "name": "ipython",
    "version": 3
   },
   "file_extension": ".py",
   "mimetype": "text/x-python",
   "name": "python",
   "nbconvert_exporter": "python",
   "pygments_lexer": "ipython3",
   "version": "3.8.8"
  }
 },
 "nbformat": 4,
 "nbformat_minor": 5
}
