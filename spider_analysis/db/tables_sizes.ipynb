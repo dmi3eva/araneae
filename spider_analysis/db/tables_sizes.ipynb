{
 "cells": [
  {
   "cell_type": "code",
   "execution_count": 1,
   "id": "ba23ec62",
   "metadata": {},
   "outputs": [],
   "source": [
    "import sys  \n",
    "sys.path.insert(0, 'C:\\\\Users\\\\forka\\\\PycharmProjects\\\\araneae')"
   ]
  },
  {
   "cell_type": "code",
   "execution_count": 2,
   "id": "f2320394",
   "metadata": {},
   "outputs": [],
   "source": [
    "from utils.spider_connectors import *"
   ]
  },
  {
   "cell_type": "code",
   "execution_count": 3,
   "id": "886ebac8",
   "metadata": {},
   "outputs": [],
   "source": [
    "en_spider = EnSpiderDB()\n",
    "ru_spider_old = RuSpiderDBOld()\n",
    "ru_spider_new = RuSpiderDB()"
   ]
  },
  {
   "cell_type": "markdown",
   "id": "2b442cbb",
   "metadata": {},
   "source": [
    "### Проверяем, что таблицы совпадают"
   ]
  },
  {
   "cell_type": "code",
   "execution_count": 4,
   "id": "79ef7abb",
   "metadata": {},
   "outputs": [],
   "source": [
    "en_dbs = set(en_spider.extract_dbs())\n",
    "ru_old_dbs = set((ru_spider_old.extract_dbs())\n",
    "ru_new_dbs = set(ru_spider_new.extract_dbs())"
   ]
  },
  {
   "cell_type": "code",
   "execution_count": 6,
   "id": "7cf5b69a",
   "metadata": {
    "scrolled": true
   },
   "outputs": [
    {
     "data": {
      "text/plain": [
       "True"
      ]
     },
     "execution_count": 6,
     "metadata": {},
     "output_type": "execute_result"
    }
   ],
   "source": [
    "en_dbs == ru_old_dbs"
   ]
  },
  {
   "cell_type": "code",
   "execution_count": 7,
   "id": "37996a7a",
   "metadata": {},
   "outputs": [
    {
     "data": {
      "text/plain": [
       "True"
      ]
     },
     "execution_count": 7,
     "metadata": {},
     "output_type": "execute_result"
    }
   ],
   "source": [
    "ru_old_dbs == ru_new_dbs"
   ]
  },
  {
   "cell_type": "markdown",
   "id": "3cc65243",
   "metadata": {},
   "source": [
    "### Изучаем размеры таблиц"
   ]
  },
  {
   "cell_type": "code",
   "execution_count": null,
   "id": "b4d0d366",
   "metadata": {},
   "outputs": [],
   "source": []
  }
 ],
 "metadata": {
  "kernelspec": {
   "display_name": "araneae",
   "language": "python",
   "name": "araneae"
  },
  "language_info": {
   "codemirror_mode": {
    "name": "ipython",
    "version": 3
   },
   "file_extension": ".py",
   "mimetype": "text/x-python",
   "name": "python",
   "nbconvert_exporter": "python",
   "pygments_lexer": "ipython3",
   "version": "3.8.8"
  }
 },
 "nbformat": 4,
 "nbformat_minor": 5
}
